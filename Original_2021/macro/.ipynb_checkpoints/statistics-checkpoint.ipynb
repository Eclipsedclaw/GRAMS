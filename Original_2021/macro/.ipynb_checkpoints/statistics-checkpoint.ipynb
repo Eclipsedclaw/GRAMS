{
 "cells": [
  {
   "cell_type": "code",
   "execution_count": 46,
   "metadata": {},
   "outputs": [
    {
     "name": "stdout",
     "output_type": "stream",
     "text": [
      "finish reading data!\n"
     ]
    },
    {
     "ename": "TypeError",
     "evalue": "only integer scalar arrays can be converted to a scalar index",
     "output_type": "error",
     "traceback": [
      "\u001b[0;31m---------------------------------------------------------------------------\u001b[0m",
      "\u001b[0;31mTypeError\u001b[0m                                 Traceback (most recent call last)",
      "\u001b[0;32m<ipython-input-46-05ebeee61835>\u001b[0m in \u001b[0;36m<module>\u001b[0;34m\u001b[0m\n\u001b[1;32m     53\u001b[0m \u001b[0;34m\u001b[0m\u001b[0m\n\u001b[1;32m     54\u001b[0m \u001b[0;32mfor\u001b[0m \u001b[0mk\u001b[0m \u001b[0;32min\u001b[0m \u001b[0mrange\u001b[0m\u001b[0;34m(\u001b[0m\u001b[0mlen\u001b[0m\u001b[0;34m(\u001b[0m\u001b[0midentical\u001b[0m\u001b[0;34m)\u001b[0m\u001b[0;34m)\u001b[0m\u001b[0;34m:\u001b[0m\u001b[0;34m\u001b[0m\u001b[0;34m\u001b[0m\u001b[0m\n\u001b[0;32m---> 55\u001b[0;31m     \u001b[0;32mfor\u001b[0m \u001b[0mj\u001b[0m \u001b[0;32min\u001b[0m \u001b[0mrange\u001b[0m\u001b[0;34m(\u001b[0m\u001b[0mselection\u001b[0m\u001b[0;34m[\u001b[0m\u001b[0mk\u001b[0m\u001b[0;34m]\u001b[0m\u001b[0;34m)\u001b[0m\u001b[0;34m:\u001b[0m\u001b[0;34m\u001b[0m\u001b[0;34m\u001b[0m\u001b[0m\n\u001b[0m\u001b[1;32m     56\u001b[0m         \u001b[0;32mif\u001b[0m\u001b[0;34m(\u001b[0m\u001b[0mevent\u001b[0m\u001b[0;34m[\u001b[0m\u001b[0mi\u001b[0m\u001b[0;34m,\u001b[0m \u001b[0;36m3\u001b[0m\u001b[0;34m]\u001b[0m \u001b[0;34m==\u001b[0m \u001b[0;34m-\u001b[0m\u001b[0;36m2212\u001b[0m\u001b[0;34m)\u001b[0m\u001b[0;34m:\u001b[0m\u001b[0;34m\u001b[0m\u001b[0;34m\u001b[0m\u001b[0m\n\u001b[1;32m     57\u001b[0m             \u001b[0;32mif\u001b[0m\u001b[0;34m(\u001b[0m\u001b[0mselection\u001b[0m\u001b[0;34m[\u001b[0m\u001b[0mj\u001b[0m\u001b[0;34m,\u001b[0m \u001b[0;36m6\u001b[0m\u001b[0;34m]\u001b[0m \u001b[0;34m==\u001b[0m \u001b[0;34m'LAr'\u001b[0m\u001b[0;34m)\u001b[0m\u001b[0;34m:\u001b[0m\u001b[0;34m\u001b[0m\u001b[0;34m\u001b[0m\u001b[0m\n",
      "\u001b[0;31mTypeError\u001b[0m: only integer scalar arrays can be converted to a scalar index"
     ]
    }
   ],
   "source": [
    "\"\"\"\n",
    "Statistics: count difference between anti-deuteron and anti-proton\n",
    "@aurthor Jiancheng Zeng\n",
    "@July 15 2021\n",
    "\n",
    "\"\"\"\n",
    "\n",
    "import numpy as np\n",
    "import matplotlib.pyplot as plt\n",
    "import statistics\n",
    "from numpy import array\n",
    "import pandas as pd\n",
    "\n",
    "case1 = 0\n",
    "case2 = 0\n",
    "case3 = 0\n",
    "case4 = 0\n",
    "event = []\n",
    "identical = []\n",
    "\n",
    "\"\"\"\n",
    "Select by name of the column\n",
    "---------------------\n",
    "\"\"\"\n",
    "title = [\"eventID\", \"trackID\", \"parentID\", \"particleID\", \"copyNb1 (mother volume)\", \"copyNb\", \"material\", \"time (ns)\", \"energy(MeV)\", \"energy deposit(MeV)\", \"parent process name\", \"process name\", \"px (MeV/c)\", \"py (MeV/c)\", \"pz (MeV/c)\", \"step length (cm)\", \"x (cm)\", \"y (cm)\", \"z (cm)\"]\n",
    "\n",
    "\"\"\"\n",
    "Read data from total data file\n",
    "--------------------\n",
    "\"\"\"\n",
    "data = pd.read_table(\"/Users/jiancheng/CloudDocuments/Documents/GitHub/Geant4-simulation/Original_2021/output/test.dat\")    #get data file\n",
    "print(\"finish reading data!\")\n",
    "\n",
    "\"\"\"\n",
    "selection\n",
    "\"\"\"\n",
    "\n",
    "for i in range(0, len(data.iloc[:,0])):\n",
    "    if(0 <= data.iloc[i,2] <= 1):\n",
    "        event.append(list(data.iloc[i,:]))\n",
    "event = np.array(event)\n",
    "\n",
    "s = 0\n",
    "temp = 1;\n",
    "while s < len(event[:,0]):\n",
    "    if(int(event[s,0]) == temp):\n",
    "        identical.append(s)\n",
    "        temp = temp + 1\n",
    "    s = s + 1\n",
    "\n",
    "#print(identical)\n",
    "selection = np.split(event, identical)\n",
    "\n",
    "for k in range(len(identical)):\n",
    "    for j in range(selection[k]):\n",
    "        if(event[i, 3] == -2212):\n",
    "            if(selection[j, 6] == 'LAr'):\n",
    "                case3 = case3 + 1\n",
    "            else:\n",
    "                case2 = case2 + 1\n",
    "        else:\n",
    "            if(selection[j, 18] < 0 and selection[j, 6] != 'LAr'):\n",
    "                case1 = case1 + 1\n",
    "            else:\n",
    "                case4 = case4 + 1\n",
    "\n",
    "\"\"\"\n",
    "with open('/Users/jiancheng/CloudDocuments/Documents/GitHub/Geant4-simulation/stats/data/test.txt', 'w') as f:\n",
    "    for item in event:\n",
    "        f.write(\"%s\\n\" % item)\n",
    "\"\"\"\n",
    "\n",
    "print(\"\\n\", case1, \"\\n\", case2, \"\\n\", case3, \"\\n\", case4, \"\\n\")\n",
    "print(\"finished!\")\n"
   ]
  },
  {
   "cell_type": "code",
   "execution_count": null,
   "metadata": {},
   "outputs": [],
   "source": []
  },
  {
   "cell_type": "code",
   "execution_count": null,
   "metadata": {},
   "outputs": [],
   "source": []
  }
 ],
 "metadata": {
  "kernelspec": {
   "display_name": "Python 3",
   "language": "python",
   "name": "python3"
  },
  "language_info": {
   "codemirror_mode": {
    "name": "ipython",
    "version": 3
   },
   "file_extension": ".py",
   "mimetype": "text/x-python",
   "name": "python",
   "nbconvert_exporter": "python",
   "pygments_lexer": "ipython3",
   "version": "3.8.5"
  }
 },
 "nbformat": 4,
 "nbformat_minor": 4
}
