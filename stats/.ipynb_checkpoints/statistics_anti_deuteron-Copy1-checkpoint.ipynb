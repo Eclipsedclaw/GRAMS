{
 "cells": [
  {
   "cell_type": "code",
   "execution_count": 148,
   "metadata": {},
   "outputs": [],
   "source": [
    "\"\"\"\n",
    "Statistics: count difference between anti-deuteron and anti-proton\n",
    "@aurthor Jiancheng Zeng\n",
    "@July 15 2021\n",
    "\n",
    "\"\"\""
   ]
  },
  {
   "cell_type": "code",
   "execution_count": 1,
   "metadata": {},
   "outputs": [
    {
     "name": "stdout",
     "output_type": "stream",
     "text": [
      "Reading data ...\n",
      "finish reading data!\n",
      "Modifing data ...\n",
      "Modifing process:99%\n",
      " Recognize events ...\n",
      "Recognizing process:100%\n",
      " Selecting ...\n",
      "hIoni\n",
      "selection progress:0%\r"
     ]
    },
    {
     "name": "stderr",
     "output_type": "stream",
     "text": [
      "/var/folders/jy/kzbmcbld7cxb685lxm7tb8p80000gn/T/ipykernel_44801/824278059.py:60: DeprecationWarning: `np.int` is a deprecated alias for the builtin `int`. To silence this warning, use `int` by itself. Doing this will not modify any behavior and is safe. When replacing `np.int`, you may wish to use e.g. `np.int64` or `np.int32` to specify the precision. If you wish to review your current use, check the release note link for additional information.\n",
      "Deprecated in NumPy 1.20; for more details and guidance: https://numpy.org/devdocs/release/1.20.0-notes.html#deprecations\n",
      "  dtype=np.int\n",
      "/Users/jiancheng/.local/lib/python3.9/site-packages/numpy/core/_asarray.py:102: VisibleDeprecationWarning: Creating an ndarray from ragged nested sequences (which is a list-or-tuple of lists-or-tuples-or ndarrays with different lengths or shapes) is deprecated. If you meant to do this, you must specify 'dtype=object' when creating the ndarray.\n",
      "  return array(a, dtype, copy=False, order=order)\n"
     ]
    },
    {
     "ename": "NameError",
     "evalue": "name 'case4len' is not defined",
     "output_type": "error",
     "traceback": [
      "\u001b[0;31m---------------------------------------------------------------------------\u001b[0m",
      "\u001b[0;31mNameError\u001b[0m                                 Traceback (most recent call last)",
      "\u001b[0;32m/var/folders/jy/kzbmcbld7cxb685lxm7tb8p80000gn/T/ipykernel_44801/824278059.py\u001b[0m in \u001b[0;36m<module>\u001b[0;34m\u001b[0m\n\u001b[1;32m     86\u001b[0m     \u001b[0;32mif\u001b[0m\u001b[0;34m(\u001b[0m\u001b[0mcase\u001b[0m\u001b[0;34m[\u001b[0m\u001b[0mk\u001b[0m\u001b[0;34m]\u001b[0m \u001b[0;34m==\u001b[0m \u001b[0;36m4\u001b[0m\u001b[0;34m)\u001b[0m\u001b[0;34m:\u001b[0m\u001b[0;34m\u001b[0m\u001b[0;34m\u001b[0m\u001b[0m\n\u001b[1;32m     87\u001b[0m         \u001b[0mcase4\u001b[0m\u001b[0;34m.\u001b[0m\u001b[0mextend\u001b[0m\u001b[0;34m(\u001b[0m\u001b[0marray\u001b[0m\u001b[0;34m(\u001b[0m\u001b[0mselection\u001b[0m\u001b[0;34m[\u001b[0m\u001b[0mk\u001b[0m\u001b[0;34m]\u001b[0m\u001b[0;34m)\u001b[0m\u001b[0;34m)\u001b[0m\u001b[0;34m\u001b[0m\u001b[0;34m\u001b[0m\u001b[0m\n\u001b[0;32m---> 88\u001b[0;31m         \u001b[0mcase4len\u001b[0m\u001b[0;34m.\u001b[0m\u001b[0mappend\u001b[0m\u001b[0;34m(\u001b[0m\u001b[0mlen\u001b[0m\u001b[0;34m(\u001b[0m\u001b[0mselection\u001b[0m\u001b[0;34m[\u001b[0m\u001b[0mk\u001b[0m\u001b[0;34m]\u001b[0m\u001b[0;34m)\u001b[0m\u001b[0;34m)\u001b[0m\u001b[0;34m\u001b[0m\u001b[0;34m\u001b[0m\u001b[0m\n\u001b[0m\u001b[1;32m     89\u001b[0m     \u001b[0mprint\u001b[0m\u001b[0;34m(\u001b[0m\u001b[0;34m\"selection progress:\"\u001b[0m\u001b[0;34m+\u001b[0m\u001b[0mstr\u001b[0m\u001b[0;34m(\u001b[0m\u001b[0mint\u001b[0m\u001b[0;34m(\u001b[0m\u001b[0;36m100\u001b[0m\u001b[0;34m*\u001b[0m\u001b[0mk\u001b[0m\u001b[0;34m/\u001b[0m\u001b[0mlen\u001b[0m\u001b[0;34m(\u001b[0m\u001b[0midentical\u001b[0m\u001b[0;34m)\u001b[0m\u001b[0;34m)\u001b[0m\u001b[0;34m)\u001b[0m\u001b[0;34m+\u001b[0m\u001b[0;34m\"%\"\u001b[0m\u001b[0;34m,\u001b[0m \u001b[0mend\u001b[0m\u001b[0;34m=\u001b[0m\u001b[0;34m'\\r'\u001b[0m\u001b[0;34m)\u001b[0m\u001b[0;34m\u001b[0m\u001b[0;34m\u001b[0m\u001b[0m\n\u001b[1;32m     90\u001b[0m \u001b[0;34m\u001b[0m\u001b[0m\n",
      "\u001b[0;31mNameError\u001b[0m: name 'case4len' is not defined"
     ]
    }
   ],
   "source": [
    "import numpy as np\n",
    "import matplotlib.pyplot as plt\n",
    "import statistics\n",
    "from numpy import array\n",
    "import pandas as pd\n",
    "\n",
    "case1 = []\n",
    "case2 = []\n",
    "case3 = []\n",
    "case4 = []\n",
    "vector = []\n",
    "event = []\n",
    "identical = []\n",
    "case4len = []\n",
    "\n",
    "En = 80\n",
    "\n",
    "\"\"\"\n",
    "Select by name of the column\n",
    "---------------------\n",
    "\"\"\"\n",
    "title = [\"eventID\", \"trackID\", \"parentID\", \"particleID\", \"copyNb1 (mother volume)\", \"copyNb\", \"material\", \"time (ns)\", \"energy(MeV)\", \"energy deposit(MeV)\", \"parent process name\", \"process name\", \"px (MeV/c)\", \"py (MeV/c)\", \"pz (MeV/c)\", \"step length (cm)\", \"x (cm)\", \"y (cm)\", \"z (cm)\"]\n",
    "\n",
    "\"\"\"\n",
    "Read data from total data file\n",
    "--------------------\n",
    "\"\"\"\n",
    "print(\"Reading data ...\")\n",
    "data = pd.read_table(\"/Users/jiancheng/GRAMS/Toy Model/Machine Learning/210822_anti_deuteron_80MeV.dat\")    #get data file\n",
    "print(\"finish reading data!\")\n",
    "\n",
    "\"\"\"\n",
    "modification\n",
    "\"\"\"\n",
    "print(\"Modifing data ...\")\n",
    "for i in range(0, len(data.iloc[:,0])):\n",
    "    if(0 <= data.iloc[i,2] <= 1):\n",
    "        event.append(list(data.iloc[i,:]))\n",
    "    print(\"Modifing process:\"+str(int(100*i/len(data.iloc[:,0])))+\"%\", end='\\r')\n",
    "event = np.array(event)\n",
    "\n",
    "\n",
    "\"\"\"\n",
    "recognize the data file length distribution\n",
    "\"\"\"\n",
    "print(\"\\n Recognize events ...\")\n",
    "s = 0\n",
    "temp = 1;\n",
    "while s < len(event[:,0]):\n",
    "    if(int(event[s,0]) == temp):\n",
    "        identical.append(s)\n",
    "        temp = temp + 1\n",
    "    s = s + 1\n",
    "    print(\"Recognizing process:\"+str(int(100*s/len(event[:,0])))+\"%\", end='\\r')\n",
    "    #time.sleep(0.001)\n",
    "selection = np.split(event, identical)\n",
    "\n",
    "case = np.full(\n",
    "  shape=len(identical)+1,\n",
    "  fill_value=1,\n",
    "  dtype=int\n",
    ")\n",
    "\n",
    "np.savetxt('/Users/jiancheng/GRAMS/Toy Model/Machine Learning/210822_anti_deuteron_80MeV_modified.txt', selection, fmt='%s')\n",
    "\n",
    "\n",
    "\"\"\"\n",
    "counting\n",
    "\"\"\"\n",
    "print(\"\\n Selecting ...\")\n",
    "print(selection[2][14][11])\n",
    "for k in range(len(identical)+1):\n",
    "    for j in range(selection[k].shape[0]):\n",
    "        case[k] = 4\n",
    "        if(str(selection[k][j][3]) == '-2112'):\n",
    "            case[k] = 2\n",
    "            break\n",
    "        elif(str(selection[k][j][3]) == '-2212'):\n",
    "            case[k] = 3\n",
    "            break\n",
    "    if(case[k] == 1):\n",
    "        case1.extend(array(selection[k]))\n",
    "    if(case[k] == 2):\n",
    "        case2.extend(array(selection[k]))\n",
    "    if(case[k] == 3):\n",
    "        case3.extend(array(selection[k]))\n",
    "    if(case[k] == 4):\n",
    "        case4.extend(array(selection[k]))\n",
    "        case4len.append(len(selection[k]))\n",
    "    print(\"selection progress:\"+str(int(100*k/len(identical)))+\"%\", end='\\r')\n",
    "\n",
    "\"\"\"\n",
    "save different kind of evnets to different files\n",
    "\"\"\"\n",
    "np.savetxt(\"/Users/jiancheng/GRAMS/Toy Model/Machine Learning/210822_anti_deuteron_80MeV/case1.txt\", case1, delimiter = \",  \", fmt = \"%s\")\n",
    "np.savetxt(\"/Users/jiancheng/GRAMS/Toy Model/Machine Learning/210822_anti_deuteron_80MeV/case2.txt\", case2, delimiter = \",  \", fmt = \"%s\")\n",
    "np.savetxt(\"/Users/jiancheng/GRAMS/Toy Model/Machine Learning/210822_anti_deuteron_80MeV/case3.txt\", case3, delimiter = \",  \", fmt = \"%s\")\n",
    "np.savetxt(\"/Users/jiancheng/GRAMS/Toy Model/Machine Learning/210822_anti_deuteron_80MeV/case4.txt\", case4, delimiter = \",  \", fmt = \"%s\")\n",
    "\n",
    "print(\"\\n 100% finished!\")\n",
    "\n",
    "\n",
    "plt.hist(case)\n",
    "plt.xlabel('cases')\n",
    "plt.ylabel('number of events')\n",
    "plt.title('anti-deuteron')\n",
    "plt.grid()\n",
    "plt.show()\n",
    "print(case)\n",
    "#print(\"\\n\", case1, \"\\n\", case2, \"\\n\", case3, \"\\n\", case4, \"\\n\")\n",
    "print(\"finished!\")"
   ]
  },
  {
   "cell_type": "code",
   "execution_count": 4,
   "metadata": {},
   "outputs": [
    {
     "name": "stdout",
     "output_type": "stream",
     "text": [
      "case2:14.13%\n",
      "case3:14.51%\n",
      "case4:71.36%\n"
     ]
    }
   ],
   "source": [
    "\"\"\"\n",
    "display event pecentage\n",
    "\"\"\"\n",
    "print(\"case2:\"+str(sum(case == 2)*100/(len(identical)+1))+\"%\")\n",
    "print(\"case3:\"+str(sum(case == 3)*100/(len(identical)+1))+\"%\")\n",
    "print(\"case4:\"+str(sum(case == 4)*100/(len(identical)+1))+\"%\")"
   ]
  },
  {
   "cell_type": "code",
   "execution_count": 5,
   "metadata": {},
   "outputs": [
    {
     "name": "stdout",
     "output_type": "stream",
     "text": [
      "Done! Vector saved!\n"
     ]
    }
   ],
   "source": [
    "PeD = [None] * sum(case == 4)    #Penetration depth\n",
    "EnD = [None] * sum(case == 4)    #Energy deposit\n",
    "NuPip = [0] * sum(case == 4)     #Number of pion+\n",
    "NuPim = [0] * sum(case == 4)     #Number of pion-\n",
    "NuPi0 = [0] * sum(case == 4)     #Number of neutral pion\n",
    "NuP = [0] * sum(case == 4)       #Number of proton\n",
    "XRay = [0] * sum(case == 4)      #X-ray\n",
    "lDetecter = 2000                 #detector depth\n",
    "temp = 0\n",
    "\n",
    "\"\"\"\n",
    "find penatration depth, number of pions and X-ray\n",
    "\"\"\"\n",
    "for i in range(sum(case == 4)):\n",
    "    for j in range(case4len[i]):\n",
    "        if(case4[temp + j][3] != '-1000010020'):\n",
    "            PeD[i] = case4[temp + j - 1][18]\n",
    "            EnD[i] = En - float(case4[temp + j - 2][8])\n",
    "            break\n",
    "    for k in range(case4len[i]-1):\n",
    "        if(case4[temp + k][1] != case4[temp + k+1][1]):\n",
    "            if(case4[temp + k][3] == '211'):\n",
    "                NuPip[i] = NuPip[i] + 1\n",
    "            elif(case4[temp + k][3] == '-211'):\n",
    "                NuPim[i] = NuPim[i] + 1\n",
    "            elif(case4[temp + k][3] == '111'):\n",
    "                NuPi0[i] = NuPi0[i] + 1\n",
    "            elif(case4[temp + k][3] == '2212'):\n",
    "                NuP[i] = NuP[i] + 1\n",
    "    if(case4[temp + case4len[i] - 1][3] == '211'):    #specify last track\n",
    "        NuPip[i] = NuPip[i] + 1\n",
    "    elif(case4[temp + case4len[i] - 1][3] == '-211'):\n",
    "        NuPim[i] = NuPim[i] + 1\n",
    "    elif(case4[temp + case4len[i] - 1][3] == '111'):\n",
    "        NuPi0[i] = NuPi0[i] + 1\n",
    "    elif(case4[temp + case4len[i] - 1][3] == '2212'):\n",
    "        NuP[i] = NuP[i] + 1\n",
    "    temp = temp + case4len[i]\n",
    "    \n",
    "\n",
    "\"\"\"\n",
    "print(\"penetration depth:\")\n",
    "print(PeD)\n",
    "print(\"\\n number of pi+:\")\n",
    "print(NuPip)\n",
    "print(\"\\n number of pi-:\")\n",
    "print(NuPim)\n",
    "print(\"\\n number of pi0:\")\n",
    "print(NuPi0)\n",
    "print(\"\\n number of proton:\")\n",
    "print(NuP)\n",
    "\"\"\"\n",
    "\n",
    "vector=[PeD, EnD, NuPip, NuPim, NuPi0, NuP]    #vector content follow by: Penetration depth, energy diposit, number of positive pions, number of negative pions, number of neutral pions, number of protons\n",
    "vector=np.transpose(vector)\n",
    "\n",
    "np.savetxt('/Users/jiancheng/GRAMS/Toy Model/Machine Learning/210812_anti_deuteron_80MeV_vector.txt', vector, delimiter = '\\t ', fmt='%.6s')\n",
    "print(\"Done! Vector saved!\")\n"
   ]
  },
  {
   "cell_type": "code",
   "execution_count": 4,
   "metadata": {},
   "outputs": [
    {
     "ename": "ModuleNotFoundError",
     "evalue": "No module named 'corner'",
     "output_type": "error",
     "traceback": [
      "\u001b[0;31m---------------------------------------------------------------------------\u001b[0m",
      "\u001b[0;31mModuleNotFoundError\u001b[0m                       Traceback (most recent call last)",
      "\u001b[0;32m<ipython-input-4-00c2ccfb184b>\u001b[0m in \u001b[0;36m<module>\u001b[0;34m\u001b[0m\n\u001b[0;32m----> 1\u001b[0;31m \u001b[0;32mimport\u001b[0m \u001b[0mcorner\u001b[0m\u001b[0;34m\u001b[0m\u001b[0;34m\u001b[0m\u001b[0m\n\u001b[0m\u001b[1;32m      2\u001b[0m \u001b[0;32mimport\u001b[0m \u001b[0mnumpy\u001b[0m \u001b[0;32mas\u001b[0m \u001b[0mnp\u001b[0m\u001b[0;34m\u001b[0m\u001b[0;34m\u001b[0m\u001b[0m\n\u001b[1;32m      3\u001b[0m \u001b[0;34m\u001b[0m\u001b[0m\n\u001b[1;32m      4\u001b[0m \u001b[0mndim\u001b[0m\u001b[0;34m,\u001b[0m \u001b[0mnsamples\u001b[0m \u001b[0;34m=\u001b[0m \u001b[0;36m2\u001b[0m\u001b[0;34m,\u001b[0m \u001b[0;36m10000\u001b[0m\u001b[0;34m\u001b[0m\u001b[0;34m\u001b[0m\u001b[0m\n\u001b[1;32m      5\u001b[0m \u001b[0mnp\u001b[0m\u001b[0;34m.\u001b[0m\u001b[0mrandom\u001b[0m\u001b[0;34m.\u001b[0m\u001b[0mseed\u001b[0m\u001b[0;34m(\u001b[0m\u001b[0;36m42\u001b[0m\u001b[0;34m)\u001b[0m\u001b[0;34m\u001b[0m\u001b[0;34m\u001b[0m\u001b[0m\n",
      "\u001b[0;31mModuleNotFoundError\u001b[0m: No module named 'corner'"
     ]
    }
   ],
   "source": [
    "ndim, nsamples = 2, 10000\n",
    "np.random.seed(42)\n",
    "samples = np.random.randn(ndim * nsamples).reshape([nsamples, ndim])\n",
    "figure = corner.corner(samples)"
   ]
  },
  {
   "cell_type": "code",
   "execution_count": null,
   "metadata": {},
   "outputs": [],
   "source": []
  }
 ],
 "metadata": {
  "kernelspec": {
   "display_name": "Python 3 (ipykernel)",
   "language": "python",
   "name": "python3"
  },
  "language_info": {
   "codemirror_mode": {
    "name": "ipython",
    "version": 3
   },
   "file_extension": ".py",
   "mimetype": "text/x-python",
   "name": "python",
   "nbconvert_exporter": "python",
   "pygments_lexer": "ipython3",
   "version": "3.9.6"
  }
 },
 "nbformat": 4,
 "nbformat_minor": 4
}
