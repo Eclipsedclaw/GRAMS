{
 "cells": [
  {
   "cell_type": "code",
   "execution_count": 34,
   "metadata": {},
   "outputs": [
    {
     "name": "stdout",
     "output_type": "stream",
     "text": [
      "Reading data ...\n",
      "finish reading data!\n",
      "Modifing data ...\n",
      "Modifing process:99%\n",
      " Recognize events ...\n",
      "Recognizing process:100%\n",
      " Selecting ...\n",
      "hIoni\n",
      "selection progress:100%\n",
      " 100% finished!\n"
     ]
    },
    {
     "data": {
      "image/png": "[encoded data removed]",
      "text/plain": [
       "<Figure size 432x288 with 1 Axes>"
      ]
     },
     "metadata": {
      "needs_background": "light"
     },
     "output_type": "display_data"
    },
    {
     "name": "stdout",
     "output_type": "stream",
     "text": [
      "[3 4 4 ... 2 4 2]\n",
      "finished!\n"
     ]
    }
   ],
   "source": [
    "\"\"\"\n",
    "Statistics: count difference between anti-deuteron and anti-proton\n",
    "@aurthor Jiancheng Zeng\n",
    "@July 15 2021\n",
    "\n",
    "\"\"\"\n",
    "\n",
    "import numpy as np\n",
    "import matplotlib.pyplot as plt\n",
    "import statistics\n",
    "from numpy import array\n",
    "import pandas as pd\n",
    "\n",
    "case1 = []\n",
    "case2 = []\n",
    "case3 = []\n",
    "case4 = []\n",
    "vector = []\n",
    "event = []\n",
    "identical = []\n",
    "\n",
    "\"\"\"\n",
    "Select by name of the column\n",
    "---------------------\n",
    "\"\"\"\n",
    "title = [\"eventID\", \"trackID\", \"parentID\", \"particleID\", \"copyNb1 (mother volume)\", \"copyNb\", \"material\", \"time (ns)\", \"energy(MeV)\", \"energy deposit(MeV)\", \"parent process name\", \"process name\", \"px (MeV/c)\", \"py (MeV/c)\", \"pz (MeV/c)\", \"step length (cm)\", \"x (cm)\", \"y (cm)\", \"z (cm)\"]\n",
    "\n",
    "\"\"\"\n",
    "Read data from total data file\n",
    "--------------------\n",
    "\"\"\"\n",
    "print(\"Reading data ...\")\n",
    "data = pd.read_table(\"/Users/jiancheng/GRAMS/Toy Model/Machine Learning/210810_anti_deuteron_80MeV.dat\")    #get data file\n",
    "print(\"finish reading data!\")\n",
    "\n",
    "\"\"\"\n",
    "selection\n",
    "\"\"\"\n",
    "print(\"Modifing data ...\")\n",
    "for i in range(0, len(data.iloc[:,0])):\n",
    "    if(0 <= data.iloc[i,2] <= 1):\n",
    "        event.append(list(data.iloc[i,:]))\n",
    "    print(\"Modifing process:\"+str(int(100*i/len(data.iloc[:,0])))+\"%\", end='\\r')\n",
    "event = np.array(event)\n",
    "\n",
    "\n",
    "\"\"\"\n",
    "recognize the data file length distribution\n",
    "\"\"\"\n",
    "print(\"\\n Recognize events ...\")\n",
    "s = 0\n",
    "temp = 1;\n",
    "while s < len(event[:,0]):\n",
    "    if(int(event[s,0]) == temp):\n",
    "        identical.append(s)\n",
    "        temp = temp + 1\n",
    "    s = s + 1\n",
    "    print(\"Recognizing process:\"+str(int(100*s/len(event[:,0])))+\"%\", end='\\r')\n",
    "    #time.sleep(0.001)\n",
    "selection = np.split(event, identical)\n",
    "\n",
    "case = np.full(\n",
    "  shape=len(identical)+1,\n",
    "  fill_value=1,\n",
    "  dtype=np.int\n",
    ")\n",
    "\n",
    "np.savetxt('/Users/jiancheng/GRAMS/Toy Model/Machine Learning/210810_anti_deuteron_80MeV_Modified.txt', selection, fmt='%s')\n",
    "\n",
    "\"\"\"\n",
    "counting\n",
    "\"\"\"\n",
    "print(\"\\n Selecting ...\")\n",
    "print(selection[2][14][11])\n",
    "for k in range(len(identical)+1):\n",
    "    for j in range(selection[k].shape[0]):\n",
    "        case[k] = 4\n",
    "        if(str(selection[k][j][3]) == '-2112'):\n",
    "            case[k] = 2\n",
    "            break\n",
    "        elif(str(selection[k][j][3]) == '-2212'):\n",
    "            case[k] = 3\n",
    "            break\n",
    "    if(case[k] == 1):\n",
    "        case1.extend(array(selection[k]))\n",
    "    if(case[k] == 2):\n",
    "        case2.extend(array(selection[k]))\n",
    "    if(case[k] == 3):\n",
    "        case3.extend(array(selection[k]))\n",
    "    if(case[k] == 4):\n",
    "        case4.extend(array(selection[k]))\n",
    "    print(\"selection progress:\"+str(int(100*k/len(identical)))+\"%\", end='\\r')\n",
    "\n",
    "\"\"\"\n",
    "save different kind of evnets to different files\n",
    "\"\"\"\n",
    "np.savetxt(\"/Users/jiancheng/GRAMS/Toy Model/Machine Learning/210810_anti_deuteron_80MeV/case1.txt\", case1, delimiter = \",  \", fmt = \"%s\")\n",
    "np.savetxt(\"/Users/jiancheng/GRAMS/Toy Model/Machine Learning/210810_anti_deuteron_80MeV/case2.txt\", case2, delimiter = \",  \", fmt = \"%s\")\n",
    "np.savetxt(\"/Users/jiancheng/GRAMS/Toy Model/Machine Learning/210810_anti_deuteron_80MeV/case3.txt\", case3, delimiter = \",  \", fmt = \"%s\")\n",
    "np.savetxt(\"/Users/jiancheng/GRAMS/Toy Model/Machine Learning/210810_anti_deuteron_80MeV/case4.txt\", case4, delimiter = \",  \", fmt = \"%s\")\n",
    "\n",
    "print(\"\\n 100% finished!\")\n",
    "\n",
    "\n",
    "plt.hist(case)\n",
    "plt.xlabel('cases')\n",
    "plt.ylabel('number of events')\n",
    "plt.title('anti-deuteron')\n",
    "plt.grid()\n",
    "plt.show()\n",
    "print(case)\n",
    "#print(\"\\n\", case1, \"\\n\", case2, \"\\n\", case3, \"\\n\", case4, \"\\n\")\n",
    "print(\"finished!\")\n",
    "\n"
   ]
  },
  {
   "cell_type": "code",
   "execution_count": 42,
   "metadata": {},
   "outputs": [
    {
     "name": "stdout",
     "output_type": "stream",
     "text": [
      "case2:14.13%\n",
      "case3:14.51%\n",
      "case4:71.36%\n"
     ]
    }
   ],
   "source": [
    "print(\"case2:\"+str(sum(case == 2)/100)+\"%\")\n",
    "print(\"case3:\"+str(sum(case == 3)/100)+\"%\")\n",
    "print(\"case4:\"+str(sum(case == 4)/100)+\"%\")"
   ]
  },
  {
   "cell_type": "code",
   "execution_count": null,
   "metadata": {},
   "outputs": [],
   "source": []
  }
 ],
 "metadata": {
  "kernelspec": {
   "display_name": "Python 3",
   "language": "python",
   "name": "python3"
  },
  "language_info": {
   "codemirror_mode": {
    "name": "ipython",
    "version": 3
   },
   "file_extension": ".py",
   "mimetype": "text/x-python",
   "name": "python",
   "nbconvert_exporter": "python",
   "pygments_lexer": "ipython3",
   "version": "3.8.5"
  }
 },
 "nbformat": 4,
 "nbformat_minor": 4
}
