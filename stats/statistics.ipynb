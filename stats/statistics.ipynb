{
 "cells": [
  {
   "cell_type": "code",
   "execution_count": 152,
   "metadata": {},
   "outputs": [
    {
     "name": "stdout",
     "output_type": "stream",
     "text": [
      "Reading data ...\n",
      "finish reading data!\n",
      "Modifing data ...\n",
      "Modifing process:99%\n",
      " Recognize events ...\n",
      "Recognizing process:100%\n",
      " Selecting ...\n",
      "selection progress:94%\n",
      " 100% finished!\n"
     ]
    },
    {
     "data": {
      "image/png": "[encoded data removed]",
      "text/plain": [
       "<Figure size 432x288 with 1 Axes>"
      ]
     },
     "metadata": {
      "needs_background": "light"
     },
     "output_type": "display_data"
    },
    {
     "name": "stdout",
     "output_type": "stream",
     "text": [
      "[4 4 3 3 4 4 4 4 3 4 4 4 4 4 4 3 4 4 3 4]\n",
      "finished!\n"
     ]
    }
   ],
   "source": [
    "\"\"\"\n",
    "Statistics: count difference between anti-deuteron and anti-proton\n",
    "@aurthor Jiancheng Zeng\n",
    "@July 15 2021\n",
    "\n",
    "\"\"\"\n",
    "\n",
    "import numpy as np\n",
    "import matplotlib.pyplot as plt\n",
    "import statistics\n",
    "from numpy import array\n",
    "import pandas as pd\n",
    "\n",
    "case1 = 0\n",
    "case2 = 0\n",
    "case3 = 0\n",
    "case4 = 0\n",
    "event = []\n",
    "identical = []\n",
    "\n",
    "\"\"\"\n",
    "Select by name of the column\n",
    "---------------------\n",
    "\"\"\"\n",
    "title = [\"eventID\", \"trackID\", \"parentID\", \"particleID\", \"copyNb1 (mother volume)\", \"copyNb\", \"material\", \"time (ns)\", \"energy(MeV)\", \"energy deposit(MeV)\", \"parent process name\", \"process name\", \"px (MeV/c)\", \"py (MeV/c)\", \"pz (MeV/c)\", \"step length (cm)\", \"x (cm)\", \"y (cm)\", \"z (cm)\"]\n",
    "\n",
    "\"\"\"\n",
    "Read data from total data file\n",
    "--------------------\n",
    "\"\"\"\n",
    "print(\"Reading data ...\")\n",
    "data = pd.read_table(\"/Users/jiancheng/CloudDocuments/Documents/GitHub/Geant4-simulation/Original_2021/output/test.dat\")    #get data file\n",
    "print(\"finish reading data!\")\n",
    "\n",
    "\"\"\"\n",
    "selection\n",
    "\"\"\"\n",
    "print(\"Modifing data ...\")\n",
    "for i in range(0, len(data.iloc[:,0])):\n",
    "    if(0 <= data.iloc[i,2] <= 1):\n",
    "        event.append(list(data.iloc[i,:]))\n",
    "    print(\"Modifing process:\"+str(int(100*i/len(data.iloc[:,0])))+\"%\", end='\\r')\n",
    "event = np.array(event)\n",
    "\n",
    "\n",
    "\"\"\"\n",
    "recognize the data file length distribution\n",
    "\"\"\"\n",
    "print(\"\\n Recognize events ...\")\n",
    "s = 0\n",
    "temp = 1;\n",
    "while s < len(event[:,0]):\n",
    "    if(int(event[s,0]) == temp):\n",
    "        identical.append(s)\n",
    "        temp = temp + 1\n",
    "    s = s + 1\n",
    "    print(\"Recognizing process:\"+str(int(100*s/len(event[:,0])))+\"%\", end='\\r')\n",
    "    #time.sleep(0.001)\n",
    "selection = np.split(event, identical)\n",
    "\n",
    "case = np.full(\n",
    "  shape=len(identical)+1,\n",
    "  fill_value=4,\n",
    "  dtype=np.int\n",
    ")\n",
    "\n",
    "\"\"\"\n",
    "counting\n",
    "\"\"\"\n",
    "print(\"\\n Selecting ...\")\n",
    "\n",
    "for k in range(len(identical)):\n",
    "    for j in range(selection[k].shape[0]):\n",
    "        for l in range(j, selection[k].shape[0]):\n",
    "            if(selection[k][l][3] == '-2212'):\n",
    "                if(str(selection[1][150][6]) == 'LAr'):\n",
    "                    case[k] = 3\n",
    "                else:\n",
    "                    case[k] = 2\n",
    "                break  \n",
    "        else:\n",
    "            case[k] = 4\n",
    "            continue\n",
    "        break\n",
    "    print(\"selection progress:\"+str(int(100*k/len(identical)))+\"%\", end='\\r')\n",
    "    #time.sleep(0.1)\n",
    "\n",
    "print(\"\\n 100% finished!\")\n",
    "\"\"\"\n",
    "if(l == selection[k].shape[0]):\n",
    "                if(selection[k][l][3] != '-2212' and float(selection[k][j][18]) < 0 and str(selection[k][j][6]) != 'LAr'):\n",
    "                    case1 = case1 + 1\n",
    "                else:\n",
    "                    case4 = case4 + 1\n",
    "\"\"\"\n",
    "\n",
    "plt.hist(case)\n",
    "plt.xlabel('test')\n",
    "plt.ylabel('number of events')\n",
    "plt.title('anti-deuteron')\n",
    "plt.show()\n",
    "print(case)\n",
    "#print(\"\\n\", case1, \"\\n\", case2, \"\\n\", case3, \"\\n\", case4, \"\\n\")\n",
    "print(\"finished!\")\n"
   ]
  },
  {
   "cell_type": "code",
   "execution_count": null,
   "metadata": {},
   "outputs": [],
   "source": []
  }
 ],
 "metadata": {
  "kernelspec": {
   "display_name": "Python 3",
   "language": "python",
   "name": "python3"
  },
  "language_info": {
   "codemirror_mode": {
    "name": "ipython",
    "version": 3
   },
   "file_extension": ".py",
   "mimetype": "text/x-python",
   "name": "python",
   "nbconvert_exporter": "python",
   "pygments_lexer": "ipython3",
   "version": "3.8.5"
  }
 },
 "nbformat": 4,
 "nbformat_minor": 4
}
