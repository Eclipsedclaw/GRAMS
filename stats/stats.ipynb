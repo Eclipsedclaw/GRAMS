{
 "cells": [
  {
   "cell_type": "code",
   "execution_count": 1,
   "id": "a203085d-2e81-408f-a03b-64e91de5f8c6",
   "metadata": {},
   "outputs": [
    {
     "data": {
      "text/plain": [
       "'\\nGRASP new design calculation for GRAMS\\n@aurthor Jiancheng Zeng\\n@Oct 20 2021\\n'"
      ]
     },
     "execution_count": 1,
     "metadata": {},
     "output_type": "execute_result"
    }
   ],
   "source": [
    "\"\"\"\n",
    "GRASP new design calculation for GRAMS\n",
    "@aurthor Jiancheng Zeng\n",
    "@Oct 20 2021\n",
    "\"\"\""
   ]
  },
  {
   "cell_type": "code",
   "execution_count": 1,
   "id": "b6c8fdbf-2ef0-4e12-ac63-852d6bdfd1dc",
   "metadata": {},
   "outputs": [],
   "source": [
    "import numpy as np\n",
    "import matplotlib.pyplot as plt\n",
    "import statistics\n",
    "from numpy import array\n",
    "import pandas as pd\n",
    "import math\n",
    "pd.set_option('display.float_format', lambda x: '%0.4f' % x)"
   ]
  },
  {
   "cell_type": "code",
   "execution_count": 3,
   "id": "549d7f35-f8c6-4aee-ac6f-93cd0c102bc1",
   "metadata": {},
   "outputs": [
    {
     "name": "stdout",
     "output_type": "stream",
     "text": [
      "Reading data ...\n",
      "finish reading data!\n",
      "Modifing data ...\n",
      "Modifing process:99%\n",
      " Recognize events ...\n",
      "Recognizing process:99%\n",
      " Recognizing finished!\n"
     ]
    }
   ],
   "source": [
    "event = []\n",
    "identical = []\n",
    "\n",
    "\"\"\"\n",
    "Select by name of the column\n",
    "---------------------\n",
    "\"\"\"\n",
    "title = [\"eventID\", \"trackID\", \"parentID\", \"particleID\", \"copyNb1 (mother volume)\", \"copyNb\", \"material\", \"time (ns)\", \"energy(MeV)\", \"energy deposit(MeV)\", \"parent process name\", \"process name\", \"px (MeV/c)\", \"py (MeV/c)\", \"pz (MeV/c)\", \"step length (cm)\", \"x (cm)\", \"y (cm)\", \"z (cm)\"]\n",
    "\n",
    "\"\"\"\n",
    "Read data from total data file\n",
    "--------------------\n",
    "\"\"\"\n",
    "print(\"Reading data ...\")\n",
    "#data = pd.read_table(\"/Users/jiancheng/GRAMS/Toy Model/Machine Learning/210824_anti_proton_250MeV_Lin.dat\")    #get data file\n",
    "data = pd.read_table(\"/home/aramakilab/GRAMS/GRAMS/GRAMS_2021/output/anti_He3/GRASP_anti_He3_5e7_MeV.dat\")\n",
    "print(\"finish reading data!\")\n",
    "\n",
    "\"\"\"\n",
    "modification\n",
    "\"\"\"\n",
    "print(\"Modifing data ...\")\n",
    "for i in range(0, len(data.iloc[:,0])):\n",
    "    if(0 <= data.iloc[i,2] <= 1):\n",
    "        event.append(list(data.iloc[i,:]))\n",
    "    print(\"Modifing process:\"+str(int(100*i/len(data.iloc[:,0])))+\"%\", end='\\r')\n",
    "event = np.array(event)\n",
    "\n",
    "\n",
    "\"\"\"\n",
    "recognize the data file length distribution\n",
    "\"\"\"\n",
    "print(\"\\n Recognize events ...\")\n",
    "s = 0\n",
    "for s in range(len(event[:,0])-1):\n",
    "    if(int(event[s,0]) != int(event[s+1,0])):\n",
    "        identical.append(s+1)\n",
    "    print(\"Recognizing process:\"+str(int(100*s/len(event[:,0])))+\"%\", end='\\r')\n",
    "    #time.sleep(0.001)\n",
    "selection = np.split(event, identical)\n",
    "\n",
    "identical.append(len(event))\n",
    "\n",
    "print(\"\\n Recognizing finished!\")"
   ]
  },
  {
   "cell_type": "code",
   "execution_count": 8,
   "id": "390a79f6-b76d-4d59-a385-436a001b19d6",
   "metadata": {},
   "outputs": [
    {
     "name": "stdout",
     "output_type": "stream",
     "text": [
      "TOF data process:99%\n",
      " identification:finished!\n",
      "finished!\n"
     ]
    },
    {
     "data": {
      "image/png": "[encoded data removed]",
      "text/plain": [
       "<Figure size 432x288 with 1 Axes>"
      ]
     },
     "metadata": {
      "needs_background": "light"
     },
     "output_type": "display_data"
    }
   ],
   "source": [
    "TOF_out_He3bar_E = []\n",
    "TOF_out_He3bar_T = []\n",
    "TOF_in_He3bar_E = []\n",
    "TOF_in_He3bar_T = []\n",
    "index = []\n",
    "angle = []\n",
    "\n",
    "for i in range(len(selection)):\n",
    "    tempout = 0\n",
    "    tempin = 0\n",
    "    tempout_T = 0\n",
    "    tempin_T = 0\n",
    "    event_out = 0\n",
    "    event_in = 0\n",
    "    for k in range(selection[i].shape[0]):\n",
    "        if(selection[i][k][6] == 'LAr' and selection[i][k][3] == '-1000020030'):\n",
    "            for m in range(k):\n",
    "                if(selection[i][m][5] == '-10000' or selection[i][m][5] == '-10001' or selection[i][m][5] == '-10002' or selection[i][m][5] == '-10003' or selection[i][m][5] == '-10005' or selection[i][m][5] == '-10006' and selection[i][m][3] == '-1000020030'):\n",
    "                #if(selection[i][m][5] == '-11004' and selection[i][m][3] == '-2212'):\n",
    "                    tempin = tempin + float(selection[i][m][9])\n",
    "                    if(selection[i][m-1][5] != '-10000' or selection[i][m-1][5] != '-10001' or selection[i][m-1][5] != '-10002' or selection[i][m-1][5] != '-10003' or selection[i][m-1][5] != '-10005' or selection[i][m-1][5] != '-10006' and section[i][m][6] == 'Plastic'):\n",
    "                        tempin_T = selection[i][m][7]\n",
    "                        event_in = m\n",
    "                #elif(selection[i][m][5] == '-10000' or selection[i][m][5] == '-10005' and selection[i][m][3] == '-2212'):\n",
    "                elif(selection[i][m][5] == '-11000' or selection[i][m][5] == '-11001' or selection[i][m][5] == '-11002' or selection[i][m][5] == '-11003' or selection[i][m][5] == '-11005' or selection[i][m][5] == '-11006' and selection[i][m][3] == '-1000020030'):\n",
    "                    tempout = tempout + float(selection[i][m][9])\n",
    "                    if(selection[i][m-1][5] != '-11000' or selection[i][m-1][5] != '-11001' or selection[i][m-1][5] != '-11002' or selection[i][m-1][5] != '-11003' or selection[i][m-1][5] != '-11005' or selection[i][m-1][5] != '-11006' and section[i][m][6] == 'Plastic'):\n",
    "                        tempin_T = selection[i][m][7]\n",
    "                        event_out = m\n",
    "            theta = np.arctan(np.sqrt((float(selection[i][event_out][17])-float(selection[i][event_in][17])) ** 2 + (float(selection[i][event_out][16])-float(selection[i][event_in][16])) ** 2)/(float(selection[i][event_in][18])-float(selection[i][event_out][18])))\n",
    "#            theta0 = np.arctan((210 - float(selection[i][0][18]))/np.sqrt((float(selection[i][0][17])-0) ** 2 + (float(selection[i][0][16])-0) ** 2))\n",
    "            if(tempin != 0 and tempout != 0):\n",
    "                TOF_out_He3bar_E.append(tempout)\n",
    "                TOF_in_He3bar_E.append(tempin)\n",
    "                index.append(selection[i][k][0])\n",
    "                TOF_out_He3bar_T.append(tempout_T)\n",
    "                TOF_in_He3bar_T.append(tempin_T)\n",
    "                angle.append(int(theta * 18 / math.pi))\n",
    "            break\n",
    "    print(\"TOF data process:\"+str(int(100*i/len(selection)))+\"%\", end='\\r')\n",
    "\n",
    "print(\"\\n identification:finished!\")\n",
    "\n",
    "index = array([float(i) for i in index])\n",
    "time_He3bar = array([float(i) for i in TOF_in_He3bar_T]) - array([float(i) for i in TOF_out_He3bar_T])\n",
    "dEOut_He3bar = array([float(i) for i in TOF_out_He3bar_E])\n",
    "dEIn_He3bar = array([float(i) for i in TOF_in_He3bar_E])\n",
    "angle = array([float(i) for i in angle])\n",
    "#plt.scatter(time_He3bar, dE_He3bar)\n",
    "anti_He3 = np.array([index, dEOut_He3bar, dEIn_He3bar, time_He3bar, angle]).transpose()\n",
    "plt.scatter(time_He3bar, dEOut_He3bar, marker = '.', color = 'b', label = 'TOF out layer')\n",
    "plt.scatter(time_He3bar, dEIn_He3bar, marker = '.', color = 'r', label = 'TOF inner layer')\n",
    "plt.title('antiHe3 TOF')\n",
    "plt.xlabel('Time [ns]')\n",
    "plt.ylabel('Energy diposit')\n",
    "plt.legend(loc='lower right')\n",
    "#plt.axis([0, 20, 0, 10])\n",
    "plt.grid(alpha = 0.2)\n",
    "\n",
    "#plt.axis([0, 20, 0, 10])\n",
    "plt.grid(alpha = 0.2)\n",
    "#np.savetxt('/Users/jiancheng/CloudDocuments/Documents/Github/GRAMS/GRAMS_2021/output/TOF/TOF_anti_proton_1e7_0_500_45_4_result.txt', anti_proton, delimiter = '\\t ', fmt='%.6s')\n",
    "with open(\"/home/aramakilab/GRAMS/GRAMS_local/data/New_model_anti_He3.txt\", \"ab\") as f:    #input file\n",
    "#with open(\"/Users/jiancheng/CloudDocuments/Documents/Github/GRAMS/GRAMS_2021/output/TOF/test.txt\", \"ab\") as f:    #test run\n",
    "    #f.write(b\"\\n\")\n",
    "    np.savetxt(f, anti_He3)\n",
    "print(\"finished!\")\n",
    "\n"
   ]
  },
  {
   "cell_type": "code",
   "execution_count": 9,
   "id": "fd0fd913-6bd2-4bad-ada5-c5ba3ac53572",
   "metadata": {},
   "outputs": [
    {
     "data": {
      "text/plain": [
       "<matplotlib.legend.Legend at 0x7f1628a1ae50>"
      ]
     },
     "execution_count": 9,
     "metadata": {},
     "output_type": "execute_result"
    },
    {
     "data": {
      "image/png": "[encoded data removed]",
      "text/plain": [
       "<Figure size 432x288 with 1 Axes>"
      ]
     },
     "metadata": {
      "needs_background": "light"
     },
     "output_type": "display_data"
    }
   ],
   "source": [
    "plt.scatter(time_He3bar, angle, marker = '.', color = 'b', label = 'angle')\n",
    "plt.title('antiHe3 angle')\n",
    "plt.xlabel('Time [ns]')\n",
    "plt.ylabel('angle')\n",
    "plt.legend(loc='lower right')"
   ]
  },
  {
   "cell_type": "code",
   "execution_count": 10,
   "id": "aff45bfe-c5a0-4d87-949a-aa7be5143811",
   "metadata": {},
   "outputs": [
    {
     "name": "stdout",
     "output_type": "stream",
     "text": [
      "[12824, 35603, 52818, 62056, 61132, 49919, 31696, 11748, 222]\n"
     ]
    },
    {
     "data": {
      "image/png": "[encoded data removed]",
      "text/plain": [
       "<Figure size 432x288 with 1 Axes>"
      ]
     },
     "metadata": {
      "needs_background": "light"
     },
     "output_type": "display_data"
    }
   ],
   "source": [
    "count = []\n",
    "for i in range(9):\n",
    "    count.append((angle == i).sum())\n",
    "print(count)\n",
    "x=[0, 10, 20, 30, 40, 50, 60, 70, 80, 90]\n",
    "ratio = np.array(count)/len(angle)\n",
    "center = x[:-1] + np.diff(x) / 2\n",
    "plt.plot(center, ratio, '.--', color='b', alpha=0.3)\n",
    "plt.plot(np.repeat(x, 2), np.hstack([ratio[0], np.repeat(ratio, 2), ratio[-1]]),\n",
    "         '.', color='b', alpha=0.23)\n",
    "plt.stairs(ratio , x, baseline=None, label='antiHe3 in flight', color='cornflowerblue', alpha=0.99)\n",
    "plt.xlabel(\"angle/degree\")\n",
    "plt.ylabel(\"ratio\")\n",
    "plt.legend()\n",
    "plt.grid(alpha=0.2)\n",
    "plt.title('Number of events ratio vs angle')\n",
    "plt.savefig(\"./Number of events vs angle.jpg\")"
   ]
  },
  {
   "cell_type": "code",
   "execution_count": 2,
   "id": "16e81859-13ae-42a6-83ef-5b884aa2ab98",
   "metadata": {
    "tags": []
   },
   "outputs": [
    {
     "name": "stdout",
     "output_type": "stream",
     "text": [
      "Reading data ...\n",
      "finish reading data!\n",
      "\n",
      " Recognize events ...\n",
      "Recognizing process:99%\r"
     ]
    },
    {
     "ename": "IndexError",
     "evalue": "index 7354444 is out of bounds for axis 0 with size 7354444",
     "output_type": "error",
     "traceback": [
      "\u001b[0;31m---------------------------------------------------------------------------\u001b[0m",
      "\u001b[0;31mIndexError\u001b[0m                                Traceback (most recent call last)",
      "\u001b[0;32m/tmp/ipykernel_62992/4234871278.py\u001b[0m in \u001b[0;36m<module>\u001b[0;34m\u001b[0m\n\u001b[1;32m     34\u001b[0m \u001b[0ms\u001b[0m \u001b[0;34m=\u001b[0m \u001b[0;36m0\u001b[0m\u001b[0;34m\u001b[0m\u001b[0;34m\u001b[0m\u001b[0m\n\u001b[1;32m     35\u001b[0m \u001b[0;32mfor\u001b[0m \u001b[0ms\u001b[0m \u001b[0;32min\u001b[0m \u001b[0mrange\u001b[0m\u001b[0;34m(\u001b[0m\u001b[0mlen\u001b[0m\u001b[0;34m(\u001b[0m\u001b[0mdata\u001b[0m\u001b[0;34m[\u001b[0m\u001b[0;34m:\u001b[0m\u001b[0;34m,\u001b[0m\u001b[0;36m0\u001b[0m\u001b[0;34m]\u001b[0m\u001b[0;34m)\u001b[0m\u001b[0;34m)\u001b[0m\u001b[0;34m:\u001b[0m\u001b[0;34m\u001b[0m\u001b[0;34m\u001b[0m\u001b[0m\n\u001b[0;32m---> 36\u001b[0;31m     \u001b[0;32mif\u001b[0m\u001b[0;34m(\u001b[0m\u001b[0mint\u001b[0m\u001b[0;34m(\u001b[0m\u001b[0mdata\u001b[0m\u001b[0;34m[\u001b[0m\u001b[0ms\u001b[0m\u001b[0;34m]\u001b[0m\u001b[0;34m[\u001b[0m\u001b[0;36m0\u001b[0m\u001b[0;34m]\u001b[0m\u001b[0;34m)\u001b[0m \u001b[0;34m!=\u001b[0m \u001b[0mint\u001b[0m\u001b[0;34m(\u001b[0m\u001b[0mdata\u001b[0m\u001b[0;34m[\u001b[0m\u001b[0ms\u001b[0m\u001b[0;34m+\u001b[0m\u001b[0;36m1\u001b[0m\u001b[0;34m]\u001b[0m\u001b[0;34m[\u001b[0m\u001b[0;36m0\u001b[0m\u001b[0;34m]\u001b[0m\u001b[0;34m)\u001b[0m\u001b[0;34m)\u001b[0m\u001b[0;34m:\u001b[0m\u001b[0;34m\u001b[0m\u001b[0;34m\u001b[0m\u001b[0m\n\u001b[0m\u001b[1;32m     37\u001b[0m         \u001b[0midentical\u001b[0m\u001b[0;34m.\u001b[0m\u001b[0mappend\u001b[0m\u001b[0;34m(\u001b[0m\u001b[0ms\u001b[0m\u001b[0;34m+\u001b[0m\u001b[0;36m1\u001b[0m\u001b[0;34m)\u001b[0m\u001b[0;34m\u001b[0m\u001b[0;34m\u001b[0m\u001b[0m\n\u001b[1;32m     38\u001b[0m     \u001b[0mprint\u001b[0m\u001b[0;34m(\u001b[0m\u001b[0;34m\"Recognizing process:\"\u001b[0m\u001b[0;34m+\u001b[0m\u001b[0mstr\u001b[0m\u001b[0;34m(\u001b[0m\u001b[0mint\u001b[0m\u001b[0;34m(\u001b[0m\u001b[0;36m100\u001b[0m\u001b[0;34m*\u001b[0m\u001b[0ms\u001b[0m\u001b[0;34m/\u001b[0m\u001b[0mlen\u001b[0m\u001b[0;34m(\u001b[0m\u001b[0mdata\u001b[0m\u001b[0;34m[\u001b[0m\u001b[0;34m:\u001b[0m\u001b[0;34m,\u001b[0m\u001b[0;36m0\u001b[0m\u001b[0;34m]\u001b[0m\u001b[0;34m)\u001b[0m\u001b[0;34m)\u001b[0m\u001b[0;34m)\u001b[0m\u001b[0;34m+\u001b[0m\u001b[0;34m\"%\"\u001b[0m\u001b[0;34m,\u001b[0m \u001b[0mend\u001b[0m\u001b[0;34m=\u001b[0m\u001b[0;34m'\\r'\u001b[0m\u001b[0;34m)\u001b[0m\u001b[0;34m\u001b[0m\u001b[0;34m\u001b[0m\u001b[0m\n",
      "\u001b[0;31mIndexError\u001b[0m: index 7354444 is out of bounds for axis 0 with size 7354444"
     ]
    }
   ],
   "source": [
    "event = []\n",
    "identical = []\n",
    "\n",
    "\"\"\"\n",
    "Select by name of the column\n",
    "---------------------\n",
    "\"\"\"\n",
    "title = [\"eventID\", \"trackID\", \"parentID\", \"particleID\", \"copyNb1 (mother volume)\", \"copyNb\", \"material\", \"time (ns)\", \"energy(MeV)\", \"energy deposit(MeV)\", \"parent process name\", \"process name\", \"px (MeV/c)\", \"py (MeV/c)\", \"pz (MeV/c)\", \"step length (cm)\", \"x (cm)\", \"y (cm)\", \"z (cm)\"]\n",
    "\n",
    "\"\"\"\n",
    "Read data from total data file\n",
    "--------------------\n",
    "\"\"\"\n",
    "print(\"Reading data ...\")\n",
    "#data = pd.read_table(\"/Users/jiancheng/GRAMS/Toy Model/Machine Learning/210824_anti_proton_250MeV_Lin.dat\")    #get data file\n",
    "data = np.array(pd.read_table(\"/home/aramakilab/GRAMS/GRAMS/GRAMS_2021/output/anti_proton/GRASP_anti_proton_5e7_MeV.dat\"))\n",
    "print(\"finish reading data!\")\n",
    "\n",
    "\"\"\"\n",
    "modification\n",
    "\n",
    "print(\"Modifing data ...\")\n",
    "for i in range(0, len(data.iloc[:,0])):\n",
    "    if(0 <= data.iloc[i,2] <= 1):\n",
    "        event.append(list(data.iloc[i,:]))\n",
    "    print(\"Modifing process:\"+str(int(100*i/len(data.iloc[:,0])))+\"%\", end='\\r')\n",
    "event = np.array(event)\n",
    "\"\"\"\n",
    "\n",
    "\"\"\"\n",
    "recognize the data file length distribution\n",
    "\"\"\"\n",
    "print(\"\\n Recognize events ...\")\n",
    "s = 0\n",
    "for s in range(len(data[:,0])):\n",
    "    if(int(data[s][0]) != int(data[s+1][0])):\n",
    "        identical.append(s+1)\n",
    "    print(\"Recognizing process:\"+str(int(100*s/len(data[:,0])))+\"%\", end='\\r')\n",
    "    #time.sleep(0.001)\n",
    "selection = np.split(data, identical)\n",
    "\n",
    "print(\"\\n Recognizing finished!\")"
   ]
  },
  {
   "cell_type": "code",
   "execution_count": null,
   "id": "4e627f4a-6462-4536-9118-57e13d1a5886",
   "metadata": {},
   "outputs": [],
   "source": [
    "TOF_out_pbar_E = []\n",
    "TOF_out_pbar_T = []\n",
    "TOF_in_pbar_E = []\n",
    "TOF_in_pbar_T = []\n",
    "index_p = []\n",
    "angle_p = []\n",
    "\n",
    "for i in range(len(selection)):\n",
    "    tempout = 0\n",
    "    tempin = 0\n",
    "    tempout_T = 0\n",
    "    tempin_T = 0\n",
    "    event_in = 0\n",
    "    event_out = 0\n",
    "    for k in range(selection[i].shape[0]):\n",
    "        if(selection[i][k][6] == 'LAr' and selection[i][k][3] == '-2212'):\n",
    "            for m in range(k):\n",
    "                if(selection[i][m][5] == '-10000' or selection[i][m][5] == '-10001' or selection[i][m][5] == '-10002' or selection[i][m][5] == '-10003' or selection[i][m][5] == '-10005' or selection[i][m][5] == '-10006' and selection[i][m][3] == '-2212'):\n",
    "                #if(selection[i][m][5] == '-11004' and selection[i][m][3] == '-2212'):\n",
    "                    tempin = tempin + float(selection[i][m][9])\n",
    "                    if(selection[i][m-1][5] != '-10000' or selection[i][m-1][5] != '-10001' or selection[i][m-1][5] != '-10002' or selection[i][m-1][5] != '-10003' or selection[i][m-1][5] != '-10005' or selection[i][m-1][5] != '-10006' and section[i][m][6] == 'Plastic'):\n",
    "                        tempin_T = selection[i][m][7]\n",
    "                        event_in = m\n",
    "                #elif(selection[i][m][5] == '-10000' or selection[i][m][5] == '-10005' and selection[i][m][3] == '-2212'):\n",
    "                elif(selection[i][m][5] == '-11000' or selection[i][m][5] == '-11001' or selection[i][m][5] == '-11002' or selection[i][m][5] == '-11003' or selection[i][m][5] == '-11005' or selection[i][m][5] == '-11006' and selection[i][m][3] == '-2212'):\n",
    "                    tempout = tempout + float(selection[i][m][9])\n",
    "                    if(selection[i][m-1][5] != '-11000' or selection[i][m-1][5] != '-11001' or selection[i][m-1][5] != '-11002' or selection[i][m-1][5] != '-11003' or selection[i][m-1][5] != '-11005' or selection[i][m-1][5] != '-11006' and section[i][m][6] == 'Plastic'):\n",
    "                        tempin_T = selection[i][m][7]\n",
    "                        event_out = m\n",
    "            theta = np.arctan(np.sqrt((float(selection[i][event_out][17])-float(selection[i][event_in][17])) ** 2 + (float(selection[i][event_out][16])-float(selection[i][event_in][16])) ** 2)/(float(selection[i][event_out][18])-float(selection[i][event_in][18])))\n",
    "#            theta0 = np.arctan((210 - float(selection[i][0][18]))/np.sqrt((float(selection[i][0][17])-0) ** 2 + (float(selection[i][0][16])-0) ** 2))\n",
    "            if(tempin != 0 and tempout != 0):\n",
    "                TOF_out_pbar_E.append(tempout)\n",
    "                TOF_in_pbar_E.append(tempin)\n",
    "                index_p.append(selection[i][k][0])\n",
    "                TOF_out_pbar_T.append(tempout_T)\n",
    "                TOF_in_pbar_T.append(tempin_T)\n",
    "                angle.append(int(theta * 18 / math.pi))\n",
    "            break\n",
    "    print(\"TOF data process:\"+str(int(100*i/len(selection)))+\"%\", end='\\r')\n",
    "\n",
    "print(\"\\n identification:finished!\")\n",
    "\n",
    "index_p = array([float(i) for i in index_p])\n",
    "time_pbar = array([float(i) for i in TOF_in_pbar_T]) - array([float(i) for i in TOF_out_pbar_T])\n",
    "dEOut_pbar = array([float(i) for i in TOF_out_pbar_E])\n",
    "dEIn_pbar = array([float(i) for i in TOF_in_pbar_E])\n",
    "angle = array([float(i) for i in angle])\n",
    "#plt.scatter(time_pbar, dE_pbar)\n",
    "anti_p = np.array([index_p, dEOut_pbar, dEIn_pbar, time_pbar, angle]).transpose()\n",
    "plt.scatter(time_pbar, dEOut_pbar, marker = '.', color = 'b', label = 'TOF out layer')\n",
    "plt.scatter(time_pbar, dEIn_pbar, marker = '.', color = 'r', label = 'TOF inner layer')\n",
    "plt.title('antiproton TOF')\n",
    "plt.xlabel('Time [ns]')\n",
    "plt.ylabel('Energy diposit')\n",
    "plt.legend(loc='lower right')\n",
    "#plt.axis([0, 20, 0, 10])\n",
    "plt.grid(alpha = 0.2)\n",
    "\n",
    "#plt.axis([0, 20, 0, 10])\n",
    "plt.grid(alpha = 0.2)\n",
    "#np.savetxt('/Users/jiancheng/CloudDocuments/Documents/Github/GRAMS/GRAMS_2021/output/TOF/TOF_anti_proton_1e7_0_500_45_4_result.txt', anti_proton, delimiter = '\\t ', fmt='%.6s')\n",
    "with open(\"/home/aramakilab/GRAMS/GRAMS_local/data/New_model_anti_proton.txt\", \"ab\") as f:    #input file\n",
    "#with open(\"/Users/jiancheng/CloudDocuments/Documents/Github/GRAMS/GRAMS_2021/output/TOF/test.txt\", \"ab\") as f:    #test run\n",
    "    #f.write(b\"\\n\")\n",
    "    np.savetxt(f, anti_p)\n",
    "print(\"finished!\")\n",
    "\n"
   ]
  },
  {
   "cell_type": "code",
   "execution_count": null,
   "id": "6bd55923-985e-4d75-bbba-de55b96218be",
   "metadata": {},
   "outputs": [],
   "source": [
    "plt.scatter(time_pbar, angle, marker = '.', color = 'b', label = 'angle')\n",
    "plt.title('antiproton angle')\n",
    "plt.xlabel('Time [ns]')\n",
    "plt.ylabel('angle')\n",
    "plt.legend(loc='lower right')"
   ]
  },
  {
   "cell_type": "code",
   "execution_count": null,
   "id": "7cd14a9c-747a-4f95-a6fa-b7e646740ec3",
   "metadata": {},
   "outputs": [],
   "source": [
    "count = []\n",
    "for i in range(9):\n",
    "    count.append((angle == i).sum())\n",
    "print(count)\n",
    "x=[0, 10, 20, 30, 40, 50, 60, 70, 80, 90]\n",
    "ratio = np.array(count)/len(angle)\n",
    "center = x[:-1] + np.diff(x) / 2\n",
    "plt.plot(center, ratio, '.--', color='b', alpha=0.3)\n",
    "plt.plot(np.repeat(x, 2), np.hstack([ratio[0], np.repeat(ratio, 2), ratio[-1]]),\n",
    "         '.', color='b', alpha=0.23)\n",
    "plt.stairs(ratio , x, baseline=None, label='antiproton in flight', color='cornflowerblue', alpha=0.99)\n",
    "plt.xlabel(\"angle/degree\")\n",
    "plt.ylabel(\"ratio\")\n",
    "plt.legend()\n",
    "plt.grid(alpha=0.2)\n",
    "plt.title('Number of events ratio vs angle')\n",
    "plt.savefig(\"./Number of events vs angle.jpg\")"
   ]
  },
  {
   "cell_type": "code",
   "execution_count": null,
   "id": "fe31fd75-4d56-48fd-acfd-8788de7dc369",
   "metadata": {},
   "outputs": [],
   "source": []
  }
 ],
 "metadata": {
  "kernelspec": {
   "display_name": "Python 3 (ipykernel)",
   "language": "python",
   "name": "python3"
  },
  "language_info": {
   "codemirror_mode": {
    "name": "ipython",
    "version": 3
   },
   "file_extension": ".py",
   "mimetype": "text/x-python",
   "name": "python",
   "nbconvert_exporter": "python",
   "pygments_lexer": "ipython3",
   "version": "3.9.7"
  }
 },
 "nbformat": 4,
 "nbformat_minor": 5
}
