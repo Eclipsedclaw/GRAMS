{
 "cells": [
  {
   "cell_type": "code",
   "execution_count": 1,
   "metadata": {},
   "outputs": [
    {
     "data": {
      "text/plain": [
       "'\\nGRASP new design calculation for GRAMS\\n@aurthor Jiancheng Zeng\\n@Oct 20 2021\\n'"
      ]
     },
     "execution_count": 1,
     "metadata": {},
     "output_type": "execute_result"
    }
   ],
   "source": [
    "\"\"\"\n",
    "GRASP new design calculation for GRAMS\n",
    "@aurthor Jiancheng Zeng\n",
    "@Oct 20 2021\n",
    "\"\"\""
   ]
  },
  {
   "cell_type": "code",
   "execution_count": 47,
   "metadata": {},
   "outputs": [],
   "source": [
    "import numpy as np\n",
    "import matplotlib.pyplot as plt\n",
    "import statistics\n",
    "from numpy import array\n",
    "import pandas as pd\n",
    "import math\n",
    "import time\n",
    "pd.set_option('display.float_format', lambda x: '%0.4f' % x)"
   ]
  },
  {
   "cell_type": "code",
   "execution_count": 70,
   "metadata": {},
   "outputs": [
    {
     "name": "stdout",
     "output_type": "stream",
     "text": [
      "Reading data ...\n",
      "finish reading data!\n",
      "Modifing data ...\n",
      "TOF data process:99%\n",
      " identification:finished!\n",
      "finished!\n"
     ]
    }
   ],
   "source": [
    "\"\"\"\n",
    "Select by name of the column\n",
    "---------------------\n",
    "\"\"\"\n",
    "title = [\"eventID\", \"trackID\", \"parentID\", \"particleID\", \"copyNb1 (mother volume)\", \"copyNb\", \"material\", \"time (ns)\", \"energy(MeV)\", \"energy deposit(MeV)\", \"parent process name\", \"process name\", \"px (MeV/c)\", \"py (MeV/c)\", \"pz (MeV/c)\", \"step length (cm)\", \"x (cm)\", \"y (cm)\", \"z (cm)\"]\n",
    "\n",
    "\"\"\"\n",
    "Read data from total data file\n",
    "--------------------\n",
    "\"\"\"\n",
    "print(\"Reading data ...\")\n",
    "#data = pd.read_table(\"/Users/jiancheng/GRAMS/Toy Model/Machine Learning/210824_anti_proton_250MeV_Lin.dat\")    #get data file\n",
    "data = np.array(pd.read_table(\"/Users/jiancheng/GRAMS/data/rawdata/Old_TPC140_GRASP_anti_proton_5e7_MeV.dat\"))\n",
    "print(\"finish reading data!\")\n",
    "\n",
    "\"\"\"\n",
    "modification\n",
    "\"\"\"\n",
    "Particle_Type = -2212    #[antiproton]-2212    [antideuteron]-1000010020    [antiHe3]-1000020030\n",
    "TOF_out_pbar_E = []\n",
    "TOF_out_pbar_T = []\n",
    "TOF_in_pbar_E = []\n",
    "TOF_in_pbar_T = []\n",
    "index_pbar = []\n",
    "angle_pbar = []\n",
    "distance_pbar = []\n",
    "PeD_pbar = []\n",
    "PeD_pbar_z = []\n",
    "TOF_out_pbar_side = []\n",
    "Init_Energy = []\n",
    "Nevent = -1\n",
    "Stop_Events = []\n",
    "\n",
    "print(\"Modifing data ...\")\n",
    "for i in range(len(data[:,0])-1):\n",
    "#for i in range(27):\n",
    "    Nevent = Nevent + 1\n",
    "    if(data[i][0] != data[i+1][0]):\n",
    "        for k in range(Nevent+1):\n",
    "            #print(float(data[i-Nevent+k][3]) == float(Particle_Type))\n",
    "            #if(str(data[i-Nevent+k][6]) == 'LAr' and float(data[i-Nevent+k][3]) == float(Particle_Type) and str(data[i][8]) == str(data[i][9])):    #Stop events only\n",
    "            if(str(data[i-Nevent+k][6]) == 'LAr' and float(data[i-Nevent+k][3]) == float(Particle_Type)):    #including stop events and annihilation in flight events\n",
    "                event_in = 0\n",
    "                event_out = 0\n",
    "                tempin = 0\n",
    "                tempout = 0\n",
    "                tempin_T = 0\n",
    "                TOF_out_p = 0\n",
    "                TOF_in_p = 0\n",
    "                d_from_top = 0\n",
    "                for m in range(k):\n",
    "                    if(int(data[i-Nevent+m][5]) == -10000 or int(data[i-Nevent+m][5]) == -10001 or int(data[i-Nevent+m][5]) == -10002 or int(data[i-Nevent+m][5]) == -10003 or int(data[i-Nevent+m][5]) == -10004 or int(data[i-Nevent+m][5]) == -10005 and float(data[i-Nevent+m][3]) == float(Particle_Type)):\n",
    "                    #if(int(data[i-Nevent+m][5]) == -11004 and float(data[i-Nevent+m][3]) == float(Particle_Type)):\n",
    "                        tempout = tempout + float(data[i-Nevent+m][9])\n",
    "                        if(int(data[i-Nevent+m-1][5]) != -10000 and int(data[i-Nevent+m-1][5]) != -10001 and int(data[i-Nevent+m-1][5]) != -10002 and int(data[i-Nevent+m-1][5]) != -10003 and int(data[i-Nevent+m-1][5]) != -10004 and int(data[i-Nevent+m-1][5]) != -10005 or int(data[i-Nevent+m][5]) == -10000 or int(data[i-Nevent+m][5]) == -10001 or int(data[i-Nevent+m][5]) == -10002 or int(data[i-Nevent+m][5]) == -10003 or int(data[i-Nevent+m][5]) == -10004 or int(data[i-Nevent+m][5]) == -10005 and data[i-Nevent+m][6] == 'Plastic'):\n",
    "                            tempout_T = data[i-Nevent+m][7]\n",
    "                            event_out = m\n",
    "                            if(int(data[i-Nevent+m][5]) == -10002 or int(data[i-Nevent+m][5]) == -10003 or int(data[i-Nevent+m][5]) == -10004 or int(data[i-Nevent+m][5]) == -10005):\n",
    "                                d_from_top = 170.0 - float(data[i-Nevent+m][18])\n",
    "                    #elif(int(data[i-Nevent+m][5]) == -10000 or int(data[i-Nevent+m][5]) == -10005 and float(data[i-Nevent+m][3]) == float(Particle_Type)):\n",
    "                    if(int(data[i-Nevent+m][5]) == -11000 or int(data[i-Nevent+m][5]) == -11001 or int(data[i-Nevent+m][5]) == -11002 or int(data[i-Nevent+m][5]) == -11003 or int(data[i-Nevent+m][5]) == -11004 or int(data[i-Nevent+m][5]) == -11005 and float(data[i-Nevent+m][3]) == float(Particle_Type)):\n",
    "                        tempin = tempin + float(data[i-Nevent+m][9])\n",
    "                        if(int(data[i-Nevent+m-1][5]) != -11000 and int(data[i-Nevent+m-1][5]) != -11001 and int(data[i-Nevent+m-1][5]) != -11002 and int(data[i-Nevent+m-1][5]) != -11003 and int(data[i-Nevent+m-1][5]) != -11004 and int(data[i-Nevent+m-1][5]) != -11005 and data[i-Nevent+m][6] == 'Plastic'):\n",
    "                            tempin_T = data[i-Nevent+m][7]\n",
    "                            event_in = m\n",
    "                if(tempin != 0 and tempout != 0):\n",
    "                    #theta0 = np.arctan((210 - float(selection[i][0][18]))/np.sqrt((float(selection[i][0][17])-0) ** 2 + (float(selection[i][0][16])-0) ** 2))\n",
    "                    theta = np.arctan(np.sqrt((float(data[i-Nevent+event_out][17])-float(data[i-Nevent+event_in][17])) ** 2 + (float(data[i-Nevent+event_out][16])-float(data[i-Nevent+event_in][16])) ** 2)/(float(data[i-Nevent+event_out][18])-float(data[i-Nevent+event_in][18])))\n",
    "                    distance = np.sqrt((float(data[i-Nevent+event_out][16]) - float(data[i-Nevent+event_in][16])) ** 2 + (float(data[i-Nevent+event_out][17]) - float(data[i-Nevent+event_in][17])) ** 2 + (float(data[i-Nevent+event_out][18]) - float(data[i-Nevent+event_in][18])) ** 2)\n",
    "                    PeD = np.sqrt((float(data[i][16])-float(data[i-Nevent+k][16]))**2+(float(data[i][17])-float(data[i-Nevent+k][17]))**2+(float(data[i][18])-float(data[i-Nevent+k][18]))**2)\n",
    "                    TOF_out_pbar_E.append(tempout)\n",
    "                    TOF_in_pbar_E.append(tempin)\n",
    "                    index_pbar.append(data[i-Nevent+k][0])\n",
    "                    TOF_out_pbar_T.append(tempout_T)\n",
    "                    TOF_in_pbar_T.append(tempin_T)\n",
    "                    angle_pbar.append(theta)\n",
    "                    distance_pbar.append(distance)\n",
    "                    PeD_pbar.append(PeD)\n",
    "                    PeD_pbar_z.append(10-float(data[i][18]))\n",
    "                    TOF_out_pbar_side.append(d_from_top)\n",
    "                    Init_Energy.append(data[i-Nevent][8])\n",
    "                    if(str(data[i][8]) == str(data[i][9])):\n",
    "                        Stop_Events.append(1)\n",
    "                    else:\n",
    "                        Stop_Events.append(0)\n",
    "                    Nevent = -1\n",
    "                break\n",
    "        Nevent = -1\n",
    "    print(\"TOF data process:\"+str(int(100*i/len(data[:,0])))+\"%\", end='\\r')\n",
    "\n",
    "print(\"\\n identification:finished!\")\n",
    "\n",
    "index_pbar = array([float(i) for i in index_pbar])\n",
    "time_pbar = array([float(i) for i in TOF_in_pbar_T]) - array([float(i) for i in TOF_out_pbar_T])\n",
    "dEOut_pbar = array([float(i) for i in TOF_out_pbar_E])\n",
    "dEIn_pbar = array([float(i) for i in TOF_in_pbar_E])\n",
    "angle_pbar = array([float(i) for i in angle_pbar])\n",
    "distance_pbar = array([float(i) for i in distance_pbar])\n",
    "PeD_pbar = array([float(i) for i in PeD_pbar])\n",
    "PeD_pbar_z = array([float(i) for i in PeD_pbar_z])\n",
    "TOF_out_pbar_side = array([float(i) for i in TOF_out_pbar_side])\n",
    "Init_Energy = array([float(i) for i in Init_Energy])\n",
    "Stop_Events = array([float(i) for i in Stop_Events])\n",
    "\n",
    "#plt.scatter(time_pbar, dE_pbar)\n",
    "Result_Vector = np.array([index_pbar, dEOut_pbar, dEIn_pbar, time_pbar, angle_pbar, distance_pbar, PeD_pbar, PeD_pbar_z, TOF_out_pbar_side, Init_Energy, Stop_Events]).transpose()\n",
    "#np.savetxt('/Users/jiancheng/CloudDocuments/Documents/Github/GRAMS/GRAMS_2021/output/TOF/TOF_anti_proton_1e7_0_500_45_4_result.txt', anti_proton, delimiter = '\\t ', fmt='%.6s')\n",
    "with open(\"/Users/jiancheng/GRAMS/data/TOF/Old_TPC140_GRASP_anti_proton_5e7_MeV_vector.txt\", \"w\") as f:    #input file\n",
    "#with open(\"/Users/jiancheng/CloudDocuments/Documents/Github/GRAMS/GRAMS_2021/output/TOF/test.txt\", \"ab\") as f:    #test run\n",
    "    #f.write(b\"\\n\")\n",
    "    np.savetxt(f, Result_Vector)\n",
    "print(\"finished!\")\n",
    "\n"
   ]
  },
  {
   "cell_type": "code",
   "execution_count": 69,
   "metadata": {},
   "outputs": [
    {
     "name": "stdout",
     "output_type": "stream",
     "text": [
      "Number of events less than 1.3m:1.0\n",
      "Number of events less than 1.2m:1.0\n",
      "Number of events less than 1.1m:1.0\n",
      "Number of events less than 1.0m:1.0\n",
      "Number of events less than 0.9m:1.0\n",
      "Number of events less than 0.8m:1.0\n",
      "Number of events less than 0.7m:1.0\n"
     ]
    },
    {
     "data": {
      "image/png": "[encoded data removed]",
      "text/plain": [
       "<Figure size 432x288 with 1 Axes>"
      ]
     },
     "metadata": {
      "needs_background": "light"
     },
     "output_type": "display_data"
    }
   ],
   "source": [
    "plt.hist(Init_Energy[Stop_Events==1], bins = 40, label = \"antiproton %d events\"%len(Init_Energy[Stop_Events==1]), color = 'b')\n",
    "\n",
    "plt.title('antideuteron GRASP')\n",
    "plt.xlabel('Penetration distance/cm')\n",
    "plt.ylabel('number of events')\n",
    "plt.legend(loc='best')\n",
    "#plt.axis([0, 20, 0, 10])\n",
    "plt.grid(alpha = 0.2)\n",
    "\n",
    "print(\"Number of events less than 1.3m:\"+str(len(PeD_pbar[PeD_pbar<130])/len(PeD_pbar)))\n",
    "print(\"Number of events less than 1.2m:\"+str(len(PeD_pbar[PeD_pbar<120])/len(PeD_pbar)))\n",
    "print(\"Number of events less than 1.1m:\"+str(len(PeD_pbar[PeD_pbar<110])/len(PeD_pbar)))\n",
    "print(\"Number of events less than 1.0m:\"+str(len(PeD_pbar[PeD_pbar<100])/len(PeD_pbar)))\n",
    "print(\"Number of events less than 0.9m:\"+str(len(PeD_pbar[PeD_pbar<90])/len(PeD_pbar)))\n",
    "print(\"Number of events less than 0.8m:\"+str(len(PeD_pbar[PeD_pbar<80])/len(PeD_pbar)))\n",
    "print(\"Number of events less than 0.7m:\"+str(len(PeD_pbar[PeD_pbar<70])/len(PeD_pbar)))"
   ]
  },
  {
   "cell_type": "code",
   "execution_count": 68,
   "metadata": {},
   "outputs": [
    {
     "name": "stdout",
     "output_type": "stream",
     "text": [
      "337225\n"
     ]
    }
   ],
   "source": [
    "print(len(time_pbar))"
   ]
  },
  {
   "cell_type": "code",
   "execution_count": null,
   "metadata": {},
   "outputs": [],
   "source": []
  }
 ],
 "metadata": {
  "kernelspec": {
   "display_name": "Python 3 (ipykernel)",
   "language": "python",
   "name": "python3"
  },
  "language_info": {
   "codemirror_mode": {
    "name": "ipython",
    "version": 3
   },
   "file_extension": ".py",
   "mimetype": "text/x-python",
   "name": "python",
   "nbconvert_exporter": "python",
   "pygments_lexer": "ipython3",
   "version": "3.9.6"
  }
 },
 "nbformat": 4,
 "nbformat_minor": 5
}
