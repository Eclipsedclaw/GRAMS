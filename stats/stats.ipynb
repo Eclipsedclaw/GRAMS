{
 "cells": [
  {
   "cell_type": "code",
   "execution_count": 1,
   "metadata": {},
   "outputs": [
    {
     "data": {
      "text/plain": [
       "'\\nGRASP new design calculation for GRAMS\\n@aurthor Jiancheng Zeng\\n@Oct 20 2021\\n'"
      ]
     },
     "execution_count": 1,
     "metadata": {},
     "output_type": "execute_result"
    }
   ],
   "source": [
    "\"\"\"\n",
    "GRASP new design calculation for GRAMS\n",
    "@aurthor Jiancheng Zeng\n",
    "@Oct 20 2021\n",
    "\"\"\""
   ]
  },
  {
   "cell_type": "code",
   "execution_count": 2,
   "metadata": {},
   "outputs": [],
   "source": [
    "import numpy as np\n",
    "import matplotlib.pyplot as plt\n",
    "import statistics\n",
    "from numpy import array\n",
    "import pandas as pd\n",
    "import math\n",
    "import time\n",
    "pd.set_option('display.float_format', lambda x: '%0.4f' % x)"
   ]
  },
  {
   "cell_type": "code",
   "execution_count": null,
   "metadata": {},
   "outputs": [
    {
     "name": "stdout",
     "output_type": "stream",
     "text": [
      "Reading data ...\n",
      "finish reading data!\n",
      "Modifing data ...\n",
      "TOF data process:96%"
     ]
    }
   ],
   "source": [
    "\"\"\"\n",
    "Select by name of the column\n",
    "---------------------\n",
    "\"\"\"\n",
    "title = [\"eventID\", \"trackID\", \"parentID\", \"particleID\", \"copyNb1 (mother volume)\", \"copyNb\", \"material\", \"time (ns)\", \"energy(MeV)\", \"energy deposit(MeV)\", \"parent process name\", \"process name\", \"px (MeV/c)\", \"py (MeV/c)\", \"pz (MeV/c)\", \"step length (cm)\", \"x (cm)\", \"y (cm)\", \"z (cm)\"]\n",
    "\n",
    "\"\"\"\n",
    "Read data from total data file\n",
    "--------------------\n",
    "\"\"\"\n",
    "print(\"Reading data ...\")\n",
    "#data = pd.read_table(\"/Users/jiancheng/GRAMS/Toy Model/Machine Learning/210824_anti_proton_250MeV_Lin.dat\")    #get data file\n",
    "data = np.array(pd.read_table(\"/Users/jiancheng/GRAMS/data/rawdata/LITv1_Stop_anti_He3_1e8_Ene_0_1500.dat\"))\n",
    "print(\"finish reading data!\")\n",
    "\n",
    "\"\"\"\n",
    "select analysis particle type\n",
    "\"\"\"\n",
    "Particle_Type = -1000020030    #[antiproton]-2212    [antideuteron]-1000010020    [antiHe3]-1000020030\n",
    "\n",
    "\"\"\"\n",
    "Analyzed variables\n",
    "\"\"\"\n",
    "index = []    #Event number\n",
    "TOF_out_E = []    #energy deposit on the outer TOF\n",
    "TOF_out_T = []    #time reach the outer TOF \n",
    "TOF_in_E = []    #energy deposit on the inner TOF\n",
    "TOF_in_T = []    #time reach the inner TOF\n",
    "angle = []    #angle read in between inner and outer TOF\n",
    "distance = []    #distance in between inner and outer TOF\n",
    "PeD = []    #distance travel inside LArTPC\n",
    "PeD_z = []    #penetration depth on vertical direction inside LArTPC\n",
    "TOF_out_side = []    #distance on the side from top of outer TOF up layer\n",
    "Init_Energy = []    #initial energy\n",
    "Stop_Events = []    #[1]for stop events, [0]for annihilation in flight events\n",
    "Nevent = -1\n",
    "\n",
    "print(\"Modifing data ...\")\n",
    "for i in range(len(data[:,0])-1):\n",
    "#for i in range(27):\n",
    "    Nevent = Nevent + 1\n",
    "    if(data[i][0] != data[i+1][0]):\n",
    "        for k in range(Nevent+1):\n",
    "            #print(float(data[i-Nevent+k][3]) == float(Particle_Type))\n",
    "            #if(str(data[i-Nevent+k][6]) == 'LAr' and float(data[i-Nevent+k][3]) == float(Particle_Type) and str(data[i][8]) == str(data[i][9])):    #Stop events only\n",
    "            if(str(data[i-Nevent+k][6]) == 'LAr' and float(data[i-Nevent+k][3]) == float(Particle_Type)):    #including stop events and annihilation in flight events\n",
    "                event_in = 0    #temperary variable tracking first inner TOF hit point\n",
    "                event_out = 0    #temperary variable tracking first outer TOF hit point\n",
    "                tempin = 0    #temperary variable tracking inner TOF energy deposit\n",
    "                tempout = 0    #temperary variable tracking outer TOF energy deposit\n",
    "                d_from_top = 0    #temperary variable tracking side hit distance from top\n",
    "                for m in range(k):\n",
    "                    if(int(data[i-Nevent+m][5]) == -10000 or int(data[i-Nevent+m][5]) == -10001 or int(data[i-Nevent+m][5]) == -10002 or int(data[i-Nevent+m][5]) == -10003 or int(data[i-Nevent+m][5]) == -10004 or int(data[i-Nevent+m][5]) == -10005 and float(data[i-Nevent+m][3]) == float(Particle_Type)):    #accumulate energy deposit inside outer TOF\n",
    "                    #if(int(data[i-Nevent+m][5]) == -11004 and float(data[i-Nevent+m][3]) == float(Particle_Type)):\n",
    "                        tempout = tempout + float(data[i-Nevent+m][9])\n",
    "                        if(int(data[i-Nevent+m-1][5]) != -10000 and int(data[i-Nevent+m-1][5]) != -10001 and int(data[i-Nevent+m-1][5]) != -10002 and int(data[i-Nevent+m-1][5]) != -10003 and int(data[i-Nevent+m-1][5]) != -10004 and int(data[i-Nevent+m-1][5]) != -10005 and data[i-Nevent+m][6] == 'Plastic'):    #find first outer TOF hit point\n",
    "                            event_out = m\n",
    "                            if(int(data[i-Nevent+m][5]) == -10002 or int(data[i-Nevent+m][5]) == -10003 or int(data[i-Nevent+m][5]) == -10004 or int(data[i-Nevent+m][5]) == -10005):    #find side hit distance from top info, if not applicable, this will be 0\n",
    "                                d_from_top = 170.0 - float(data[i-Nevent+m][18])\n",
    "                    #elif(int(data[i-Nevent+m][5]) == -10000 or int(data[i-Nevent+m][5]) == -10005 and float(data[i-Nevent+m][3]) == float(Particle_Type)):\n",
    "                    if(int(data[i-Nevent+m][5]) == -11000 or int(data[i-Nevent+m][5]) == -11001 or int(data[i-Nevent+m][5]) == -11002 or int(data[i-Nevent+m][5]) == -11003 or int(data[i-Nevent+m][5]) == -11004 or int(data[i-Nevent+m][5]) == -11005 and float(data[i-Nevent+m][3]) == float(Particle_Type)):    #accumulate energy deposit inside inner TOF\n",
    "                        tempin = tempin + float(data[i-Nevent+m][9])\n",
    "                        if(int(data[i-Nevent+m-1][5]) != -11000 and int(data[i-Nevent+m-1][5]) != -11001 and int(data[i-Nevent+m-1][5]) != -11002 and int(data[i-Nevent+m-1][5]) != -11003 and int(data[i-Nevent+m-1][5]) != -11004 and int(data[i-Nevent+m-1][5]) != -11005 and data[i-Nevent+m][6] == 'Plastic'):    #find first inner TOF hit point\n",
    "                            event_in = m\n",
    "                if(tempin != 0 and tempout != 0):\n",
    "                    #theta0 = np.arctan((210 - float(selection[i][0][18]))/np.sqrt((float(selection[i][0][17])-0) ** 2 + (float(selection[i][0][16])-0) ** 2))    #initial angle\n",
    "                    theta = np.arctan(np.sqrt((float(data[i-Nevent+event_out][17])-float(data[i-Nevent+event_in][17])) ** 2 + (float(data[i-Nevent+event_out][16])-float(data[i-Nevent+event_in][16])) ** 2)/(float(data[i-Nevent+event_out][18])-float(data[i-Nevent+event_in][18])))    #angle in between TOF\n",
    "                    distance_temp = np.sqrt((float(data[i-Nevent+event_out][16]) - float(data[i-Nevent+event_in][16])) ** 2 + (float(data[i-Nevent+event_out][17]) - float(data[i-Nevent+event_in][17])) ** 2 + (float(data[i-Nevent+event_out][18]) - float(data[i-Nevent+event_in][18])) ** 2)    #distance in between TOF\n",
    "                    PeD_temp = np.sqrt((float(data[i][16])-float(data[i-Nevent+k][16]))**2+(float(data[i][17])-float(data[i-Nevent+k][17]))**2+(float(data[i][18])-float(data[i-Nevent+k][18]))**2)    #Penetration distance inside LArTPC\n",
    "                    TOF_out_E.append(tempout)\n",
    "                    TOF_in_E.append(tempin)\n",
    "                    index.append(data[i-Nevent+k][0])\n",
    "                    TOF_out_T.append(data[i-Nevent+m][7])\n",
    "                    TOF_in_T.append(data[i-Nevent+m][7])\n",
    "                    angle.append(theta)\n",
    "                    distance.append(distance_temp)\n",
    "                    PeD.append(PeD_temp)\n",
    "                    PeD_z.append(10-float(data[i][18]))\n",
    "                    TOF_out_side.append(d_from_top)\n",
    "                    Init_Energy.append(data[i-Nevent][8])\n",
    "                    if(str(data[i][8]) == str(data[i][9])):\n",
    "                        Stop_Events.append(1)\n",
    "                    else:\n",
    "                        Stop_Events.append(0)\n",
    "                    Nevent = -1\n",
    "                break\n",
    "        Nevent = -1\n",
    "    print(\"TOF data process:\"+str(int(100*i/len(data[:,0])))+\"%\", end='\\r')\n",
    "\n",
    "print(\"\\n identification:finished!\")\n",
    "\n",
    "\"\"\"\n",
    "modify data format\n",
    "\"\"\"\n",
    "index = array([float(i) for i in index])\n",
    "time = array([float(i) for i in TOF_in_T]) - array([float(i) for i in TOF_out_T])\n",
    "TOF_out_E = array([float(i) for i in TOF_out_E])\n",
    "TOF_in_E = array([float(i) for i in TOF_in_E])\n",
    "angle = array([float(i) for i in angle])\n",
    "distance = array([float(i) for i in distance])\n",
    "PeD = array([float(i) for i in PeD])\n",
    "PeD_z = array([float(i) for i in PeD_z])\n",
    "TOF_out_side = array([float(i) for i in TOF_out_side])\n",
    "Init_Energy = array([float(i) for i in Init_Energy])\n",
    "Stop_Events = array([float(i) for i in Stop_Events])\n",
    "\n",
    "\"\"\"\n",
    "Vector title: [0]Event number/[1]energy deposit on the outer TOF/[2]energy deposit on the inner TOF/[3]time in between TOF/[4]angle in between TOF/[5]distance in between TOF/[6]distance travel inside LArTPC/[7]penetration depth on z/[8]distance on the side/[9]initial energy/[10]event type\n",
    "\"\"\"\n",
    "Result_Vector = np.array([index, TOF_out_E, TOF_in_E, time, angle, distance, PeD, PeD_z, TOF_out_side, Init_Energy, Stop_Events]).transpose()\n",
    "\n",
    "\"\"\"\n",
    "Save analysis vector\n",
    "\"\"\"\n",
    "with open(\"/Users/jiancheng/GRAMS/data/TOF/LITv1_Stop_anti_He3_1e8_Ene_0_1500_vector.txt\", \"w\") as f:    #input file\n",
    "#with open(\"/Users/jiancheng/CloudDocuments/Documents/Github/GRAMS/GRAMS_2021/output/TOF/test.txt\", \"ab\") as f:    #test run\n",
    "    #f.write(b\"\\n\")\n",
    "    np.savetxt(f, Result_Vector)\n",
    "print(\"finished!\")"
   ]
  },
  {
   "cell_type": "code",
   "execution_count": 9,
   "metadata": {},
   "outputs": [
    {
     "data": {
      "text/plain": [
       "'\\nprint(\"Number of events less than 1.3m:\"+str(len(PeD[PeD<130])/len(PeD)))\\nprint(\"Number of events less than 1.2m:\"+str(len(PeD[PeD<120])/len(PeD)))\\nprint(\"Number of events less than 1.1m:\"+str(len(PeD[PeD<110])/len(PeD)))\\nprint(\"Number of events less than 1.0m:\"+str(len(PeD[PeD<100])/len(PeD)))\\nprint(\"Number of events less than 0.9m:\"+str(len(PeD[PeD<90])/len(PeD)))\\nprint(\"Number of events less than 0.8m:\"+str(len(PeD[PeD<80])/len(PeD)))\\nprint(\"Number of events less than 0.7m:\"+str(len(PeD[PeD<70])/len(PeD)))\\n'"
      ]
     },
     "execution_count": 9,
     "metadata": {},
     "output_type": "execute_result"
    },
    {
     "data": {
      "image/png": "[encoded data removed]",
      "text/plain": [
       "<Figure size 432x288 with 1 Axes>"
      ]
     },
     "metadata": {
      "needs_background": "light"
     },
     "output_type": "display_data"
    }
   ],
   "source": [
    "plt.hist(Init_Energy[Stop_Events==1], bins = 40, label = \"%d events\"%len(Init_Energy[Stop_Events==1]), color = 'b')\n",
    "\n",
    "plt.title('Stop Events initial energy')\n",
    "plt.xlabel('Energy/MeV')\n",
    "plt.ylabel('number of events')\n",
    "plt.legend(loc='best')\n",
    "#plt.axis([0, 20, 0, 10])\n",
    "plt.grid(alpha = 0.2)\n",
    "\n",
    "\"\"\"\n",
    "print(\"Number of events less than 1.3m:\"+str(len(PeD[PeD<130])/len(PeD)))\n",
    "print(\"Number of events less than 1.2m:\"+str(len(PeD[PeD<120])/len(PeD)))\n",
    "print(\"Number of events less than 1.1m:\"+str(len(PeD[PeD<110])/len(PeD)))\n",
    "print(\"Number of events less than 1.0m:\"+str(len(PeD[PeD<100])/len(PeD)))\n",
    "print(\"Number of events less than 0.9m:\"+str(len(PeD[PeD<90])/len(PeD)))\n",
    "print(\"Number of events less than 0.8m:\"+str(len(PeD[PeD<80])/len(PeD)))\n",
    "print(\"Number of events less than 0.7m:\"+str(len(PeD[PeD<70])/len(PeD)))\n",
    "\"\"\""
   ]
  },
  {
   "cell_type": "code",
   "execution_count": 68,
   "metadata": {},
   "outputs": [
    {
     "name": "stdout",
     "output_type": "stream",
     "text": [
      "337225\n"
     ]
    }
   ],
   "source": [
    "print(len(time))"
   ]
  },
  {
   "cell_type": "code",
   "execution_count": null,
   "metadata": {},
   "outputs": [],
   "source": []
  }
 ],
 "metadata": {
  "kernelspec": {
   "display_name": "Python 3 (ipykernel)",
   "language": "python",
   "name": "python3"
  },
  "language_info": {
   "codemirror_mode": {
    "name": "ipython",
    "version": 3
   },
   "file_extension": ".py",
   "mimetype": "text/x-python",
   "name": "python",
   "nbconvert_exporter": "python",
   "pygments_lexer": "ipython3",
   "version": "3.9.6"
  }
 },
 "nbformat": 4,
 "nbformat_minor": 5
}
