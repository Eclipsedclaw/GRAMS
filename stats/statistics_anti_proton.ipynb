{
 "cells": [
  {
   "cell_type": "code",
   "execution_count": 1,
   "metadata": {},
   "outputs": [
    {
     "data": {
      "text/plain": [
       "'\\nStatistics: count difference between anti-deuteron and anti-proton\\n@aurthor Jiancheng Zeng\\n@July 15 2021\\n\\n'"
      ]
     },
     "execution_count": 1,
     "metadata": {},
     "output_type": "execute_result"
    }
   ],
   "source": [
    "\"\"\"\n",
    "Statistics: count difference between anti-deuteron and anti-proton\n",
    "@aurthor Jiancheng Zeng\n",
    "@July 15 2021\n",
    "\n",
    "\"\"\""
   ]
  },
  {
   "cell_type": "code",
   "execution_count": 7,
   "metadata": {},
   "outputs": [
    {
     "name": "stdout",
     "output_type": "stream",
     "text": [
      "Reading data ...\n",
      "finish reading data!\n",
      "Modifing data ...\n",
      "Modifing process:99%\n",
      " Recognize events ...\n",
      "Recognizing process:99%\n",
      " finished!\n"
     ]
    }
   ],
   "source": [
    "import numpy as np\n",
    "import matplotlib.pyplot as plt\n",
    "import statistics\n",
    "from numpy import array\n",
    "import pandas as pd\n",
    "\n",
    "event = []\n",
    "identical = []\n",
    "En = 40\n",
    "\n",
    "\"\"\"\n",
    "Select by name of the column\n",
    "---------------------\n",
    "\"\"\"\n",
    "title = [\"eventID\", \"trackID\", \"parentID\", \"particleID\", \"copyNb1 (mother volume)\", \"copyNb\", \"material\", \"time (ns)\", \"energy(MeV)\", \"energy deposit(MeV)\", \"parent process name\", \"process name\", \"px (MeV/c)\", \"py (MeV/c)\", \"pz (MeV/c)\", \"step length (cm)\", \"x (cm)\", \"y (cm)\", \"z (cm)\"]\n",
    "\n",
    "\"\"\"\n",
    "Read data from total data file\n",
    "--------------------\n",
    "\"\"\"\n",
    "print(\"Reading data ...\")\n",
    "#data = pd.read_table(\"/Users/jiancheng/GRAMS/Toy Model/Machine Learning/210824_anti_proton_250MeV_Lin.dat\")    #get data file\n",
    "data = pd.read_table(\"/Users/jiancheng/CloudDocuments/Documents/Github/Geant4-simulation/Original_2021/output/test_proton.dat\")\n",
    "print(\"finish reading data!\")\n",
    "\n",
    "\"\"\"\n",
    "modification\n",
    "\"\"\"\n",
    "print(\"Modifing data ...\")\n",
    "for i in range(0, len(data.iloc[:,0])):\n",
    "    if(0 <= data.iloc[i,2] <= 1):\n",
    "        event.append(list(data.iloc[i,:]))\n",
    "    print(\"Modifing process:\"+str(int(100*i/len(data.iloc[:,0])))+\"%\", end='\\r')\n",
    "event = np.array(event)\n",
    "\n",
    "\n",
    "\"\"\"\n",
    "recognize the data file length distribution\n",
    "\"\"\"\n",
    "print(\"\\n Recognize events ...\")\n",
    "s = 0\n",
    "for s in range(len(event[:,0])-1):\n",
    "    if(int(event[s,0]) != int(event[s+1,0])):\n",
    "        identical.append(s+1)\n",
    "    print(\"Recognizing process:\"+str(int(100*s/len(event[:,0])))+\"%\", end='\\r')\n",
    "    #time.sleep(0.001)\n",
    "selection = np.split(event, identical)\n",
    "\n",
    "identical.append(len(event))\n",
    "\n",
    "np.savetxt('/Users/jiancheng/GRAMS/Toy Model/Machine Learning/test/test.txt', selection, fmt='%s')\n",
    "\n",
    "print(\"\\n finished!\")"
   ]
  },
  {
   "cell_type": "code",
   "execution_count": 12,
   "metadata": {},
   "outputs": [
    {
     "name": "stdout",
     "output_type": "stream",
     "text": [
      "500\n",
      "forming vectors...:99%\n",
      " Done! Vector saved!\n"
     ]
    }
   ],
   "source": [
    "import math\n",
    "PeD = [None] * len(identical)    #Penetration depth\n",
    "EnD = [None] * len(identical)    #Energy deposit\n",
    "NuPip = [0] * len(identical)     #Number of pion+\n",
    "NuPim = [0] * len(identical)     #Number of pion-\n",
    "NuPi0 = [0] * len(identical)     #Number of neutral pion\n",
    "NuPiC = [0] * len(identical)     #Number of charged pion\n",
    "NuP = [0] * len(identical)       #Number of proton\n",
    "XRay = [0] * len(identical)      #X-ray\n",
    "lDetector = 2000                 #detector depth\n",
    "temp = 0\n",
    "step = [0]\n",
    "inflight = []\n",
    "step.extend(identical)\n",
    "print(len(identical))\n",
    "\"\"\"\n",
    "find penatration depth, energy deposite and number of pions\n",
    "\"\"\"\n",
    "for i in range(len(identical)):\n",
    "    for j in range(step[i+1] - step[i]):\n",
    "        if(event[step[i] + j][3] != '-2212'):\n",
    "            PeD[i] = math.sqrt((lDetector - float(event[temp + j - 1][18])) ** 2 + (float(event[temp + j - 1][17]) ** 2) + (float(event[temp + j - 1][16]) ** 2))\n",
    "            EnD[i] = float(event[step[i]][8])\n",
    "            if(event[temp + j - 1][8] != event[temp + j - 1][9]): inflight.append(i)\n",
    "            break\n",
    "    for k in range(step[i+1] - step[i] - 1):\n",
    "        if(event[temp + k][1] != event[temp + k + 1][1]):\n",
    "            if(event[temp + k][3] == '211'):\n",
    "                NuPip[i] = NuPip[i] + 1\n",
    "                NuPiC[i] = NuPiC[i] + 1\n",
    "            elif(event[temp + k][3] == '-211'):\n",
    "                NuPim[i] = NuPim[i] + 1\n",
    "                NuPiC[i] = NuPiC[i] + 1\n",
    "            elif(event[temp + k][3] == '111'):\n",
    "                NuPi0[i] = NuPi0[i] + 1\n",
    "            elif(event[temp + k][3] == '2212'):\n",
    "                NuP[i] = NuP[i] + 1\n",
    "    if(event[identical[i] - 1][3] == '211'):    #specify last track\n",
    "        NuPip[i] = NuPip[i] + 1\n",
    "        NuPiC[i] = NuPiC[i] + 1\n",
    "    elif(event[identical[i] - 1][3] == '-211'):\n",
    "        NuPim[i] = NuPim[i] + 1\n",
    "        NuPiC[i] = NuPiC[i] + 1\n",
    "    elif(event[identical[i] - 1][3] == '111'):\n",
    "        NuPi0[i] = NuPi0[i] + 1\n",
    "    elif(event[identical[i] - 1][3] == '2212'):\n",
    "        NuP[i] = NuP[i] + 1\n",
    "    temp = identical[i]\n",
    "    print(\"forming vectors...:\"+str(int(100*i/len(identical)))+\"%\", end='\\r')\n",
    "    \n",
    "\n",
    "\"\"\"\n",
    "print(\"penetration depth:\")\n",
    "print(PeD)\n",
    "print(\"\\n number of pi+:\")\n",
    "print(NuPip)\n",
    "print(\"\\n number of pi-:\")\n",
    "print(NuPim)\n",
    "print(\"\\n number of pi0:\")\n",
    "print(NuPi0)\n",
    "print(\"\\n number of proton:\")\n",
    "print(NuP)\n",
    "\"\"\"\n",
    "\n",
    "vector=[PeD, EnD, NuPiC, NuP]    #vector content follow by: Penetration depth, energy diposit, number of charged pions, number of protons\n",
    "vector=np.transpose(vector)\n",
    "vector = pd.DataFrame(vector)\n",
    "vector = vector.drop(labels = inflight)\n",
    "\n",
    "np.savetxt('/Users/jiancheng/GRAMS/Toy Model/Machine Learning/test/test_p_vector.txt', vector, delimiter = '\\t ', fmt='%.6s')\n",
    "print(\"\\n Done! Vector saved!\")\n"
   ]
  },
  {
   "cell_type": "code",
   "execution_count": null,
   "metadata": {},
   "outputs": [],
   "source": []
  }
 ],
 "metadata": {
  "kernelspec": {
   "display_name": "Python 3 (ipykernel)",
   "language": "python",
   "name": "python3"
  },
  "language_info": {
   "codemirror_mode": {
    "name": "ipython",
    "version": 3
   },
   "file_extension": ".py",
   "mimetype": "text/x-python",
   "name": "python",
   "nbconvert_exporter": "python",
   "pygments_lexer": "ipython3",
   "version": "3.9.6"
  }
 },
 "nbformat": 4,
 "nbformat_minor": 4
}
