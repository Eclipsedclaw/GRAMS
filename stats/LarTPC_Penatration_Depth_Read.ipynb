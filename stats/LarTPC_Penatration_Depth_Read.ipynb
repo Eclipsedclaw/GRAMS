{
 "cells": [
  {
   "cell_type": "code",
   "execution_count": null,
   "metadata": {},
   "outputs": [],
   "source": [
    "\"\"\"\n",
    "identify LArTPC penetration depth for three particles\n",
    "@aurthor Jiancheng Zeng\n",
    "@Oct 29 2021\n",
    "\"\"\""
   ]
  },
  {
   "cell_type": "code",
   "execution_count": 1,
   "metadata": {},
   "outputs": [],
   "source": [
    "import numpy as np\n",
    "import matplotlib.pyplot as plt\n",
    "import statistics\n",
    "from numpy import array\n",
    "import pandas as pd\n",
    "import math\n",
    "pd.set_option('display.float_format', lambda x: '%0.4f' % x)"
   ]
  },
  {
   "cell_type": "code",
   "execution_count": 74,
   "metadata": {},
   "outputs": [
    {
     "name": "stdout",
     "output_type": "stream",
     "text": [
      "Reading data ...\n",
      "finish reading data!\n",
      "Modifing data ...\n",
      "TOF data process:99%\n",
      " identification:finished!\n",
      "finished!\n"
     ]
    }
   ],
   "source": [
    "\"\"\"\n",
    "Select by name of the column\n",
    "---------------------\n",
    "\"\"\"\n",
    "title = [\"eventID\", \"trackID\", \"parentID\", \"particleID\", \"copyNb1 (mother volume)\", \"copyNb\", \"material\", \"time (ns)\", \"energy(MeV)\", \"energy deposit(MeV)\", \"parent process name\", \"process name\", \"px (MeV/c)\", \"py (MeV/c)\", \"pz (MeV/c)\", \"step length (cm)\", \"x (cm)\", \"y (cm)\", \"z (cm)\"]\n",
    "\n",
    "\"\"\"\n",
    "Read data from total data file\n",
    "--------------------\n",
    "\"\"\"\n",
    "print(\"Reading data ...\")\n",
    "#data = pd.read_table(\"/Users/jiancheng/GRAMS/Toy Model/Machine Learning/210824_anti_proton_250MeV_Lin.dat\")    #get data file\n",
    "data = np.array(pd.read_table(\"/Users/jiancheng/GRAMS/data/rawdata/Old_GRASP_anti_He3_5e7_MeV.dat\"))\n",
    "print(\"finish reading data!\")\n",
    "\n",
    "\"\"\"\n",
    "modification\n",
    "\"\"\"\n",
    "Particle_Type = -1000020030    #[antiproton]-2212    [antideuteron]-1000010020    [antiHe3]-1000020030\n",
    "TOF_out_pbar_E = []\n",
    "TOF_out_pbar_T = []\n",
    "TOF_in_pbar_E = []\n",
    "TOF_in_pbar_T = []\n",
    "index_pbar = []\n",
    "angle_pbar = []\n",
    "distance_pbar = []\n",
    "PeD_pbar = []\n",
    "PeD_pbar_z = []\n",
    "TOF_out_pbar_side = []\n",
    "Nevent = -1\n",
    "\n",
    "print(\"Modifing data ...\")\n",
    "for i in range(len(data[:,0])-1):\n",
    "    TOF_out_p = 0\n",
    "    TOF_in_p = 0\n",
    "#for i in range(27):\n",
    "    Nevent = Nevent + 1\n",
    "    if(data[i][0] != data[i+1][0]):\n",
    "        for k in range(Nevent):\n",
    "            if(str(data[i-Nevent+k][6]) == 'LAr' and str(data[i-Nevent+k][3]) == str(Particle_Type) and str(data[i][8]) == str(data[i][9])):\n",
    "                event_in = 0\n",
    "                event_out = 0\n",
    "                tempin = 0\n",
    "                tempout = 0\n",
    "                tempin_T = 0\n",
    "                TOF_out_p = 0\n",
    "                d_from_top = 0\n",
    "                for m in range(k):\n",
    "                    if(str(data[i-Nevent+m][5]) == '-10000' or str(data[i-Nevent+m][5]) == '-10001' or str(data[i-Nevent+m][5]) == '-10002' or str(data[i-Nevent+m][5]) == '-10003' or str(data[i-Nevent+m][5]) == '-10004' or str(data[i-Nevent+m][5]) == '-10005' and str(data[i-Nevent+m][3]) == str(Particle_Type)):\n",
    "                    #if(str(data[i-Nevent+m][5]) == '-11004' and str(data[i-Nevent+m][3]) == str(Particle_Type)):\n",
    "                        tempout = tempout + float(data[i-Nevent+m][9])\n",
    "                        if(str(data[i-Nevent+m-1][5]) != '-10000' and str(data[i-Nevent+m-1][5]) != '-10001' and str(data[i-Nevent+m-1][5]) != '-10002' and str(data[i-Nevent+m-1][5]) != '-10003' and str(data[i-Nevent+m-1][5]) != '-10004' and str(data[i-Nevent+m-1][5]) != '-10005' or str(data[i-Nevent+m][5]) == '-10000' or str(data[i-Nevent+m][5]) == '-10001' or str(data[i-Nevent+m][5]) == '-10002' or str(data[i-Nevent+m][5]) == '-10003' or str(data[i-Nevent+m][5]) == '-10004' or str(data[i-Nevent+m][5]) == '-10005' and data[i-Nevent+m][6] == 'Plastic'):\n",
    "                            tempout_T = data[i-Nevent+m][7]\n",
    "                            event_out = m\n",
    "                            if(str(data[i-Nevent+m][5]) == '-10002' or str(data[i-Nevent+m][5]) == '-10003' or str(data[i-Nevent+m][5]) == '-10004' or str(data[i-Nevent+m][5]) == '-10005'):\n",
    "                                d_from_top = 170.0 - float(data[i-Nevent+m][18])\n",
    "                    #elif(str(data[i-Nevent+m][5]) == '-10000' or str(data[i-Nevent+m][5]) == '-10005' and str(data[i-Nevent+m][3]) == str(Particle_Type)):\n",
    "                    if(str(data[i-Nevent+m][5]) == '-11000' or str(data[i-Nevent+m][5]) == '-11001' or str(data[i-Nevent+m][5]) == '-11002' or str(data[i-Nevent+m][5]) == '-11003' or str(data[i-Nevent+m][5]) == '-11004' or str(data[i-Nevent+m][5]) == '-11005' and str(data[i-Nevent+m][3]) == str(Particle_Type)):\n",
    "                        tempin = tempin + float(data[i-Nevent+m][9])\n",
    "                        if(str(data[i-Nevent+m-1][5]) != '-11000' and str(data[i-Nevent+m-1][5]) != '-11001' and str(data[i-Nevent+m-1][5]) != '-11002' and str(data[i-Nevent+m-1][5]) != '-11003' and str(data[i-Nevent+m-1][5]) != '-11004' and str(data[i-Nevent+m-1][5]) != '-11005' and data[i-Nevent+m][6] == 'Plastic'):\n",
    "                            tempin_T = data[i-Nevent+m][7]\n",
    "                            event_in = m\n",
    "                if(tempin != 0 and tempout != 0):\n",
    "                    #theta0 = np.arctan((210 - float(selection[i][0][18]))/np.sqrt((float(selection[i][0][17])-0) ** 2 + (float(selection[i][0][16])-0) ** 2))\n",
    "                    theta = np.arctan(np.sqrt((float(data[i-Nevent+event_out][17])-float(data[i-Nevent+event_in][17])) ** 2 + (float(data[i-Nevent+event_out][16])-float(data[i-Nevent+event_in][16])) ** 2)/(float(data[i-Nevent+event_out][18])-float(data[i-Nevent+event_in][18])))\n",
    "                    distance = np.sqrt((float(data[i-Nevent+event_out][16]) - float(data[i-Nevent+event_in][16])) ** 2 + (float(data[i-Nevent+event_out][17]) - float(data[i-Nevent+event_in][17])) ** 2 + (float(data[i-Nevent+event_out][18]) - float(data[i-Nevent+event_in][18])) ** 2)\n",
    "                    PeD = np.sqrt((float(data[i][16])-float(data[i-Nevent+k][16]))**2+(float(data[i][17])-float(data[i-Nevent+k][17]))**2+(float(data[i][18])-float(data[i-Nevent+k][18]))**2)\n",
    "                    TOF_out_pbar_E.append(tempout)\n",
    "                    TOF_in_pbar_E.append(tempin)\n",
    "                    index_pbar.append(data[i-Nevent+k][0])\n",
    "                    TOF_out_pbar_T.append(tempout_T)\n",
    "                    TOF_in_pbar_T.append(tempin_T)\n",
    "                    angle_pbar.append(theta)\n",
    "                    distance_pbar.append(distance)\n",
    "                    PeD_pbar.append(PeD)\n",
    "                    PeD_pbar_z.append(10-float(data[i][18]))\n",
    "                    TOF_out_pbar_side.append(d_from_top)\n",
    "                Nevent = -1\n",
    "                break       \n",
    "    print(\"TOF data process:\"+str(int(100*i/len(data[:,0])))+\"%\", end='\\r')\n",
    "\n",
    "print(\"\\n identification:finished!\")\n",
    "\n",
    "index_pbar = array([float(i) for i in index_pbar])\n",
    "time_pbar = array([float(i) for i in TOF_in_pbar_T]) - array([float(i) for i in TOF_out_pbar_T])\n",
    "dEOut_pbar = array([float(i) for i in TOF_out_pbar_E])\n",
    "dEIn_pbar = array([float(i) for i in TOF_in_pbar_E])\n",
    "angle_pbar = array([float(i) for i in angle_pbar])\n",
    "distance_pbar = array([float(i) for i in distance_pbar])\n",
    "PeD_pbar = array([float(i) for i in PeD_pbar])\n",
    "PeD_pbar_z = array([float(i) for i in PeD_pbar_z])\n",
    "TOF_out_pbar_side = array([float(i) for i in TOF_out_pbar_side])\n",
    "\n",
    "#plt.scatter(time_pbar, dE_pbar)\n",
    "Result_Vector = np.array([index_pbar, dEOut_pbar, dEIn_pbar, time_pbar, angle_pbar, distance_pbar, PeD_pbar, PeD_pbar_z]).transpose()\n",
    "#np.savetxt('/Users/jiancheng/CloudDocuments/Documents/Github/GRAMS/GRAMS_2021/output/TOF/TOF_anti_proton_1e7_0_500_45_4_result.txt', anti_proton, delimiter = '\\t ', fmt='%.6s')\n",
    "with open(\"/Users/jiancheng/GRAMS/data/TOF/Old_GRASP_anti_He3_5e7_MeV_PeD.txt\", \"w\") as f:    #input file\n",
    "#with open(\"/Users/jiancheng/CloudDocuments/Documents/Github/GRAMS/GRAMS_2021/output/TOF/test.txt\", \"ab\") as f:    #test run\n",
    "    #f.write(b\"\\n\")\n",
    "    np.savetxt(f, Result_Vector)\n",
    "print(\"finished!\")\n",
    "\n"
   ]
  },
  {
   "cell_type": "code",
   "execution_count": 75,
   "metadata": {},
   "outputs": [
    {
     "ename": "ZeroDivisionError",
     "evalue": "division by zero",
     "output_type": "error",
     "traceback": [
      "\u001b[0;31m---------------------------------------------------------------------------\u001b[0m",
      "\u001b[0;31mZeroDivisionError\u001b[0m                         Traceback (most recent call last)",
      "\u001b[0;32m/var/folders/jy/kzbmcbld7cxb685lxm7tb8p80000gn/T/ipykernel_44114/3563123151.py\u001b[0m in \u001b[0;36m<module>\u001b[0;34m\u001b[0m\n\u001b[1;32m      9\u001b[0m \u001b[0mplt\u001b[0m\u001b[0;34m.\u001b[0m\u001b[0mgrid\u001b[0m\u001b[0;34m(\u001b[0m\u001b[0malpha\u001b[0m \u001b[0;34m=\u001b[0m \u001b[0;36m0.2\u001b[0m\u001b[0;34m)\u001b[0m\u001b[0;34m\u001b[0m\u001b[0;34m\u001b[0m\u001b[0m\n\u001b[1;32m     10\u001b[0m \u001b[0;34m\u001b[0m\u001b[0m\n\u001b[0;32m---> 11\u001b[0;31m \u001b[0mprint\u001b[0m\u001b[0;34m(\u001b[0m\u001b[0;34m\"Number of events less than 1.3m:\"\u001b[0m\u001b[0;34m+\u001b[0m\u001b[0mstr\u001b[0m\u001b[0;34m(\u001b[0m\u001b[0mlen\u001b[0m\u001b[0;34m(\u001b[0m\u001b[0mPeD_pbar\u001b[0m\u001b[0;34m[\u001b[0m\u001b[0mPeD_pbar\u001b[0m\u001b[0;34m<\u001b[0m\u001b[0;36m130\u001b[0m\u001b[0;34m]\u001b[0m\u001b[0;34m)\u001b[0m\u001b[0;34m/\u001b[0m\u001b[0mlen\u001b[0m\u001b[0;34m(\u001b[0m\u001b[0mPeD_pbar\u001b[0m\u001b[0;34m)\u001b[0m\u001b[0;34m)\u001b[0m\u001b[0;34m)\u001b[0m\u001b[0;34m\u001b[0m\u001b[0;34m\u001b[0m\u001b[0m\n\u001b[0m\u001b[1;32m     12\u001b[0m \u001b[0mprint\u001b[0m\u001b[0;34m(\u001b[0m\u001b[0;34m\"Number of events less than 1.2m:\"\u001b[0m\u001b[0;34m+\u001b[0m\u001b[0mstr\u001b[0m\u001b[0;34m(\u001b[0m\u001b[0mlen\u001b[0m\u001b[0;34m(\u001b[0m\u001b[0mPeD_pbar\u001b[0m\u001b[0;34m[\u001b[0m\u001b[0mPeD_pbar\u001b[0m\u001b[0;34m<\u001b[0m\u001b[0;36m120\u001b[0m\u001b[0;34m]\u001b[0m\u001b[0;34m)\u001b[0m\u001b[0;34m/\u001b[0m\u001b[0mlen\u001b[0m\u001b[0;34m(\u001b[0m\u001b[0mPeD_pbar\u001b[0m\u001b[0;34m)\u001b[0m\u001b[0;34m)\u001b[0m\u001b[0;34m)\u001b[0m\u001b[0;34m\u001b[0m\u001b[0;34m\u001b[0m\u001b[0m\n\u001b[1;32m     13\u001b[0m \u001b[0mprint\u001b[0m\u001b[0;34m(\u001b[0m\u001b[0;34m\"Number of events less than 1.1m:\"\u001b[0m\u001b[0;34m+\u001b[0m\u001b[0mstr\u001b[0m\u001b[0;34m(\u001b[0m\u001b[0mlen\u001b[0m\u001b[0;34m(\u001b[0m\u001b[0mPeD_pbar\u001b[0m\u001b[0;34m[\u001b[0m\u001b[0mPeD_pbar\u001b[0m\u001b[0;34m<\u001b[0m\u001b[0;36m110\u001b[0m\u001b[0;34m]\u001b[0m\u001b[0;34m)\u001b[0m\u001b[0;34m/\u001b[0m\u001b[0mlen\u001b[0m\u001b[0;34m(\u001b[0m\u001b[0mPeD_pbar\u001b[0m\u001b[0;34m)\u001b[0m\u001b[0;34m)\u001b[0m\u001b[0;34m)\u001b[0m\u001b[0;34m\u001b[0m\u001b[0;34m\u001b[0m\u001b[0m\n",
      "\u001b[0;31mZeroDivisionError\u001b[0m: division by zero"
     ]
    },
    {
     "data": {
      "image/png": "[encoded data removed]",
      "text/plain": [
       "<Figure size 432x288 with 1 Axes>"
      ]
     },
     "metadata": {
      "needs_background": "light"
     },
     "output_type": "display_data"
    }
   ],
   "source": [
    "anti_proton_Y = np.array(PeD_pbar)\n",
    "plt.hist(anti_proton_Y, bins = 40, label = \"antiproton 27353 events\", color = 'b')\n",
    "\n",
    "plt.title('antiproton stop events distance in LArTPC')\n",
    "plt.xlabel('Penetration distance/cm')\n",
    "plt.ylabel('number of events')\n",
    "plt.legend(loc='best')\n",
    "#plt.axis([0, 20, 0, 10])\n",
    "plt.grid(alpha = 0.2)\n",
    "\n",
    "print(\"Number of events less than 1.3m:\"+str(len(PeD_pbar[PeD_pbar<130])/len(PeD_pbar)))\n",
    "print(\"Number of events less than 1.2m:\"+str(len(PeD_pbar[PeD_pbar<120])/len(PeD_pbar)))\n",
    "print(\"Number of events less than 1.1m:\"+str(len(PeD_pbar[PeD_pbar<110])/len(PeD_pbar)))\n",
    "print(\"Number of events less than 1.0m:\"+str(len(PeD_pbar[PeD_pbar<100])/len(PeD_pbar)))\n",
    "print(\"Number of events less than 0.9m:\"+str(len(PeD_pbar[PeD_pbar<90])/len(PeD_pbar)))\n",
    "print(\"Number of events less than 0.8m:\"+str(len(PeD_pbar[PeD_pbar<80])/len(PeD_pbar)))\n",
    "print(\"Number of events less than 0.7m:\"+str(len(PeD_pbar[PeD_pbar<70])/len(PeD_pbar)))"
   ]
  },
  {
   "cell_type": "code",
   "execution_count": null,
   "metadata": {},
   "outputs": [],
   "source": [
    "anti_proton_Y = np.array(PeD_pbar_z)\n",
    "plt.hist(anti_proton_Y, bins = 40, label = \"antiproton 27353 events\", color = 'b')\n",
    "\n",
    "plt.title('antiproton stop events depth in LArTPC')\n",
    "plt.xlabel('Penetration Depth/cm')\n",
    "plt.ylabel('number of events')\n",
    "plt.legend(loc='best')\n",
    "#plt.axis([0, 20, 0, 10])\n",
    "plt.grid(alpha = 0.2)\n",
    "\n",
    "print(\"Number of events less than 20cm:\"+str(len(PeD_pbar_z[PeD_pbar_z<20])/len(PeD_pbar_z)))\n",
    "print(\"Number of events less than 18cm:\"+str(len(PeD_pbar_z[PeD_pbar_z<18])/len(PeD_pbar_z)))\n",
    "print(\"Number of events less than 16cm:\"+str(len(PeD_pbar_z[PeD_pbar_z<16])/len(PeD_pbar_z)))\n",
    "print(\"Number of events less than 14cm:\"+str(len(PeD_pbar_z[PeD_pbar_z<14])/len(PeD_pbar_z)))\n",
    "print(\"Number of events less than 12cm:\"+str(len(PeD_pbar_z[PeD_pbar_z<12])/len(PeD_pbar_z)))\n",
    "print(\"Number of events less than 10cm:\"+str(len(PeD_pbar_z[PeD_pbar_z<10])/len(PeD_pbar_z)))\n",
    "print(\"Number of events less than 8cm:\"+str(len(PeD_pbar_z[PeD_pbar_z<8])/len(PeD_pbar_z)))"
   ]
  },
  {
   "cell_type": "code",
   "execution_count": null,
   "metadata": {},
   "outputs": [],
   "source": [
    "anti_proton_Y = np.array(TOF_out_pbar_side[TOF_out_pbar_side>0])\n",
    "plt.hist(anti_proton_Y, bins = 40, label = \"antiproton %d events\"%len(TOF_out_pbar_side[TOF_out_pbar_side>0]), color = 'b')\n",
    "\n",
    "plt.title('antiproton outer TOF side hit')\n",
    "plt.xlabel('side position away from top/cm')\n",
    "plt.ylabel('number of events')\n",
    "plt.legend(loc='best')\n",
    "#plt.axis([0, 20, 0, 10])\n",
    "plt.grid(alpha = 0.2)\n",
    "\n",
    "print(\"Number of events less than 1.5m:\"+str(len(PeD_pbar[PeD_pbar<150])/len(PeD_pbar)))\n",
    "print(\"Number of events less than 1.4m:\"+str(len(PeD_pbar[PeD_pbar<140])/len(PeD_pbar)))\n",
    "print(\"Number of events less than 1.3m:\"+str(len(PeD_pbar[PeD_pbar<130])/len(PeD_pbar)))\n",
    "print(\"Number of events less than 1.2m:\"+str(len(PeD_pbar[PeD_pbar<120])/len(PeD_pbar)))\n",
    "print(\"Number of events less than 1.1m:\"+str(len(PeD_pbar[PeD_pbar<110])/len(PeD_pbar)))\n",
    "print(\"Number of events less than 1.0m:\"+str(len(PeD_pbar[PeD_pbar<100])/len(PeD_pbar)))\n",
    "print(\"Number of events less than 0.9m:\"+str(len(PeD_pbar[PeD_pbar<90])/len(PeD_pbar)))"
   ]
  },
  {
   "cell_type": "code",
   "execution_count": null,
   "metadata": {},
   "outputs": [],
   "source": [
    "\n",
    "plt.hist(distance_pbar[TOF_out_pbar_side>0], bins = 200, label = \"antiproton %d events\"%len(TOF_out_pbar_side[TOF_out_pbar_side>0]), color = 'b')\n",
    "plt.title('antiproton outer TOF side hit distance')\n",
    "plt.xlabel('distance between outer TOF and inner TOF/cm')\n",
    "plt.ylabel('number of events')\n",
    "plt.legend(loc='best')\n",
    "#plt.axis([0, 20, 0, 10])\n",
    "plt.grid(alpha = 0.2)\n",
    "\n",
    "print(\"Number of events distance larger than 1.5m:\"+str(len(distance_pbar[np.logical_and(TOF_out_pbar_side>0, distance_pbar>150)])/len(distance_pbar[TOF_out_pbar_side>0])))"
   ]
  },
  {
   "cell_type": "code",
   "execution_count": null,
   "metadata": {},
   "outputs": [],
   "source": []
  }
 ],
 "metadata": {
  "kernelspec": {
   "display_name": "Python 3 (ipykernel)",
   "language": "python",
   "name": "python3"
  },
  "language_info": {
   "codemirror_mode": {
    "name": "ipython",
    "version": 3
   },
   "file_extension": ".py",
   "mimetype": "text/x-python",
   "name": "python",
   "nbconvert_exporter": "python",
   "pygments_lexer": "ipython3",
   "version": "3.9.6"
  }
 },
 "nbformat": 4,
 "nbformat_minor": 4
}
