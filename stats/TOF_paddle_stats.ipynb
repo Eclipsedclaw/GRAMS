{
 "cells": [
  {
   "cell_type": "code",
   "execution_count": null,
   "metadata": {},
   "outputs": [],
   "source": [
    "\"\"\"\n",
    "identify TOF paddle stats\n",
    "@aurthor Jiancheng Zeng\n",
    "@Oct 27 2021\n",
    "\"\"\""
   ]
  },
  {
   "cell_type": "code",
   "execution_count": 3,
   "metadata": {},
   "outputs": [],
   "source": [
    "import numpy as np\n",
    "import matplotlib.pyplot as plt\n",
    "import statistics\n",
    "from numpy import array\n",
    "import pandas as pd\n",
    "import math\n",
    "pd.set_option('display.float_format', lambda x: '%0.4f' % x)"
   ]
  },
  {
   "cell_type": "code",
   "execution_count": 12,
   "metadata": {},
   "outputs": [
    {
     "name": "stdout",
     "output_type": "stream",
     "text": [
      "Reading data ...\n",
      "finish reading data!\n",
      "Modifing data ...\n",
      "TOF data process:99%\n",
      " identification:finished!\n",
      "finished!\n"
     ]
    }
   ],
   "source": [
    "event = []\n",
    "identical = []\n",
    "\n",
    "\"\"\"\n",
    "Select by name of the column\n",
    "---------------------\n",
    "\"\"\"\n",
    "title = [\"eventID\", \"trackID\", \"parentID\", \"particleID\", \"copyNb1 (mother volume)\", \"copyNb\", \"material\", \"time (ns)\", \"energy(MeV)\", \"energy deposit(MeV)\", \"parent process name\", \"process name\", \"px (MeV/c)\", \"py (MeV/c)\", \"pz (MeV/c)\", \"step length (cm)\", \"x (cm)\", \"y (cm)\", \"z (cm)\"]\n",
    "\n",
    "\"\"\"\n",
    "Read data from total data file\n",
    "--------------------\n",
    "\"\"\"\n",
    "print(\"Reading data ...\")\n",
    "#data = pd.read_table(\"/Users/jiancheng/GRAMS/Toy Model/Machine Learning/210824_anti_proton_250MeV_Lin.dat\")    #get data file\n",
    "data = np.array(pd.read_table(\"/Users/jiancheng/GRAMS/data/rawdata/old_TPC140_GRASP_anti_proton_5e7_MeV.dat\"))\n",
    "print(\"finish reading data!\")\n",
    "\n",
    "\"\"\"\n",
    "modification\n",
    "\"\"\"\n",
    "TOF_out_pbar_E = []\n",
    "TOF_out_pbar_T = []\n",
    "TOF_in_pbar_E = []\n",
    "TOF_in_pbar_T = []\n",
    "index_pbar = []\n",
    "angle_pbar = []\n",
    "distance_pbar = []\n",
    "Nevent = -1\n",
    "Case = []\n",
    "\n",
    "print(\"Modifing data ...\")\n",
    "for i in range(len(data[:,0])-1):\n",
    "    TOF_out_p = 0\n",
    "    TOF_in_p = 0\n",
    "#for i in range(27):\n",
    "    Nevent = Nevent + 1\n",
    "    if(data[i][0] != data[i+1][0]):\n",
    "        for k in range(Nevent):\n",
    "            if(str(data[i-Nevent+k][6]) == 'LAr' and str(data[i-Nevent+k][3]) == '-2212' and str(data[i][8]) == str(data[i][9])):\n",
    "                event_in = 0\n",
    "                event_out = 0\n",
    "                tempin = 0\n",
    "                tempout = 0\n",
    "                tempin_T = 0\n",
    "                TOF_out_p = 0\n",
    "                for m in range(k):\n",
    "                    if(str(data[i-Nevent+m][5]) == '-10000' or str(data[i-Nevent+m][5]) == '-10001' or str(data[i-Nevent+m][5]) == '-10002' or str(data[i-Nevent+m][5]) == '-10003' or str(data[i-Nevent+m][5]) == '-10004' or str(data[i-Nevent+m][5]) == '-10005' and str(data[i-Nevent+m][3]) == '-2212'):\n",
    "                    #if(str(data[i-Nevent+m][5]) == '-11004' and str(data[i-Nevent+m][3]) == '-2212'):\n",
    "                        tempout = tempout + float(data[i-Nevent+m][9])\n",
    "                        if(str(data[i-Nevent+m-1][5]) != '-10000' and str(data[i-Nevent+m-1][5]) != '-10001' and str(data[i-Nevent+m-1][5]) != '-10002' and str(data[i-Nevent+m-1][5]) != '-10003' and str(data[i-Nevent+m-1][5]) != '-10004' and str(data[i-Nevent+m-1][5]) != '-10005' or str(data[i-Nevent+m][5]) == '-10000' or str(data[i-Nevent+m][5]) == '-10001' or str(data[i-Nevent+m][5]) == '-10002' or str(data[i-Nevent+m][5]) == '-10003' or str(data[i-Nevent+m][5]) == '-10004' or str(data[i-Nevent+m][5]) == '-10005' and data[i-Nevent+m][6] == 'Plastic'):\n",
    "                            tempout_T = data[i-Nevent+m][7]\n",
    "                            event_out = m\n",
    "                            #if(abs(float(data[i-Nevent+m][16])) <= 180 and abs(float(data[i-Nevent+m][17])) <= 180):    #select top TOF range\n",
    "                            if(str(data[i-Nevent+m][5]) == '-10000'):    #select paddle\n",
    "                                TOF_out_p = 1\n",
    "                            elif(str(data[i-Nevent+m][5]) == '-10002' or str(data[i-Nevent+m][5]) == '-10003' or str(data[i-Nevent+m][5]) == '-10004' or str(data[i-Nevent+m][5]) == '-10005'):\n",
    "                                TOF_out_p = 2\n",
    "                    #elif(str(data[i-Nevent+m][5]) == '-10000' or str(data[i-Nevent+m][5]) == '-10005' and str(data[i-Nevent+m][3]) == '-2212'):\n",
    "                    if(str(data[i-Nevent+m][5]) == '-11000' or str(data[i-Nevent+m][5]) == '-11001' or str(data[i-Nevent+m][5]) == '-11002' or str(data[i-Nevent+m][5]) == '-11003' or str(data[i-Nevent+m][5]) == '-11004' or str(data[i-Nevent+m][5]) == '-11005' and str(data[i-Nevent+m][3]) == '-2212'):\n",
    "                        tempin = tempin + float(data[i-Nevent+m][9])\n",
    "                        if(str(data[i-Nevent+m-1][5]) != '-11000' and str(data[i-Nevent+m-1][5]) != '-11001' and str(data[i-Nevent+m-1][5]) != '-11002' and str(data[i-Nevent+m-1][5]) != '-11003' and str(data[i-Nevent+m-1][5]) != '-11004' and str(data[i-Nevent+m-1][5]) != '-11005' and data[i-Nevent+m][6] == 'Plastic'):\n",
    "                            tempin_T = data[i-Nevent+m][7]\n",
    "                            event_in = m\n",
    "                            if(str(data[i-Nevent+m][5]) == '-11000'):\n",
    "                                TOF_in_p = 1\n",
    "                            elif(str(data[i-Nevent+m][5]) == '-11002' or str(data[i-Nevent+m][5]) == '-11003' or str(data[i-Nevent+m][5]) == '-11004' or str(data[i-Nevent+m][5]) == '-11005'):\n",
    "                                TOF_in_p = 2\n",
    "                if(tempin != 0 and tempout != 0):\n",
    "                    #theta0 = np.arctan((210 - float(selection[i][0][18]))/np.sqrt((float(selection[i][0][17])-0) ** 2 + (float(selection[i][0][16])-0) ** 2))\n",
    "                    theta = np.arctan(np.sqrt((float(data[i-Nevent+event_out][17])-float(data[i-Nevent+event_in][17])) ** 2 + (float(data[i-Nevent+event_out][16])-float(data[i-Nevent+event_in][16])) ** 2)/(float(data[i-Nevent+event_out][18])-float(data[i-Nevent+event_in][18])))\n",
    "                    distance = np.sqrt((float(data[i-Nevent+event_out][16]) - float(data[i-Nevent+event_in][16])) ** 2 + (float(data[i-Nevent+event_out][17]) - float(data[i-Nevent+event_in][17])) ** 2 + (float(data[i-Nevent+event_out][18]) - float(data[i-Nevent+event_in][18])) ** 2)\n",
    "                    TOF_out_pbar_E.append(tempout)\n",
    "                    TOF_in_pbar_E.append(tempin)\n",
    "                    index_pbar.append(data[i-Nevent+k][0])\n",
    "                    TOF_out_pbar_T.append(tempout_T)\n",
    "                    TOF_in_pbar_T.append(tempin_T)\n",
    "                    angle_pbar.append(theta)\n",
    "                    distance_pbar.append(distance)\n",
    "                    if(TOF_out_p == 1 and TOF_in_p ==1):\n",
    "                        Case.append(1)\n",
    "                    elif(TOF_out_p == 2 and TOF_in_p ==1):\n",
    "                        Case.append(2)\n",
    "                    elif(TOF_out_p == 1 and TOF_in_p ==2):\n",
    "                        Case.append(3)\n",
    "                    elif(TOF_out_p == 2 and TOF_in_p ==2):\n",
    "                        Case.append(4)\n",
    "                    else:\n",
    "                        Case.append(0)\n",
    "                Nevent = -1\n",
    "                break       \n",
    "    print(\"TOF data process:\"+str(int(100*i/len(data[:,0])))+\"%\", end='\\r')\n",
    "\n",
    "print(\"\\n identification:finished!\")\n",
    "\n",
    "index_pbar = array([float(i) for i in index_pbar])\n",
    "time_pbar = array([float(i) for i in TOF_in_pbar_T]) - array([float(i) for i in TOF_out_pbar_T])\n",
    "dEOut_pbar = array([float(i) for i in TOF_out_pbar_E])\n",
    "dEIn_pbar = array([float(i) for i in TOF_in_pbar_E])\n",
    "angle_pbar = array([float(i) for i in angle_pbar])\n",
    "Case = array([float(i) for i in Case])\n",
    "#plt.scatter(time_pbar, dE_pbar)\n",
    "anti_p = np.array([index_pbar, dEOut_pbar, dEIn_pbar, time_pbar, angle_pbar, distance_pbar, Case]).transpose()\n",
    "#np.savetxt('/Users/jiancheng/CloudDocuments/Documents/Github/GRAMS/GRAMS_2021/output/TOF/TOF_anti_proton_1e7_0_500_45_4_result.txt', anti_proton, delimiter = '\\t ', fmt='%.6s')\n",
    "with open(\"/Users/jiancheng/GRAMS/data/TOF/test.txt\", \"w\") as f:    #input file\n",
    "#with open(\"/Users/jiancheng/CloudDocuments/Documents/Github/GRAMS/GRAMS_2021/output/TOF/test.txt\", \"ab\") as f:    #test run\n",
    "    #f.write(b\"\\n\")\n",
    "    np.savetxt(f, anti_p)\n",
    "print(\"finished!\")\n",
    "\n"
   ]
  },
  {
   "cell_type": "code",
   "execution_count": 15,
   "metadata": {},
   "outputs": [
    {
     "name": "stdout",
     "output_type": "stream",
     "text": [
      "[Case1]:17653(55%)\n",
      "[Case2]:9884(30%)\n",
      "[Case3]:224(0%)\n",
      "[Case4]:4266(13%)\n"
     ]
    },
    {
     "data": {
      "image/png": "[encoded data removed]",
      "text/plain": [
       "<Figure size 432x288 with 1 Axes>"
      ]
     },
     "metadata": {
      "needs_background": "light"
     },
     "output_type": "display_data"
    }
   ],
   "source": [
    "anti_proton_Y = np.array(Case)\n",
    "plt.hist(anti_proton_Y, label = \"antiproton %d events\"%len(Case), color = 'b')\n",
    "\n",
    "plt.title('antiproton events group for old design')\n",
    "plt.xlabel('Case')\n",
    "plt.ylabel('number of events')\n",
    "plt.legend(loc='best')\n",
    "#plt.axis([0, 20, 0, 10])\n",
    "plt.grid(alpha = 0.2)\n",
    "print(\"[Case1]:\"+str(len(Case[Case==1]))+\"(\"+str(int(100*len(Case[Case==1])/len(Case)))+\"%)\")\n",
    "print(\"[Case2]:\"+str(len(Case[Case==2]))+\"(\"+str(int(100*len(Case[Case==2])/len(Case)))+\"%)\")\n",
    "print(\"[Case3]:\"+str(len(Case[Case==3]))+\"(\"+str(int(100*len(Case[Case==3])/len(Case)))+\"%)\")\n",
    "print(\"[Case4]:\"+str(len(Case[Case==4]))+\"(\"+str(int(100*len(Case[Case==4])/len(Case)))+\"%)\")"
   ]
  },
  {
   "cell_type": "code",
   "execution_count": 43,
   "metadata": {},
   "outputs": [
    {
     "name": "stdout",
     "output_type": "stream",
     "text": [
      "0.8627428765648898\n"
     ]
    }
   ],
   "source": [
    "print(len(Case[Case==1])/17653)"
   ]
  },
  {
   "cell_type": "code",
   "execution_count": 45,
   "metadata": {},
   "outputs": [
    {
     "name": "stdout",
     "output_type": "stream",
     "text": [
      "[Case1]:0.6453771067158995\n",
      "[Case2]:0.2703908163638358\n",
      "[Case3]:0.005886008847292802\n",
      "[Case4]:0.07834606807297188\n",
      "[Center]:0.556794501517201\n"
     ]
    }
   ],
   "source": [
    "print(\"[Case1]:\"+str(17653/27353))\n",
    "print(\"[Case2]:\"+str(7396/27353))\n",
    "print(\"[Case3]:\"+str(161/27353))\n",
    "print(\"[Case4]:\"+str(2143/27353))\n",
    "print(\"[Center]:\"+str(len(Case[Case==1])/27353))"
   ]
  },
  {
   "cell_type": "code",
   "execution_count": null,
   "metadata": {},
   "outputs": [],
   "source": []
  },
  {
   "cell_type": "code",
   "execution_count": null,
   "metadata": {},
   "outputs": [],
   "source": []
  }
 ],
 "metadata": {
  "kernelspec": {
   "display_name": "Python 3 (ipykernel)",
   "language": "python",
   "name": "python3"
  },
  "language_info": {
   "codemirror_mode": {
    "name": "ipython",
    "version": 3
   },
   "file_extension": ".py",
   "mimetype": "text/x-python",
   "name": "python",
   "nbconvert_exporter": "python",
   "pygments_lexer": "ipython3",
   "version": "3.9.6"
  }
 },
 "nbformat": 4,
 "nbformat_minor": 4
}
