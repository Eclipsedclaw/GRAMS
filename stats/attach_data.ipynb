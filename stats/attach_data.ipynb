{
 "cells": [
  {
   "cell_type": "code",
   "execution_count": 10,
   "metadata": {},
   "outputs": [
    {
     "data": {
      "text/plain": [
       "'\\nattach geant4 data files\\n@aurthor Jiancheng Zeng\\n@Nov 29 2021\\n'"
      ]
     },
     "execution_count": 10,
     "metadata": {},
     "output_type": "execute_result"
    }
   ],
   "source": [
    "\"\"\"\n",
    "attach geant4 data files\n",
    "@aurthor Jiancheng Zeng\n",
    "@Nov 29 2021\n",
    "\"\"\""
   ]
  },
  {
   "cell_type": "code",
   "execution_count": 11,
   "metadata": {},
   "outputs": [],
   "source": [
    "import numpy as np\n",
    "from os.path import exists\n",
    "from numpy import array\n",
    "import pandas as pd\n",
    "pd.set_option('display.float_format', lambda x: '%0.4f' % x)"
   ]
  },
  {
   "cell_type": "code",
   "execution_count": 32,
   "metadata": {},
   "outputs": [
    {
     "name": "stdout",
     "output_type": "stream",
     "text": [
      "finished!\n"
     ]
    }
   ],
   "source": [
    "Total_Vector = []\n",
    "for i in range(99):\n",
    "    path_to_file = \"/Users/jiancheng/GRAMS/data/rawdata/ORI_Stop_anti_He3_1e8_Ene_0_1500_%d.dat\"%(i+1)    #read file path\n",
    "    path_to_write = \"/Users/jiancheng/GRAMS/data/TOF/ORI_Stop_anti_He3_1e9_Ene_0_1500.dat.txt\"    #output file path\n",
    "    if(exists(path_to_file)):\n",
    "        with open(path_to_file, mode='r') as in_file, \\\n",
    "             open(path_to_write, mode='a') as out_file:\n",
    "            for line in in_file:\n",
    "                out_file.write(line)\n",
    "            \n",
    "print(\"finished!\")"
   ]
  },
  {
   "cell_type": "code",
   "execution_count": null,
   "metadata": {},
   "outputs": [],
   "source": []
  }
 ],
 "metadata": {
  "kernelspec": {
   "display_name": "Python 3 (ipykernel)",
   "language": "python",
   "name": "python3"
  },
  "language_info": {
   "codemirror_mode": {
    "name": "ipython",
    "version": 3
   },
   "file_extension": ".py",
   "mimetype": "text/x-python",
   "name": "python",
   "nbconvert_exporter": "python",
   "pygments_lexer": "ipython3",
   "version": "3.9.6"
  }
 },
 "nbformat": 4,
 "nbformat_minor": 4
}
