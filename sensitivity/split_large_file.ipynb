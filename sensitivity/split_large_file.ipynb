{
 "cells": [
  {
   "cell_type": "code",
   "execution_count": 1,
   "metadata": {},
   "outputs": [
    {
     "data": {
      "text/plain": [
       "'\\nsplit large data files\\n@aurthor Jiancheng Zeng\\n@October 13 2021\\n'"
      ]
     },
     "execution_count": 1,
     "metadata": {},
     "output_type": "execute_result"
    }
   ],
   "source": [
    "\"\"\"\n",
    "split large data files\n",
    "@aurthor Jiancheng Zeng\n",
    "@October 13 2021\n",
    "\"\"\""
   ]
  },
  {
   "cell_type": "code",
   "execution_count": 2,
   "metadata": {},
   "outputs": [],
   "source": [
    "NUM_OF_LINES=10000000\n",
    "filename = '/Users/jiancheng/GRAMS/Toy Model/data/cut/TOF_anti_proton_1e7_0_500_0_4.dat'\n",
    "with open(filename) as fin:\n",
    "    fout = open(\"./data/TOF_data/TOF_anti_proton_1e7_0_500_0_4_1.txt\",\"wb\")\n",
    "    for i, line in enumerate(fin):\n",
    "        fout.write(line.encode())\n",
    "        if (i+1)%NUM_OF_LINES == 0:\n",
    "            fout.close()\n",
    "            fout = open(\"./data/TOF_data/TOF_anti_proton_1e7_0_500_0_4_%d.txt\"%(i/NUM_OF_LINES + 1), \"wb\")\n",
    "            \n",
    "    fout.close()"
   ]
  },
  {
   "cell_type": "code",
   "execution_count": null,
   "metadata": {},
   "outputs": [],
   "source": []
  }
 ],
 "metadata": {
  "kernelspec": {
   "display_name": "Python 3 (ipykernel)",
   "language": "python",
   "name": "python3"
  },
  "language_info": {
   "codemirror_mode": {
    "name": "ipython",
    "version": 3
   },
   "file_extension": ".py",
   "mimetype": "text/x-python",
   "name": "python",
   "nbconvert_exporter": "python",
   "pygments_lexer": "ipython3",
   "version": "3.9.6"
  }
 },
 "nbformat": 4,
 "nbformat_minor": 4
}
