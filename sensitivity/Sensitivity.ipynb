{
 "cells": [
  {
   "cell_type": "code",
   "execution_count": null,
   "metadata": {},
   "outputs": [],
   "source": [
    "\"\"\"\n",
    "Sensitivity calculation for GRAMS\n",
    "@aurthor Jiancheng Zeng\n",
    "@September 16 2021\n",
    "\n",
    "\"\"\""
   ]
  },
  {
   "cell_type": "code",
   "execution_count": 1,
   "metadata": {},
   "outputs": [],
   "source": [
    "import numpy as np\n",
    "import pandas as pd\n",
    "import math\n",
    "#pd.set_option(\"display.precision\", 8)\n",
    "anti_particle = pd.DataFrame('missing', index = [\"Flight mission\", \"Duration\", \"Time\", \"Geomagnetic cutoff\", \"Observation time efficiency\", \"Number of particles\", \"Areas\", \"Number of stop events\", \"GRASP\", \"Cut efficiency\", \"Energy band\", \"Flux\"], columns = [\"anti_proton\", \"anti_deuteron\", \"anti_He3\"])"
   ]
  },
  {
   "cell_type": "code",
   "execution_count": 2,
   "metadata": {},
   "outputs": [
    {
     "name": "stdout",
     "output_type": "stream",
     "text": [
      "                            anti_proton anti_deuteron  anti_He3\n",
      "Flight mission                        3             3         3\n",
      "Duration                             35            35        35\n",
      "Time                            9072000       9072000   9072000\n",
      "Geomagnetic cutoff                  0.7           0.8       0.5\n",
      "Observation time efficiency           1             1         1\n",
      "Number of particles            10000000        100000  10000000\n",
      "Areas                               400           400       400\n",
      "Number of stop events              1000            20      3854\n",
      "GRASP                               0.2      0.251327  0.484308\n",
      "Cut efficiency                  0.00001           0.4         1\n",
      "Energy band                        0.25          0.25      0.25\n",
      "Flux                              0.003      0.000005  0.000002\n"
     ]
    }
   ],
   "source": [
    "anti_particle['anti_proton']['Flight mission'] = 3\n",
    "anti_particle['anti_proton']['Duration'] = 35\n",
    "anti_particle['anti_proton']['Time'] = anti_particle['anti_proton']['Flight mission'] * anti_particle['anti_proton']['Duration'] * 24 *3600\n",
    "anti_particle['anti_proton']['Geomagnetic cutoff'] = 0.7\n",
    "anti_particle['anti_proton']['Observation time efficiency'] = 1\n",
    "anti_particle['anti_proton']['Number of particles'] = 10000000\n",
    "anti_particle['anti_proton']['Areas'] = 400\n",
    "anti_particle['anti_proton']['Number of stop events'] = 1000\n",
    "anti_particle['anti_proton']['GRASP'] = 0.2\n",
    "anti_particle['anti_proton']['Cut efficiency'] = 1e-5\n",
    "anti_particle['anti_proton']['Energy band'] = 0.25\n",
    "anti_particle['anti_proton']['Flux'] = 0.003\n",
    "\n",
    "anti_particle['anti_deuteron']['Flight mission'] = 3\n",
    "anti_particle['anti_deuteron']['Duration'] = 35\n",
    "anti_particle['anti_deuteron']['Time'] = anti_particle['anti_deuteron']['Flight mission'] * anti_particle['anti_deuteron']['Duration'] * 24 *3600\n",
    "anti_particle['anti_deuteron']['Geomagnetic cutoff'] = 0.8\n",
    "anti_particle['anti_deuteron']['Observation time efficiency'] = 1\n",
    "anti_particle['anti_deuteron']['Number of particles'] = 100000\n",
    "anti_particle['anti_deuteron']['Areas'] = 400\n",
    "anti_particle['anti_deuteron']['Number of stop events'] = 20\n",
    "anti_particle['anti_deuteron']['GRASP'] = anti_particle['anti_deuteron']['Areas'] * math.pi * anti_particle['anti_deuteron']['Number of stop events'] / anti_particle['anti_deuteron']['Number of particles']\n",
    "anti_particle['anti_deuteron']['Cut efficiency'] = 0.4\n",
    "anti_particle['anti_deuteron']['Energy band'] = 0.25\n",
    "anti_particle['anti_deuteron']['Flux'] = 1 / (anti_particle['anti_deuteron']['Time'] * anti_particle['anti_deuteron']['Geomagnetic cutoff'] * anti_particle['anti_deuteron']['Observation time efficiency'] * anti_particle['anti_deuteron']['GRASP'] * anti_particle['anti_deuteron']['Cut efficiency'] * anti_particle['anti_deuteron']['Energy band'])\n",
    "\n",
    "anti_particle['anti_He3']['Flight mission'] = 3\n",
    "anti_particle['anti_He3']['Duration'] = 35\n",
    "anti_particle['anti_He3']['Time'] = anti_particle['anti_He3']['Flight mission'] * anti_particle['anti_He3']['Duration'] * 24 *3600\n",
    "anti_particle['anti_He3']['Geomagnetic cutoff'] = 0.5\n",
    "anti_particle['anti_He3']['Observation time efficiency'] = 1\n",
    "anti_particle['anti_He3']['Number of particles'] = 10000000\n",
    "anti_particle['anti_He3']['Areas'] = 400\n",
    "anti_particle['anti_He3']['Number of stop events'] = 3854\n",
    "anti_particle['anti_He3']['GRASP'] = anti_particle['anti_He3']['Areas'] * math.pi * anti_particle['anti_He3']['Number of stop events'] / anti_particle['anti_He3']['Number of particles']\n",
    "anti_particle['anti_He3']['Cut efficiency'] = 1\n",
    "anti_particle['anti_He3']['Energy band'] = 0.25\n",
    "anti_particle['anti_He3']['Flux'] = 1 / (anti_particle['anti_He3']['Time'] * anti_particle['anti_He3']['Geomagnetic cutoff'] * anti_particle['anti_He3']['Observation time efficiency'] * anti_particle['anti_He3']['GRASP'] * anti_particle['anti_He3']['Cut efficiency'] * anti_particle['anti_He3']['Energy band'])\n",
    "\n",
    "print(anti_particle)"
   ]
  },
  {
   "cell_type": "code",
   "execution_count": 3,
   "metadata": {},
   "outputs": [
    {
     "name": "stdout",
     "output_type": "stream",
     "text": [
      "                              anti_He3\n",
      "Flight mission                       3\n",
      "Duration                            35\n",
      "Time                           9072000\n",
      "Geomagnetic cutoff                 0.5\n",
      "Observation time efficiency          1\n",
      "Number of particles           10000000\n",
      "Areas                              400\n",
      "Number of stop events             5148\n",
      "GRASP                         0.484308\n",
      "Cut efficiency                       1\n",
      "Energy band                  16.666667\n",
      "Flux                          0.000002\n"
     ]
    }
   ],
   "source": [
    "\"\"\"\n",
    "adding new events to data frame\n",
    "\"\"\"\n",
    "add = pd.DataFrame('missing', index = [\"Flight mission\", \"Duration\", \"Time\", \"Geomagnetic cutoff\", \"Observation time efficiency\", \"Number of particles\", \"Areas\", \"Number of stop events\", \"GRASP\", \"Cut efficiency\", \"Energy band\", \"Flux\"], columns = [\"anti_He3\"])\n",
    "\n",
    "add['anti_He3']['Flight mission'] = 3\n",
    "add['anti_He3']['Duration'] = 35\n",
    "add['anti_He3']['Time'] = anti_particle['anti_He3']['Flight mission'] * anti_particle['anti_He3']['Duration'] * 24 *3600\n",
    "add['anti_He3']['Geomagnetic cutoff'] = 0.5\n",
    "add['anti_He3']['Observation time efficiency'] = 1\n",
    "add['anti_He3']['Number of particles'] = 10000000\n",
    "add['anti_He3']['Areas'] = 400\n",
    "add['anti_He3']['Number of stop events'] = 5148\n",
    "add['anti_He3']['GRASP'] = anti_particle['anti_He3']['Areas'] * math.pi * anti_particle['anti_He3']['Number of stop events'] / anti_particle['anti_He3']['Number of particles']\n",
    "add['anti_He3']['Cut efficiency'] = 1\n",
    "add['anti_He3']['Energy band'] = 50/3\n",
    "add['anti_He3']['Flux'] = 1 / (anti_particle['anti_He3']['Time'] * anti_particle['anti_He3']['Geomagnetic cutoff'] * anti_particle['anti_He3']['Observation time efficiency'] * anti_particle['anti_He3']['GRASP'] * anti_particle['anti_He3']['Cut efficiency'] * anti_particle['anti_He3']['Energy band'])\n",
    "\n",
    "print(add)"
   ]
  },
  {
   "cell_type": "code",
   "execution_count": 5,
   "metadata": {},
   "outputs": [
    {
     "name": "stdout",
     "output_type": "stream",
     "text": [
      "                            anti_proton anti_deuteron  anti_He3   anti_He3  \\\n",
      "Flight mission                        3             3         3          3   \n",
      "Duration                             35            35        35         35   \n",
      "Time                            9072000       9072000   9072000    9072000   \n",
      "Geomagnetic cutoff                  0.7           0.8       0.5        0.5   \n",
      "Observation time efficiency           1             1         1          1   \n",
      "Number of particles            10000000        100000  10000000   10000000   \n",
      "Areas                               400           400       400        400   \n",
      "Number of stop events              1000            20      3854       5148   \n",
      "GRASP                               0.2      0.251327  0.484308   0.484308   \n",
      "Cut efficiency                  0.00001           0.4         1          1   \n",
      "Energy band                        0.25          0.25      0.25  16.666667   \n",
      "Flux                              0.003      0.000005  0.000002   0.000002   \n",
      "\n",
      "                              anti_He3  \n",
      "Flight mission                       3  \n",
      "Duration                            35  \n",
      "Time                           9072000  \n",
      "Geomagnetic cutoff                 0.5  \n",
      "Observation time efficiency          1  \n",
      "Number of particles           10000000  \n",
      "Areas                              400  \n",
      "Number of stop events             5148  \n",
      "GRASP                         0.484308  \n",
      "Cut efficiency                       1  \n",
      "Energy band                  16.666667  \n",
      "Flux                          0.000002  \n",
      "(12, 5)\n"
     ]
    }
   ],
   "source": [
    "anti_particle = pd.concat([anti_particle, add], axis=1)\n",
    "print(anti_particle)\n",
    "print(anti_particle.shape)"
   ]
  },
  {
   "cell_type": "code",
   "execution_count": null,
   "metadata": {},
   "outputs": [],
   "source": []
  },
  {
   "cell_type": "code",
   "execution_count": null,
   "metadata": {},
   "outputs": [],
   "source": []
  }
 ],
 "metadata": {
  "kernelspec": {
   "display_name": "Python 3 (ipykernel)",
   "language": "python",
   "name": "python3"
  },
  "language_info": {
   "codemirror_mode": {
    "name": "ipython",
    "version": 3
   },
   "file_extension": ".py",
   "mimetype": "text/x-python",
   "name": "python",
   "nbconvert_exporter": "python",
   "pygments_lexer": "ipython3",
   "version": "3.9.6"
  }
 },
 "nbformat": 4,
 "nbformat_minor": 4
}
