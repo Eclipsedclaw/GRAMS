{
 "cells": [
  {
   "cell_type": "code",
   "execution_count": 1,
   "id": "351c2a78-94d6-4876-b188-0e2b9669cdcb",
   "metadata": {},
   "outputs": [
    {
     "data": {
      "text/plain": [
       "'\\nAnnihilation Products multiplicity\\n@aurthor Jiancheng Zeng\\n@December 13 2021\\n'"
      ]
     },
     "execution_count": 1,
     "metadata": {},
     "output_type": "execute_result"
    }
   ],
   "source": [
    "\"\"\"\n",
    "Annihilation Products multiplicity\n",
    "@aurthor Jiancheng Zeng\n",
    "@December 13 2021\n",
    "\"\"\""
   ]
  },
  {
   "cell_type": "code",
   "execution_count": 2,
   "id": "60a17156-c044-4ca6-b421-3221de2c9359",
   "metadata": {},
   "outputs": [],
   "source": [
    "import numpy as np\n",
    "import matplotlib\n",
    "import matplotlib.pyplot as plt\n",
    "import pandas as pd\n",
    "import math\n",
    "import time\n",
    "pd.set_option('display.float_format', lambda x: '%0.4f' % x)"
   ]
  },
  {
   "cell_type": "code",
   "execution_count": 3,
   "id": "be8e58c1-3453-45f3-b9c5-44a8205bc78c",
   "metadata": {},
   "outputs": [
    {
     "name": "stdout",
     "output_type": "stream",
     "text": [
      "reading data...\n",
      "finish reading data!\n"
     ]
    }
   ],
   "source": [
    "print(\"reading data...\")\n",
    "anti_He3_ORI = np.array(pd.read_table(\"/mnt/hdd/jiancheng/GRAMS/GRAMS_local/GRAMS_2021/output/ORI_Product_anti_He3_1e6_Ene_0_1500.dat\", delimiter = '\\t'))\n",
    "print(\"finish reading data!\")"
   ]
  },
  {
   "cell_type": "code",
   "execution_count": 4,
   "id": "1c8b9e8b-c010-43a9-b425-d5770e64e057",
   "metadata": {},
   "outputs": [
    {
     "name": "stdout",
     "output_type": "stream",
     "text": [
      "[[     2      8    211]\n",
      " [     2      8    211]\n",
      " [     2      8    211]\n",
      " ...\n",
      " [999996    168     11]\n",
      " [999996    167     11]\n",
      " [999996    166     11]]\n"
     ]
    }
   ],
   "source": [
    "print(anti_He3_ORI)  #anti_He3_ORI[:,0] event numebr    anti_He3_ORI[:,1] track number    anti_He3_ORI[:,2] particle numebr"
   ]
  },
  {
   "cell_type": "code",
   "execution_count": 6,
   "id": "0b2b4d03-e18f-4a78-b6e9-7198662806ef",
   "metadata": {},
   "outputs": [
    {
     "name": "stdout",
     "output_type": "stream",
     "text": [
      "multiplicity data process:99%, Now working on Events 999994\r"
     ]
    },
    {
     "ename": "IndexError",
     "evalue": "index 936834999 is out of bounds for axis 0 with size 936834999",
     "output_type": "error",
     "traceback": [
      "\u001b[0;31m---------------------------------------------------------------------------\u001b[0m",
      "\u001b[0;31mIndexError\u001b[0m                                Traceback (most recent call last)",
      "\u001b[0;32m/tmp/ipykernel_85589/1705474740.py\u001b[0m in \u001b[0;36m<module>\u001b[0;34m\u001b[0m\n\u001b[1;32m      6\u001b[0m \u001b[0;32mfor\u001b[0m \u001b[0mi\u001b[0m \u001b[0;32min\u001b[0m \u001b[0mrange\u001b[0m\u001b[0;34m(\u001b[0m\u001b[0mlen\u001b[0m\u001b[0;34m(\u001b[0m\u001b[0manti_He3_ORI\u001b[0m\u001b[0;34m[\u001b[0m\u001b[0;34m:\u001b[0m\u001b[0;34m,\u001b[0m\u001b[0;36m0\u001b[0m\u001b[0;34m]\u001b[0m\u001b[0;34m)\u001b[0m\u001b[0;34m)\u001b[0m\u001b[0;34m:\u001b[0m\u001b[0;34m\u001b[0m\u001b[0;34m\u001b[0m\u001b[0m\n\u001b[1;32m      7\u001b[0m     \u001b[0mNevent\u001b[0m \u001b[0;34m=\u001b[0m \u001b[0mNevent\u001b[0m \u001b[0;34m+\u001b[0m \u001b[0;36m1\u001b[0m\u001b[0;34m\u001b[0m\u001b[0;34m\u001b[0m\u001b[0m\n\u001b[0;32m----> 8\u001b[0;31m     \u001b[0;32mif\u001b[0m\u001b[0;34m(\u001b[0m\u001b[0mint\u001b[0m\u001b[0;34m(\u001b[0m\u001b[0manti_He3_ORI\u001b[0m\u001b[0;34m[\u001b[0m\u001b[0mi\u001b[0m\u001b[0;34m,\u001b[0m\u001b[0;36m0\u001b[0m\u001b[0;34m]\u001b[0m\u001b[0;34m)\u001b[0m \u001b[0;34m!=\u001b[0m \u001b[0mint\u001b[0m\u001b[0;34m(\u001b[0m\u001b[0manti_He3_ORI\u001b[0m\u001b[0;34m[\u001b[0m\u001b[0mi\u001b[0m\u001b[0;34m+\u001b[0m\u001b[0;36m1\u001b[0m\u001b[0;34m,\u001b[0m\u001b[0;36m0\u001b[0m\u001b[0;34m]\u001b[0m\u001b[0;34m)\u001b[0m\u001b[0;34m)\u001b[0m\u001b[0;34m:\u001b[0m\u001b[0;34m\u001b[0m\u001b[0;34m\u001b[0m\u001b[0m\n\u001b[0m\u001b[1;32m      9\u001b[0m         \u001b[0mprint\u001b[0m\u001b[0;34m(\u001b[0m\u001b[0;34m\"multiplicity data process:\"\u001b[0m\u001b[0;34m+\u001b[0m\u001b[0mstr\u001b[0m\u001b[0;34m(\u001b[0m\u001b[0mint\u001b[0m\u001b[0;34m(\u001b[0m\u001b[0;36m100\u001b[0m\u001b[0;34m*\u001b[0m\u001b[0mi\u001b[0m\u001b[0;34m/\u001b[0m\u001b[0mlen\u001b[0m\u001b[0;34m(\u001b[0m\u001b[0manti_He3_ORI\u001b[0m\u001b[0;34m[\u001b[0m\u001b[0;34m:\u001b[0m\u001b[0;34m,\u001b[0m\u001b[0;36m0\u001b[0m\u001b[0;34m]\u001b[0m\u001b[0;34m)\u001b[0m\u001b[0;34m)\u001b[0m\u001b[0;34m)\u001b[0m\u001b[0;34m+\u001b[0m\u001b[0;34m\"%, Now working on Events \"\u001b[0m\u001b[0;34m+\u001b[0m\u001b[0mstr\u001b[0m\u001b[0;34m(\u001b[0m\u001b[0manti_He3_ORI\u001b[0m\u001b[0;34m[\u001b[0m\u001b[0mi\u001b[0m\u001b[0;34m,\u001b[0m\u001b[0;36m0\u001b[0m\u001b[0;34m]\u001b[0m\u001b[0;34m)\u001b[0m\u001b[0;34m,\u001b[0m \u001b[0mend\u001b[0m\u001b[0;34m=\u001b[0m\u001b[0;34m'\\r'\u001b[0m\u001b[0;34m)\u001b[0m\u001b[0;34m\u001b[0m\u001b[0;34m\u001b[0m\u001b[0m\n\u001b[1;32m     10\u001b[0m         \u001b[0mN_Pim_Temp\u001b[0m \u001b[0;34m=\u001b[0m \u001b[0;36m0\u001b[0m\u001b[0;34m\u001b[0m\u001b[0;34m\u001b[0m\u001b[0m\n",
      "\u001b[0;31mIndexError\u001b[0m: index 936834999 is out of bounds for axis 0 with size 936834999"
     ]
    }
   ],
   "source": [
    "N_Pim = []    #-211\n",
    "N_Pip = []    #211\n",
    "N_Pin = []    #111\n",
    "N_P= []    #2212\n",
    "Nevent = -1\n",
    "for i in range(len(anti_He3_ORI[:,0])-1):\n",
    "    Nevent = Nevent + 1\n",
    "    if(int(anti_He3_ORI[i,0]) != int(anti_He3_ORI[i+1,0])):\n",
    "        print(\"multiplicity data process:\"+str(int(100*i/len(anti_He3_ORI[:,0])))+\"%, Now working on Events \"+str(anti_He3_ORI[i,0]), end='\\r')\n",
    "        N_Pim_Temp = 0\n",
    "        N_Pip_Temp = 0\n",
    "        N_Pin_Temp = 0\n",
    "        N_P_Temp = 0\n",
    "        for k in range(Nevent+1):\n",
    "            if(int(anti_He3_ORI[i-Nevent+k,1]) != int(anti_He3_ORI[i-Nevent+k+1,1]) and int(anti_He3_ORI[i-Nevent+k,2]) == -211):\n",
    "                N_Pim_Temp = N_Pim_Temp + 1\n",
    "            elif(int(anti_He3_ORI[i-Nevent+k,1]) != int(anti_He3_ORI[i-Nevent+k+1,1]) and int(anti_He3_ORI[i-Nevent+k,2]) == 211):\n",
    "                N_Pip_Temp = N_Pip_Temp + 1\n",
    "            elif(int(anti_He3_ORI[i-Nevent+k,1]) != int(anti_He3_ORI[i-Nevent+k+1,1]) and int(anti_He3_ORI[i-Nevent+k,2]) == 111):\n",
    "                N_Pin_Temp = N_Pin_Temp + 1\n",
    "            elif(int(anti_He3_ORI[i-Nevent+k,1]) != int(anti_He3_ORI[i-Nevent+k+1,1]) and int(anti_He3_ORI[i-Nevent+k,2]) == 2212):\n",
    "                N_P_Temp = N_P_Temp + 1\n",
    "        N_Pim.append(N_Pim_Temp)\n",
    "        N_Pip.append(N_Pip_Temp)\n",
    "        N_Pin.append(N_Pin_Temp)\n",
    "        N_P.append(N_P_Temp)\n",
    "        Nevent = -1\n"
   ]
  },
  {
   "cell_type": "code",
   "execution_count": 15,
   "id": "e13ba3f6-c044-49a0-a48b-624f0d9320cb",
   "metadata": {},
   "outputs": [
    {
     "data": {
      "text/plain": [
       "(array([257821.,  43854.,  27656.,  22609.,  17438.,  14631.,  11867.,\n",
       "         10182.,   8517.,   7568.,   6529.,   5738.,   4891.,   4269.,\n",
       "          6234.]),\n",
       " array([ 0.,  1.,  2.,  3.,  4.,  5.,  6.,  7.,  8.,  9., 10., 11., 12.,\n",
       "        13., 14., 15.]),\n",
       " <BarContainer object of 15 artists>)"
      ]
     },
     "execution_count": 15,
     "metadata": {},
     "output_type": "execute_result"
    },
    {
     "data": {
      "image/png": "[encoded data removed]",
      "text/plain": [
       "<Figure size 432x288 with 1 Axes>"
      ]
     },
     "metadata": {
      "needs_background": "light"
     },
     "output_type": "display_data"
    }
   ],
   "source": [
    "#print(N_Pin)\n",
    "plt.hist(N_P, bins = 15, range = (0, 15))"
   ]
  },
  {
   "cell_type": "code",
   "execution_count": null,
   "id": "c1c02411-de27-4309-bfc8-2540c3c47e70",
   "metadata": {},
   "outputs": [],
   "source": []
  }
 ],
 "metadata": {
  "kernelspec": {
   "display_name": "Python 3 (ipykernel)",
   "language": "python",
   "name": "python3"
  },
  "language_info": {
   "codemirror_mode": {
    "name": "ipython",
    "version": 3
   },
   "file_extension": ".py",
   "mimetype": "text/x-python",
   "name": "python",
   "nbconvert_exporter": "python",
   "pygments_lexer": "ipython3",
   "version": "3.10.6"
  }
 },
 "nbformat": 4,
 "nbformat_minor": 5
}
