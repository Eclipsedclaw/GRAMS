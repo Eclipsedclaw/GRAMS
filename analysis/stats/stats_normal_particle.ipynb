{
 "cells": [
  {
   "cell_type": "code",
   "execution_count": 1,
   "id": "555261dd",
   "metadata": {},
   "outputs": [
    {
     "data": {
      "text/plain": [
       "'\\nanalysis for normal particles\\n@aurthor Jiancheng Zeng\\n@Feb 20 2022\\n'"
      ]
     },
     "execution_count": 1,
     "metadata": {},
     "output_type": "execute_result"
    }
   ],
   "source": [
    "\"\"\"\n",
    "analysis for normal particles\n",
    "@aurthor Jiancheng Zeng\n",
    "@Feb 20 2022\n",
    "\"\"\""
   ]
  },
  {
   "cell_type": "code",
   "execution_count": 2,
   "id": "c36c170c",
   "metadata": {},
   "outputs": [],
   "source": [
    "import numpy as np\n",
    "import matplotlib.pyplot as plt\n",
    "import statistics\n",
    "from numpy import array\n",
    "import pandas as pd\n",
    "import math\n",
    "import time\n",
    "from os import listdir\n",
    "from os.path import isfile, join\n",
    "pd.set_option('display.float_format', lambda x: '%0.4f' % x)"
   ]
  },
  {
   "cell_type": "code",
   "execution_count": null,
   "id": "dd2a7473",
   "metadata": {
    "scrolled": true,
    "tags": []
   },
   "outputs": [
    {
     "name": "stdout",
     "output_type": "stream",
     "text": [
      "Reading data ...\n",
      "finish reading data file0!\n",
      "Modifing data ...\n",
      "TOF data process:79%"
     ]
    }
   ],
   "source": [
    "\"\"\"\n",
    "Select by name of the column\n",
    "---------------------\n",
    "\"\"\"\n",
    "title = [\"eventID\", \"trackID\", \"parentID\", \"particleID\", \"copyNb1 (mother volume)\", \"copyNb\", \"material\", \"time (ns)\", \"energy(MeV)\", \"energy deposit(MeV)\", \"parent process name\", \"process name\", \"px (MeV/c)\", \"py (MeV/c)\", \"pz (MeV/c)\", \"x (cm)\", \"y (cm)\", \"z (cm)\"]\n",
    "\n",
    "\"\"\"\n",
    "Read data from total data file\n",
    "--------------------\n",
    "\"\"\"\n",
    "\n",
    "Drop = 100    #don't use the last 100 data\n",
    "\n",
    "print(\"Reading data ...\")\n",
    "#data = pd.read_table(\"/Users/jiancheng/GRAMS/Toy Model/Machine Learning/210824_anti_proton_250MeV_Lin.dat\")    #get data file\n",
    "Files = [f for f in listdir(\"/home/jiancheng/HDD/jiancheng/GRAMS/ToyModelData/processed_data/ORI_Product_He3_1e8_Ene_0_1500/\") if isfile(join(\"/home/jiancheng/HDD/jiancheng/GRAMS/ToyModelData/processed_data/ORI_Product_He3_1e8_Ene_0_1500/\", f))]\n",
    "\n",
    "for z in range(len(Files)):\n",
    "    \n",
    "    data = np.array(pd.read_table(\"/home/jiancheng/HDD/jiancheng/GRAMS/ToyModelData/processed_data/ORI_Product_He3_1e8_Ene_0_1500/\"+Files[z]))\n",
    "    #data = np.array(pd.read_table(\"/home/jiancheng/HDD/jiancheng/GRAMS/ToyModelData/test.dat\"))\n",
    "    print(\"finish reading data file\"+str(z)+\"!\")\n",
    "\n",
    "    \"\"\"\n",
    "    select analysis particle type\n",
    "    \"\"\"\n",
    "    Particle_Type = 1000020030    #[antiproton]-2212    [antideuteron]-1000010020    [antiHe3]-1000020030\n",
    "\n",
    "    \"\"\"\n",
    "    Analyzed variables\n",
    "    \"\"\"\n",
    "\n",
    "    Nevent = -1\n",
    "    Downsample = []    #inital counting vector\n",
    "\n",
    "    print(\"Modifing data ...\")\n",
    "    for i in range(len(data[:,0])-Drop):\n",
    "    #for i in range(27):\n",
    "        Nevent = Nevent + 1\n",
    "        if(data[i][0] != data[i+1][0]):\n",
    "            temp = [str(data[i+1][0])]\n",
    "            for k in range(Nevent+1):\n",
    "                #print(float(data[i-Nevent+k][3]) == float(Particle_Type))\n",
    "                #if(str(data[i-Nevent+k][6]) == 'LAr' and float(data[i-Nevent+k][3]) == float(Particle_Type) and str(data[i][8]) == str(data[i][9])):    #Stop events only\n",
    "                if(str(data[i-Nevent+k][6]) == 'LAr' and float(data[i-Nevent+k][3]) == float(Particle_Type)):    #including stop events and annihilation in flight events\n",
    "                    for m in range(Nevent+1-k):\n",
    "                        if(str(data[i-Nevent+k+m][3]) != str(data[i-Nevent+k+m-1][3])):\n",
    "                            temp.append(str(data[i-Nevent+k+m][3]))\n",
    "            if(len(temp) != 1):        \n",
    "                Downsample.append(temp)\n",
    "            #Downample.extend(temp)\n",
    "            Nevent = -1\n",
    "        print(\"TOF data process:\"+str(int(100*i/len(data[:,0])))+\"%\", end='\\r')\n",
    "    \n",
    "    print(\"\\n identification:finished!\")\n",
    "\n",
    "    #Save analysis vector\n",
    "    with open(\"/home/jiancheng/HDD/jiancheng/GRAMS/ToyModelData/vector/test.txt\", \"a\") as f:    #input file\n",
    "    #with open(\"/Users/jiancheng/CloudDocuments/Documents/Github/GRAMS/GRAMS_2021/output/TOF/test.txt\", \"ab\") as f:    #test run\n",
    "        #f.write(b\"\\n\")\n",
    "        np.savetxt(f, Downsample, fmt='%s')\n",
    "    print(\"\\n finished processing file \"+ str(z)+\"\\n\")\n",
    "print(\"finished!\")\n"
   ]
  },
  {
   "cell_type": "code",
   "execution_count": null,
   "id": "f54cde1a-5b13-4214-a9f0-93b2e02ea25b",
   "metadata": {},
   "outputs": [],
   "source": [
    "print(Downsample[12])\n",
    "\"\"\"\n",
    "for i in range(50):\n",
    "    print(Downsample[i])\n",
    "    print(Downsample[i].count('2212'))\n",
    "\"\"\"\n",
    "print(Files)"
   ]
  },
  {
   "cell_type": "code",
   "execution_count": null,
   "id": "41ec0a75",
   "metadata": {},
   "outputs": [],
   "source": [
    "plt.hist(Init_Energy[Stop_Events==1], bins = 40, label = \"%d events\"%len(Init_Energy[Stop_Events==1]), color = 'b')\n",
    "\n",
    "plt.title('Stop Events initial energy')\n",
    "plt.xlabel('Energy/MeV')\n",
    "plt.ylabel('number of events')\n",
    "plt.legend(loc='best')\n",
    "#plt.axis([0, 20, 0, 10])\n",
    "plt.grid(alpha = 0.2)\n",
    "\n",
    "\"\"\"\n",
    "print(\"Number of events less than 1.3m:\"+str(len(PeD[PeD<130])/len(PeD)))\n",
    "print(\"Number of events less than 1.2m:\"+str(len(PeD[PeD<120])/len(PeD)))\n",
    "print(\"Number of events less than 1.1m:\"+str(len(PeD[PeD<110])/len(PeD)))\n",
    "print(\"Number of events less than 1.0m:\"+str(len(PeD[PeD<100])/len(PeD)))\n",
    "print(\"Number of events less than 0.9m:\"+str(len(PeD[PeD<90])/len(PeD)))\n",
    "print(\"Number of events less than 0.8m:\"+str(len(PeD[PeD<80])/len(PeD)))\n",
    "print(\"Number of events less than 0.7m:\"+str(len(PeD[PeD<70])/len(PeD)))\n",
    "\"\"\""
   ]
  },
  {
   "cell_type": "code",
   "execution_count": null,
   "id": "6f81eb64",
   "metadata": {},
   "outputs": [],
   "source": [
    "print(len(time))"
   ]
  },
  {
   "cell_type": "markdown",
   "id": "1fa3efbd",
   "metadata": {},
   "source": [
    "## "
   ]
  }
 ],
 "metadata": {
  "kernelspec": {
   "display_name": "Python 3 (ipykernel)",
   "language": "python",
   "name": "python3"
  },
  "language_info": {
   "codemirror_mode": {
    "name": "ipython",
    "version": 3
   },
   "file_extension": ".py",
   "mimetype": "text/x-python",
   "name": "python",
   "nbconvert_exporter": "python",
   "pygments_lexer": "ipython3",
   "version": "3.9.5"
  }
 },
 "nbformat": 4,
 "nbformat_minor": 5
}
