{
 "cells": [
  {
   "cell_type": "code",
   "execution_count": 1,
   "metadata": {},
   "outputs": [
    {
     "data": {
      "text/plain": [
       "'\\nStatistics: count difference between anti-deuteron and anti-proton\\n@aurthor Jiancheng Zeng\\n@July 15 2021\\n\\n'"
      ]
     },
     "execution_count": 1,
     "metadata": {},
     "output_type": "execute_result"
    }
   ],
   "source": [
    "\"\"\"\n",
    "Statistics: count difference between anti-deuteron and anti-proton\n",
    "@aurthor Jiancheng Zeng\n",
    "@July 15 2021\n",
    "\n",
    "\"\"\""
   ]
  },
  {
   "cell_type": "code",
   "execution_count": 2,
   "metadata": {},
   "outputs": [
    {
     "name": "stdout",
     "output_type": "stream",
     "text": [
      "Reading data ...\n",
      "finish reading data!\n",
      "Modifing data ...\n",
      "finished!process:99%\n"
     ]
    }
   ],
   "source": [
    "import numpy as np\n",
    "import matplotlib.pyplot as plt\n",
    "import statistics\n",
    "from numpy import array\n",
    "import pandas as pd\n",
    "\n",
    "case1 = []\n",
    "case2 = []\n",
    "case3 = []\n",
    "case4 = []\n",
    "vector = []\n",
    "event = []\n",
    "identical = []\n",
    "case4len = []\n",
    "\n",
    "\"\"\"\n",
    "Select by name of the column\n",
    "---------------------\n",
    "\"\"\"\n",
    "title = [\"eventID\", \"trackID\", \"parentID\", \"particleID\", \"copyNb1 (mother volume)\", \"copyNb\", \"material\", \"time (ns)\", \"energy(MeV)\", \"energy deposit(MeV)\", \"parent process name\", \"process name\", \"px (MeV/c)\", \"py (MeV/c)\", \"pz (MeV/c)\", \"step length (cm)\", \"x (cm)\", \"y (cm)\", \"z (cm)\"]\n",
    "\n",
    "\"\"\"\n",
    "Read data from total data file\n",
    "--------------------\n",
    "\"\"\"\n",
    "print(\"Reading data ...\")\n",
    "#data = pd.read_table(\"/Users/jiancheng/GRAMS/Toy Model/Machine Learning/210824_anti_deuteron_500MeV_Lin.dat\")    #get data file\n",
    "data = pd.read_table(\"/Users/jiancheng/CloudDocuments/Documents/Github/Geant4-simulation/Original_2021/output/test_deuteron.dat\")\n",
    "print(\"finish reading data!\")\n",
    "\n",
    "\"\"\"\n",
    "modification\n",
    "\"\"\"\n",
    "print(\"Modifing data ...\")\n",
    "for i in range(len(data.iloc[:,0])):\n",
    "    if(0 <= data.iloc[i,2] <= 1):\n",
    "        event.append(list(data.iloc[i,:]))\n",
    "    print(\"Modifing process:\"+str(int(100*i/len(data.iloc[:,0])))+\"%\", end='\\r')\n",
    "event = np.array(event)\n",
    "\n",
    "np.savetxt('/Users/jiancheng/GRAMS/Toy Model/Machine Learning/test.txt', event, fmt='%s')\n",
    "print(\"finished!\")"
   ]
  },
  {
   "cell_type": "code",
   "execution_count": 3,
   "metadata": {},
   "outputs": [
    {
     "name": "stdout",
     "output_type": "stream",
     "text": [
      "\n",
      " Recognize events ...\n",
      "Recognizing process:99%\n",
      " recognition finished!\n"
     ]
    },
    {
     "name": "stderr",
     "output_type": "stream",
     "text": [
      "/Users/jiancheng/.local/lib/python3.9/site-packages/numpy/core/_asarray.py:102: VisibleDeprecationWarning: Creating an ndarray from ragged nested sequences (which is a list-or-tuple of lists-or-tuples-or ndarrays with different lengths or shapes) is deprecated. If you meant to do this, you must specify 'dtype=object' when creating the ndarray.\n",
      "  return array(a, dtype, copy=False, order=order)\n"
     ]
    }
   ],
   "source": [
    "\"\"\"\n",
    "recognize the data file length distribution\n",
    "\"\"\"\n",
    "print(\"\\n Recognize events ...\")\n",
    "s = 0\n",
    "for s in range(len(event[:,0])-1):\n",
    "    if(int(event[s,0]) != int(event[s+1,0])):\n",
    "        identical.append(s+1)\n",
    "    print(\"Recognizing process:\"+str(int(100*s/len(event[:,0])))+\"%\", end='\\r')\n",
    "    #time.sleep(0.001)\n",
    "selection = np.split(event, identical)\n",
    "\n",
    "case = np.full(\n",
    "  shape=len(identical)+1,\n",
    "  fill_value=1,\n",
    "  dtype=int\n",
    ")\n",
    "\n",
    "np.savetxt('/Users/jiancheng/GRAMS/Toy Model/Machine Learning/test/test.txt', selection, fmt='%s')\n",
    "print(\"\\n recognition finished!\")"
   ]
  },
  {
   "cell_type": "code",
   "execution_count": 4,
   "metadata": {},
   "outputs": [
    {
     "name": "stdout",
     "output_type": "stream",
     "text": [
      "\n",
      " Selecting ...\n",
      "selection progress:100%\n",
      " Counting 100% finished!\n"
     ]
    }
   ],
   "source": [
    "\"\"\"\n",
    "counting\n",
    "\"\"\"\n",
    "print(\"\\n Selecting ...\")\n",
    "#print(selection[2][14][11])\n",
    "for k in range(len(identical)+1):\n",
    "    for j in range(selection[k].shape[0]):\n",
    "        case[k] = 4\n",
    "        if(str(selection[k][j][3]) == '-2112'):\n",
    "            case[k] = 2\n",
    "            break\n",
    "        elif(str(selection[k][j][3]) == '-2212'):\n",
    "            case[k] = 3\n",
    "            break\n",
    "    if(case[k] == 1):\n",
    "        case1.extend(array(selection[k]))\n",
    "    if(case[k] == 2):\n",
    "        case2.extend(array(selection[k]))\n",
    "    if(case[k] == 3):\n",
    "        case3.extend(array(selection[k]))\n",
    "    if(case[k] == 4):\n",
    "        case4.extend(array(selection[k]))\n",
    "        case4len.append(len(selection[k]))\n",
    "    print(\"selection progress:\"+str(int(100*k/len(identical)))+\"%\", end='\\r')\n",
    "\n",
    "\"\"\"\n",
    "save different kind of evnets to different files\n",
    "\"\"\"\n",
    "np.savetxt(\"/Users/jiancheng/GRAMS/Toy Model/Machine Learning/test/case1.txt\", case1, delimiter = \",  \", fmt = \"%s\")\n",
    "np.savetxt(\"/Users/jiancheng/GRAMS/Toy Model/Machine Learning/test/case2.txt\", case2, delimiter = \",  \", fmt = \"%s\")\n",
    "np.savetxt(\"/Users/jiancheng/GRAMS/Toy Model/Machine Learning/test/case3.txt\", case3, delimiter = \",  \", fmt = \"%s\")\n",
    "np.savetxt(\"/Users/jiancheng/GRAMS/Toy Model/Machine Learning/test/case4.txt\", case4, delimiter = \",  \", fmt = \"%s\")\n",
    "\n",
    "print(\"\\n Counting 100% finished!\")"
   ]
  },
  {
   "cell_type": "code",
   "execution_count": 5,
   "metadata": {},
   "outputs": [
    {
     "data": {
      "image/png": "[encoded data removed]",
      "text/plain": [
       "<Figure size 432x288 with 1 Axes>"
      ]
     },
     "metadata": {
      "needs_background": "light"
     },
     "output_type": "display_data"
    },
    {
     "name": "stdout",
     "output_type": "stream",
     "text": [
      "[4 2 4 3 4 4 4 2 4 4 3 3 4 4 3 4 4 4 3 4 3 4 4 2 4 3 4 4 4 4 2 4 4 4 3 4 3\n",
      " 4 4 4 4 4 4 4 3 4 4 4 3 4 4 3 4 4 3 4 3 4 3 4 3 3 4 4 4 4 3 4 4 4 4 4 3 3\n",
      " 4 4 4 4 4 3 4 4 4 4 3 4 4 4 3 2 3 4 4 4 3 4 3 4 3 3 3 3 3 4 4 4 4 3 4 4 4\n",
      " 3 3 4 3 3 4 4 4 2 4 4 4 3 4 4 3 4 4 4 4 4 3 4 4 4 2 4 4 4 4 3 3 4 3 4 4 4\n",
      " 3 4 4 4 3 4 4 4 2 4 4 4 3 3 4 3 4 4 3 3 2 2 4 4 4 3 4 3 2 4 4 4 4 4 4 4 4\n",
      " 4 4 4 3 4 4 3 4 2 3 4 4 4 3 4 4 4 4 4 2 4 4 4 4 4 4 4 4 4 3 4 4 4 4 2 4 4\n",
      " 4 4 4 4 3 4 3 4 4 3 4 4 4 3 4 4 4 4 3 3 4 4 3 4 4 4 4 4 4 4 4 2 4 4 3 3 4\n",
      " 4 4 2 4 3 4 3 4 2 4 4 4 4 4 4 4 4 3 3 3 2 4 4 4 4 4 4 4 4 4 3 4 3 4 3 3 2\n",
      " 4 4 4 3 3 4 4 4 4 4 4 4 4 4 4 4 2 4 3 4 3 2 4 3 4 4 4 4 4 4 2 4 4 3 4 4 4\n",
      " 4 3 4 3 4 4 4 3 2 3 3 4 4 4 3 4 4 3 4 3 2 3 2 3 4 4 4 4 4 3 4 4 4 4 4 3 4\n",
      " 4 4 3 3 4 4 4 4 4 4 3 3 4 4 4 4 4 4 4 3 3 4 4 4 3 4 2 3 4 3 4 3 4 4 3 3 2\n",
      " 3 4 3 4 4 4 3 4 4 4 4 4 4 4 4 2 4 4 3 4 2 3 4 3 4 3 4 3 4 3 4 4 4 3 4 4 4\n",
      " 4 4 4 3 3 4 4 2 4 2 4 3 4 4 4 3 4 4 4 4 2 4 4 4 2 4 4 4 4 4 4 4 4 4 4 3 4\n",
      " 4 4 4 4 4 2 4 4 4 4 3 3 4 4 4 2 4 4 2]\n",
      "500\n",
      "finished!\n"
     ]
    }
   ],
   "source": [
    "plt.hist(case)\n",
    "plt.xlabel('cases')\n",
    "plt.ylabel('number of events')\n",
    "plt.title('anti-deuteron')\n",
    "plt.grid()\n",
    "plt.show()\n",
    "print(case)\n",
    "print(len(case))\n",
    "#print(\"\\n\", case1, \"\\n\", case2, \"\\n\", case3, \"\\n\", case4, \"\\n\")\n",
    "print(\"finished!\")"
   ]
  },
  {
   "cell_type": "code",
   "execution_count": 6,
   "metadata": {},
   "outputs": [
    {
     "name": "stdout",
     "output_type": "stream",
     "text": [
      "case2:7.2%\n",
      "case3:24.2%\n",
      "case4:68.6%\n"
     ]
    }
   ],
   "source": [
    "\"\"\"\n",
    "display event pecentage\n",
    "\"\"\"\n",
    "print(\"case2:\"+str(sum(case == 2)*100/(len(identical)+1))+\"%\")\n",
    "print(\"case3:\"+str(sum(case == 3)*100/(len(identical)+1))+\"%\")\n",
    "print(\"case4:\"+str(sum(case == 4)*100/(len(identical)+1))+\"%\")"
   ]
  },
  {
   "cell_type": "code",
   "execution_count": null,
   "metadata": {},
   "outputs": [],
   "source": [
    "\"\"\"\n",
    "select annihilation in flight\n",
    "\"\"\"\n"
   ]
  },
  {
   "cell_type": "code",
   "execution_count": 33,
   "metadata": {},
   "outputs": [
    {
     "name": "stdout",
     "output_type": "stream",
     "text": [
      "343\n",
      "192\n",
      "Done! Vector saved!\n"
     ]
    }
   ],
   "source": [
    "import math\n",
    "PeD = [None] * sum(case == 4)    #Penetration depth\n",
    "EnD = [None] * sum(case == 4)    #Energy deposit\n",
    "NuPip = [0] * sum(case == 4)     #Number of pion+\n",
    "NuPim = [0] * sum(case == 4)     #Number of pion-\n",
    "NuPi0 = [0] * sum(case == 4)     #Number of neutral pion\n",
    "NuPiC = [0] * sum(case == 4)      #Number of charged pion\n",
    "NuP = [0] * sum(case == 4)       #Number of proton\n",
    "#XRay = [0] * sum(case == 4)      #X-ray\n",
    "lDetector = 2000                 #detector depth\n",
    "temp = 0\n",
    "En = 80\n",
    "inflight = []\n",
    "print(len(PeD))\n",
    "\n",
    "\"\"\"\n",
    "find penatration depth, Energy depesite and number of pions\n",
    "\"\"\"\n",
    "for i in range(sum(case == 4)):\n",
    "    for j in range(case4len[i]):\n",
    "        if(case4[temp + j][3] !=  '-1000010020'):\n",
    "            PeD[i] = math.sqrt((lDetector - float(case4[temp + j - 1][18])) ** 2 + (float(case4[temp + j - 1][17])) ** 2 + (float(case4[temp + j - 1][16])) ** 2)\n",
    "            EnD[i] = float(case4[temp][8])\n",
    "            if(case4[temp + j - 1][8] != case4[temp + j - 1][9]): inflight.append(i)\n",
    "            break\n",
    "    for k in range(case4len[i]-1):\n",
    "        if(case4[temp + k][1] != case4[temp + k+1][1]):\n",
    "            if(case4[temp + k][3] == '211'):\n",
    "                NuPip[i] = NuPip[i] + 1\n",
    "                NuPiC[i] = NuPiC[i] + 1\n",
    "            elif(case4[temp + k][3] == '-211'):\n",
    "                NuPim[i] = NuPim[i] + 1\n",
    "                NuPiC[i] = NuPiC[i] + 1\n",
    "            elif(case4[temp + k][3] == '111'):\n",
    "                NuPi0[i] = NuPi0[i] + 1\n",
    "            elif(case4[temp + k][3] == '2212'):\n",
    "                NuP[i] = NuP[i] + 1\n",
    "    if(case4[temp + case4len[i] - 1][3] == '211'):    #specify last track\n",
    "        NuPip[i] = NuPip[i] + 1\n",
    "        NuPiC[i] = NuPiC[i] + 1\n",
    "    elif(case4[temp + case4len[i] - 1][3] == '-211'):\n",
    "        NuPim[i] = NuPim[i] + 1\n",
    "        NuPiC[i] = NuPiC[i] + 1\n",
    "    elif(case4[temp + case4len[i] - 1][3] == '111'):\n",
    "        NuPi0[i] = NuPi0[i] + 1\n",
    "    elif(case4[temp + case4len[i] - 1][3] == '2212'):\n",
    "        NuP[i] = NuP[i] + 1\n",
    "    temp = temp + case4len[i]\n",
    "    \n",
    "\"\"\"\n",
    "print(\"penetration depth:\")\n",
    "print(PeD)\n",
    "print(\"\\n number of pi+:\")\n",
    "print(NuPip)\n",
    "print(\"\\n number of pi-:\")\n",
    "print(NuPim)\n",
    "print(\"\\n number of pi0:\")\n",
    "print(NuPi0)\n",
    "print(\"\\n number of proton:\")\n",
    "print(NuP)\n",
    "\"\"\"\n",
    "\n",
    "vector=[PeD, EnD, NuPiC, NuP]    #vector content follow by: Penetration depth, energy diposit, number of charged pions, number of protons\n",
    "vector=np.transpose(vector)\n",
    "vector = pd.DataFrame(vector)\n",
    "vector = vector.drop(labels = inflight)\n",
    "\n",
    "print(len(vector))\n",
    "\n",
    "np.savetxt('/Users/jiancheng/GRAMS/Toy Model/Machine Learning/test/test_d_vector.txt', vector, delimiter = '\\t ', fmt='%.6s')\n",
    "print(\"Done! Vector saved!\")\n"
   ]
  },
  {
   "cell_type": "code",
   "execution_count": 34,
   "metadata": {},
   "outputs": [
    {
     "name": "stdout",
     "output_type": "stream",
     "text": [
      "0.5597667638483965\n"
     ]
    }
   ],
   "source": [
    "print(len(vector)/len(PeD))"
   ]
  },
  {
   "cell_type": "code",
   "execution_count": null,
   "metadata": {},
   "outputs": [],
   "source": []
  }
 ],
 "metadata": {
  "kernelspec": {
   "display_name": "Python 3 (ipykernel)",
   "language": "python",
   "name": "python3"
  },
  "language_info": {
   "codemirror_mode": {
    "name": "ipython",
    "version": 3
   },
   "file_extension": ".py",
   "mimetype": "text/x-python",
   "name": "python",
   "nbconvert_exporter": "python",
   "pygments_lexer": "ipython3",
   "version": "3.9.7"
  }
 },
 "nbformat": 4,
 "nbformat_minor": 4
}
