{
 "cells": [
  {
   "cell_type": "code",
   "execution_count": 1,
   "id": "6d96c803-d4fb-438e-ade3-c53b5b976339",
   "metadata": {},
   "outputs": [
    {
     "data": {
      "text/plain": [
       "'\\nAnalyze daughter particles for annihilation event\\nauthor: Jiancheng Zeng\\nDate: July 12, 2023\\n'"
      ]
     },
     "execution_count": 1,
     "metadata": {},
     "output_type": "execute_result"
    }
   ],
   "source": [
    "\"\"\"\n",
    "Analyze daughter particles for annihilation event\n",
    "author: Jiancheng Zeng\n",
    "Date: July 12, 2023\n",
    "\"\"\""
   ]
  },
  {
   "cell_type": "code",
   "execution_count": 2,
   "id": "e4bd827e-986c-4d49-a2db-a6fa06f0441d",
   "metadata": {},
   "outputs": [],
   "source": [
    "import pandas as pd\n",
    "import numpy as np\n",
    "import time\n",
    "import math\n",
    "import matplotlib.pyplot as plt\n",
    "#from toy_model_analysis import Analyze_trace, read_data_from_toymodel\n",
    "import toy_model_analysis"
   ]
  },
  {
   "cell_type": "code",
   "execution_count": 3,
   "id": "acafc641-f9de-4876-8582-cf33a4f1cfe5",
   "metadata": {
    "tags": []
   },
   "outputs": [
    {
     "name": "stdout",
     "output_type": "stream",
     "text": [
      "Reading data...\n",
      "\n",
      "Toy Model data imported\n",
      "Found 14920 Events!\n",
      "[##################################################] \u001b[91m100.00%\u001b[0m 14920/14920\n",
      " We got 14920 events selected\n",
      "Last event is 9997986\n"
     ]
    }
   ],
   "source": [
    "file_path_1 = '/home/jiancheng/GRAMS/toymodel_work/output/2023/anti_He3_daughters_1e7.dat'\n",
    "label_50cm= '140cm width'\n",
    "\n",
    "Result = toy_model_analysis.Analyze_daughter(toy_model_analysis.read_data_from_toymodel(file_path_1), -1000010020, stop_event=True, in_flight_event=False)\n"
   ]
  },
  {
   "cell_type": "code",
   "execution_count": 4,
   "id": "26d31403-7aa4-4e2b-8ab8-9e1863760739",
   "metadata": {},
   "outputs": [
    {
     "name": "stdout",
     "output_type": "stream",
     "text": [
      "[1271, 803.149, 0, 8.389278000000001, 14.9076, 6.195900000000002]\n",
      "\n",
      "\n",
      "[1, 7, 8, 9, 10, 11, 12, 13, 14, 15, 16, 17, 18, 19, 20, 21, 22, 23, 24, 25, 26, 27, 28, 29, 30, 31, 33, 34, 35]\n"
     ]
    }
   ],
   "source": [
    "print(Result.get_value(0, 0))\n",
    "print(\"\\n\")\n",
    "# Result vector meaning: Result.get_value([event number][0 for general info/1 for daughter detailed info])\n",
    "print(Result.get_value(0, 1)[0])"
   ]
  },
  {
   "cell_type": "code",
   "execution_count": 24,
   "id": "f04d3083-9986-40e0-a02c-7a2d1ec84d4b",
   "metadata": {},
   "outputs": [
    {
     "name": "stdout",
     "output_type": "stream",
     "text": [
      "[11, 11, 11, 11, 11, 11, 11, 11, 11, 11, 11, 11, 11, 11, -211, 211, -2112, -211, 211, -211, -211, 111, 211, -211, -211, 211, 1000120260, 2212, 1000020040, 2112, 1000020040, 2212, 22, 22]\n"
     ]
    },
    {
     "data": {
      "text/plain": [
       "([<matplotlib.axis.XTick at 0x7f29d1b4f370>,\n",
       "  <matplotlib.axis.XTick at 0x7f29d1b4f400>,\n",
       "  <matplotlib.axis.XTick at 0x7f29cac339d0>,\n",
       "  <matplotlib.axis.XTick at 0x7f29d31c8910>,\n",
       "  <matplotlib.axis.XTick at 0x7f29d31c93c0>,\n",
       "  <matplotlib.axis.XTick at 0x7f29d31c8220>,\n",
       "  <matplotlib.axis.XTick at 0x7f29d31ca380>,\n",
       "  <matplotlib.axis.XTick at 0x7f29d31cae30>,\n",
       "  <matplotlib.axis.XTick at 0x7f29d31cb8e0>,\n",
       "  <matplotlib.axis.XTick at 0x7f29d31b43d0>],\n",
       " [Text(0, 0, '-2112'),\n",
       "  Text(1, 0, '-211'),\n",
       "  Text(2, 0, '11'),\n",
       "  Text(3, 0, '22'),\n",
       "  Text(4, 0, '111'),\n",
       "  Text(5, 0, '211'),\n",
       "  Text(6, 0, '2112'),\n",
       "  Text(7, 0, '2212'),\n",
       "  Text(8, 0, '1000020040'),\n",
       "  Text(9, 0, '1000120260')])"
      ]
     },
     "execution_count": 24,
     "metadata": {},
     "output_type": "execute_result"
    },
    {
     "data": {
      "image/png": "[encoded data removed]",
      "text/plain": [
       "<Figure size 800x600 with 1 Axes>"
      ]
     },
     "metadata": {},
     "output_type": "display_data"
    }
   ],
   "source": [
    "fig, ax = plt.subplots(figsize=(8, 6))\n",
    "\n",
    "print(Result.get_value(1, 1)[1])\n",
    "\n",
    "# Count the occurrences of each unique element\n",
    "unique_elements, element_counts = np.unique(Result.get_value(1, 1)[1], return_counts=True)\n",
    "\n",
    "# Create an evenly spaced range of numbers for the x-axis\n",
    "x_values = np.arange(len(unique_elements))\n",
    "\n",
    "# Create the bar plot\n",
    "plt.bar(x_values, element_counts)\n",
    "\n",
    "# Set the x-ticks and labels\n",
    "plt.xticks(x_values, unique_elements, rotation=45, ha='right')"
   ]
  },
  {
   "cell_type": "code",
   "execution_count": null,
   "id": "3666434d-fd40-4164-93b1-66545085bad4",
   "metadata": {},
   "outputs": [],
   "source": []
  },
  {
   "cell_type": "code",
   "execution_count": null,
   "id": "5438f82a-e59c-45ba-af6f-dea47fd498b4",
   "metadata": {},
   "outputs": [],
   "source": []
  },
  {
   "cell_type": "code",
   "execution_count": null,
   "id": "6e3e252f-352e-4f34-afe9-ab1654244864",
   "metadata": {},
   "outputs": [],
   "source": []
  }
 ],
 "metadata": {
  "kernelspec": {
   "display_name": "Python 3 (ipykernel)",
   "language": "python",
   "name": "python3"
  },
  "language_info": {
   "codemirror_mode": {
    "name": "ipython",
    "version": 3
   },
   "file_extension": ".py",
   "mimetype": "text/x-python",
   "name": "python",
   "nbconvert_exporter": "python",
   "pygments_lexer": "ipython3",
   "version": "3.10.6"
  }
 },
 "nbformat": 4,
 "nbformat_minor": 5
}
