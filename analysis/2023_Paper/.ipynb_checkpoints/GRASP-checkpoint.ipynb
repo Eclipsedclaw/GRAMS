{
 "cells": [
  {
   "cell_type": "code",
   "execution_count": null,
   "id": "ffe0e9e9-e9b6-453a-a9dc-04d29142b809",
   "metadata": {},
   "outputs": [],
   "source": [
    "\"\"\"\n",
    "Analyze GRASP for each detector design\n",
    "author: Jiancheng Zeng\n",
    "Date: May 1, 2023\n",
    "\"\"\""
   ]
  },
  {
   "cell_type": "code",
   "execution_count": null,
   "id": "8e32779d-66f9-48f8-899c-77885b8c191f",
   "metadata": {},
   "outputs": [],
   "source": []
  }
 ],
 "metadata": {
  "kernelspec": {
   "display_name": "Python 3 (ipykernel)",
   "language": "python",
   "name": "python3"
  },
  "language_info": {
   "codemirror_mode": {
    "name": "ipython",
    "version": 3
   },
   "file_extension": ".py",
   "mimetype": "text/x-python",
   "name": "python",
   "nbconvert_exporter": "python",
   "pygments_lexer": "ipython3",
   "version": "3.10.6"
  }
 },
 "nbformat": 4,
 "nbformat_minor": 5
}
