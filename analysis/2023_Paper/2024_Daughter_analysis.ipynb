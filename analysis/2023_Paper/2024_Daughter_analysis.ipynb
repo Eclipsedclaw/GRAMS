{
 "cells": [
  {
   "cell_type": "code",
   "execution_count": 1,
   "id": "6d96c803-d4fb-438e-ade3-c53b5b976339",
   "metadata": {},
   "outputs": [
    {
     "data": {
      "text/plain": [
       "'\\nAnalyze daughter particles for annihilation event\\nauthor: Jiancheng Zeng\\nDate: July 12, 2023\\n'"
      ]
     },
     "execution_count": 1,
     "metadata": {},
     "output_type": "execute_result"
    }
   ],
   "source": [
    "\"\"\"\n",
    "Analyze daughter particles for annihilation event\n",
    "author: Jiancheng Zeng\n",
    "Date: June 24, 2024\n",
    "\"\"\""
   ]
  },
  {
   "cell_type": "code",
   "execution_count": 1,
   "id": "e4bd827e-986c-4d49-a2db-a6fa06f0441d",
   "metadata": {},
   "outputs": [],
   "source": [
    "import pandas as pd\n",
    "import numpy as np\n",
    "import time\n",
    "import math\n",
    "import matplotlib.pyplot as plt\n",
    "import os\n",
    "#from toy_model_analysis import Analyze_trace, read_data_from_toymodel\n",
    "import toy_model_analysis\n",
    "import corner"
   ]
  },
  {
   "cell_type": "code",
   "execution_count": 22,
   "id": "f3a0f792",
   "metadata": {},
   "outputs": [],
   "source": [
    "def read_data_from_toymodel(file_path):\n",
    "    print(\"Reading data...\\n\")\n",
    "\n",
    "    try:\n",
    "        column_names = ['eventID', 'trackID', 'parentID', 'particleID', 'copyNb1 (mother volume)', 'copyNb', 'material', 'time (ns)', 'energy (MeV)', 'energy deposit (MeV)', 'parent process name', 'process name', 'px (MeV/c)', 'py (MeV/c)', 'pz (MeV/c)', 'step length (cm)', 'x (cm)', 'y (cm)', 'z (cm)']\n",
    "        df = pd.read_csv(file_path, delimiter='\\t', header=None, names=column_names)  # Assumes tab-separated values in the text file\n",
    " \n",
    "        # Convert all columns to string data type\n",
    "        df = df.astype(str)\n",
    "        \n",
    "        print(\"Grouping data...\")\n",
    "        # Group by eventID and trackID\n",
    "        grouped_data = df.groupby(['eventID'])\n",
    "\n",
    "        # Clear the data buffer\n",
    "        df = None\n",
    "\n",
    "        print(\"Finished data reading!\")\n",
    "        return grouped_data\n",
    "    except FileNotFoundError:\n",
    "        print(f\"Error: File '{file_path}' not found.\")\n",
    "        return None\n",
    "    except pd.errors.ParserError:\n",
    "        print(f\"Error: Unable to parse data from '{file_path}'. Please ensure the file has the correct format.\")\n",
    "        return None"
   ]
  },
  {
   "cell_type": "code",
   "execution_count": 23,
   "id": "47f10f10",
   "metadata": {},
   "outputs": [
    {
     "name": "stdout",
     "output_type": "stream",
     "text": [
      "Reading data...\n",
      "\n",
      "Grouping data...\n",
      "Finished data reading!\n"
     ]
    }
   ],
   "source": [
    "data = read_data_from_toymodel(\"/HDD/jiancheng/GRAMS/ToyModelData/2023/anti_He3_daughters_all_1e6.dat\")"
   ]
  },
  {
   "cell_type": "code",
   "execution_count": 24,
   "id": "b8eee0a9",
   "metadata": {},
   "outputs": [
    {
     "name": "stdout",
     "output_type": "stream",
     "text": [
      "10754\n",
      "55\n",
      "<pandas.core.groupby.generic.DataFrameGroupBy object at 0x7f49bcadca00>\n"
     ]
    }
   ],
   "source": [
    "if data is not None:\n",
    "    try:\n",
    "        event_keys = list(data.groups.keys())\n",
    "        for i in range(len(event_keys)):\n",
    "            data_track = data.get_group(event_keys[i])\n",
    "            data_track = data_track.groupby(['trackID'])\n",
    "            track_keys = list(data_track.groups.keys())\n",
    "            for j in range(len(track_keys)):\n",
    "                \n",
    "        #for (event_id, track_id) in group_keys:\n",
    "            #track_temp = test.get_group((event_id, track_id))\n",
    "            #print(f\"Data for eventID {event_id} and trackID {track_id}:\")\n",
    "            #print(track_temp)\n",
    "    except KeyError as e:\n",
    "        print(f\"KeyError: {e}\")\n",
    "    except Exception as e:\n",
    "        print(f\"An error occurred: {e}\")\n",
    "\n",
    "\n",
    "\n",
    "print(test)"
   ]
  },
  {
   "cell_type": "code",
   "execution_count": null,
   "id": "7975ea01",
   "metadata": {},
   "outputs": [],
   "source": []
  }
 ],
 "metadata": {
  "kernelspec": {
   "display_name": "Python 3 (ipykernel)",
   "language": "python",
   "name": "python3"
  },
  "language_info": {
   "codemirror_mode": {
    "name": "ipython",
    "version": 3
   },
   "file_extension": ".py",
   "mimetype": "text/x-python",
   "name": "python",
   "nbconvert_exporter": "python",
   "pygments_lexer": "ipython3",
   "version": "3.10.12"
  }
 },
 "nbformat": 4,
 "nbformat_minor": 5
}
