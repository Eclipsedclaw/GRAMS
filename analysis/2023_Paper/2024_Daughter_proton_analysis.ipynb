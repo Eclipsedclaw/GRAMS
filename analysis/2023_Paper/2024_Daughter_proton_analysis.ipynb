{
 "cells": [
  {
   "cell_type": "code",
   "execution_count": 1,
   "id": "6d96c803-d4fb-438e-ade3-c53b5b976339",
   "metadata": {},
   "outputs": [
    {
     "data": {
      "text/plain": [
       "'\\nAnalyze daughter protons for annihilation event\\nauthor: Jiancheng Zeng\\nDate: June 24, 2024\\n'"
      ]
     },
     "execution_count": 1,
     "metadata": {},
     "output_type": "execute_result"
    }
   ],
   "source": [
    "\"\"\"\n",
    "Analyze daughter protons for annihilation event\n",
    "author: Jiancheng Zeng\n",
    "Date: June 24, 2024\n",
    "\"\"\""
   ]
  },
  {
   "cell_type": "code",
   "execution_count": 2,
   "id": "e4bd827e-986c-4d49-a2db-a6fa06f0441d",
   "metadata": {},
   "outputs": [],
   "source": [
    "import pandas as pd\n",
    "import numpy as np\n",
    "import time\n",
    "import math\n",
    "import matplotlib.pyplot as plt\n",
    "import os\n",
    "#from toy_model_analysis import Analyze_trace, read_data_from_toymodel\n",
    "import toy_model_analysis\n",
    "import corner"
   ]
  },
  {
   "cell_type": "code",
   "execution_count": 3,
   "id": "f3a0f792",
   "metadata": {},
   "outputs": [
    {
     "ename": "",
     "evalue": "",
     "output_type": "error",
     "traceback": [
      "\u001b[1;31mThe Kernel crashed while executing code in the current cell or a previous cell. \n",
      "\u001b[1;31mPlease review the code in the cell(s) to identify a possible cause of the failure. \n",
      "\u001b[1;31mClick <a href='https://aka.ms/vscodeJupyterKernelCrash'>here</a> for more info. \n",
      "\u001b[1;31mView Jupyter <a href='command:jupyter.viewOutput'>log</a> for further details."
     ]
    }
   ],
   "source": [
    "def read_data_from_toymodel(file_path):\n",
    "    print(\"Reading data...\\n\")\n",
    "\n",
    "    try:\n",
    "        column_names = ['eventID', 'trackID', 'parentID', 'particleID', 'copyNb1 (mother volume)', 'copyNb', 'material', 'time (ns)', 'energy (MeV)', 'energy deposit (MeV)', 'parent process name', 'process name', 'px (MeV/c)', 'py (MeV/c)', 'pz (MeV/c)', 'step length (cm)', 'x (cm)', 'y (cm)', 'z (cm)']\n",
    "        df = pd.read_csv(file_path, delimiter='\\t', header=None, names=column_names)  # Assumes tab-separated values in the text file\n",
    " \n",
    "        # Convert all columns to string data type\n",
    "        df = df.astype(str)\n",
    "        \n",
    "        print(\"Grouping data...\")\n",
    "        # Group by eventID and trackID\n",
    "        grouped_data = df.groupby(['eventID'])\n",
    "\n",
    "        # Clear the data buffer\n",
    "        del df\n",
    "\n",
    "        print(\"Finished data reading!\")\n",
    "        return grouped_data\n",
    "    except FileNotFoundError:\n",
    "        print(f\"Error: File '{file_path}' not found.\")\n",
    "        return None\n",
    "    except pd.errors.ParserError:\n",
    "        print(f\"Error: Unable to parse data from '{file_path}'. Please ensure the file has the correct format.\")\n",
    "        return None"
   ]
  },
  {
   "cell_type": "code",
   "execution_count": 4,
   "id": "47f10f10",
   "metadata": {},
   "outputs": [
    {
     "name": "stdout",
     "output_type": "stream",
     "text": [
      "Reading data...\n",
      "\n"
     ]
    }
   ],
   "source": [
    "data = read_data_from_toymodel(\"/HDD/jiancheng/GRAMS/ToyModelData/2024/Daughter_anti_He3_1e5_test.dat\")"
   ]
  },
  {
   "cell_type": "code",
   "execution_count": null,
   "id": "b8eee0a9",
   "metadata": {},
   "outputs": [
    {
     "name": "stdout",
     "output_type": "stream",
     "text": [
      "[##################################################] \u001b[91m100.00%\u001b[0m 100000/100000"
     ]
    }
   ],
   "source": [
    "if data is not None:\n",
    "    N_proton = []\n",
    "\n",
    "    try:\n",
    "        event_keys = list(data.groups.keys())\n",
    "        # i is eventID\n",
    "        for i in range(len(event_keys)):\n",
    "            data_track = data.get_group(event_keys[i])\n",
    "            data_track = data_track.groupby(['trackID'])\n",
    "            track_keys = list(data_track.groups.keys())\n",
    "            proton = 0\n",
    "            mu_minus = 0\n",
    "            # j is track ID\n",
    "            for j in range(len(track_keys)):\n",
    "                #if(str(data_track.get_group(track_keys[j]).iloc[0]['particleID']) == '211' and str(data_track.get_group(track_keys[j]).iloc[0]['material']) == 'LAr'):\n",
    "                if(str(data_track.get_group(track_keys[j]).iloc[0]['particleID']) == '2212' and  str(data_track.get_group(track_keys[j]).iloc[0]['parentID']) == '1'):\n",
    "                    proton = proton + 1\n",
    "\n",
    "            N_proton.append(proton)\n",
    "            toy_model_analysis.display_progress_bar(i+1, len(event_keys))\n",
    "\n",
    "    except KeyError as e:\n",
    "        print(f\"KeyError: {e}\")\n",
    "    except Exception as e:\n",
    "        print(f\"An error occurred: {e}\")\n"
   ]
  },
  {
   "cell_type": "code",
   "execution_count": null,
   "id": "7975ea01",
   "metadata": {},
   "outputs": [
    {
     "data": {
      "image/png": "[encoded data removed]",
      "text/plain": [
       "<Figure size 640x480 with 1 Axes>"
      ]
     },
     "metadata": {},
     "output_type": "display_data"
    }
   ],
   "source": [
    "\n",
    "# This is for listing pi-/pi+/pi0 multiplicity\n",
    "\n",
    "anti_He3_proton_profile = [N_proton]\n",
    "anti_He3_proton_label = ['anti_He3_proton']\n",
    "anti_He3_proton_color = ['green']\n",
    "\n",
    "plt.figure(1)\n",
    "\n",
    "# Determine the range of the data to set integer bins\n",
    "all_values = N_proton\n",
    "min_value = min(all_values)\n",
    "max_value = max(all_values)\n",
    "bins = range(min_value, max_value + 2)  # +2 to include the last integer\n",
    "\n",
    "plt.hist(anti_He3_proton_profile, bins=bins, label=anti_He3_proton_label, color=anti_He3_proton_color, edgecolor='black')\n",
    "\n",
    "# Add labels and title\n",
    "plt.xlabel('# of pions generated')\n",
    "plt.ylabel('Frequency')\n",
    "plt.legend()\n",
    "plt.title('Proton multiplicity for '+str(len(all_values))+ ' antiHelium3 events')\n",
    "\n",
    "# Set x-ticks to be integers\n",
    "plt.xticks(range(min_value, max_value + 1))\n",
    "\n",
    "# Show the plot\n",
    "plt.show()\n"
   ]
  },
  {
   "cell_type": "code",
   "execution_count": null,
   "id": "5758fa9c",
   "metadata": {},
   "outputs": [
    {
     "name": "stdout",
     "output_type": "stream",
     "text": [
      "Reading data...\n",
      "\n",
      "Grouping data...\n",
      "Finished data reading!\n"
     ]
    }
   ],
   "source": [
    "data = []\n",
    "proton_data = read_data_from_toymodel(\"/HDD/jiancheng/GRAMS/ToyModelData/2024/Daughter_anti_proton_1e5_test.dat\")"
   ]
  },
  {
   "cell_type": "code",
   "execution_count": null,
   "id": "b0f2ed75",
   "metadata": {},
   "outputs": [],
   "source": []
  },
  {
   "cell_type": "code",
   "execution_count": null,
   "id": "872f4ef1",
   "metadata": {},
   "outputs": [],
   "source": [
    "if proton_data is not None:\n",
    "    proton_N_proton = []\n",
    "    try:\n",
    "        event_keys = list(proton_data.groups.keys())\n",
    "        # i is eventID\n",
    "        for i in range(len(event_keys)):\n",
    "            proton_data_track = proton_data.get_group(event_keys[i])\n",
    "            proton_data_track = proton_data_track.groupby(['trackID'])\n",
    "            track_keys = list(proton_data_track.groups.keys())\n",
    "            proton = 0\n",
    "            # j is track ID\n",
    "            for j in range(len(track_keys)):\n",
    "                #if(str(proton_data_track.get_group(track_keys[j]).iloc[0]['particleID']) == '211' and str(proton_data_track.get_group(track_keys[j]).iloc[0]['material']) == 'LAr'):\n",
    "                if(str(proton_data_track.get_group(track_keys[j]).iloc[0]['particleID']) == '2212' and str(proton_data_track.get_group(track_keys[j]).iloc[0]['parentID']) == '1'):\n",
    "                    proton = proton + 1\n",
    "            proton_N_proton.append(proton)\n",
    "\n",
    "            toy_model_analysis.display_progress_bar(i+1, len(event_keys))\n",
    "\n",
    "    except KeyError as e:\n",
    "        print(f\"KeyError: {e}\")\n",
    "    except Exception as e:\n",
    "        print(f\"An error occurred: {e}\")\n",
    "\n"
   ]
  },
  {
   "cell_type": "code",
   "execution_count": null,
   "id": "8ab0d178",
   "metadata": {},
   "outputs": [
    {
     "ename": "NameError",
     "evalue": "name 'proton_N_proton' is not defined",
     "output_type": "error",
     "traceback": [
      "\u001b[0;31m---------------------------------------------------------------------------\u001b[0m",
      "\u001b[0;31mNameError\u001b[0m                                 Traceback (most recent call last)",
      "Cell \u001b[0;32mIn [9], line 3\u001b[0m\n\u001b[1;32m      1\u001b[0m \u001b[38;5;66;03m# This is for listing pi-/pi+/pi0 multiplicity\u001b[39;00m\n\u001b[0;32m----> 3\u001b[0m anti_proton_proton_profile \u001b[38;5;241m=\u001b[39m [\u001b[43mproton_N_proton\u001b[49m]\n\u001b[1;32m      4\u001b[0m anti_proton_proton_label \u001b[38;5;241m=\u001b[39m [\u001b[38;5;124m'\u001b[39m\u001b[38;5;124manti_proton_Pion_plus\u001b[39m\u001b[38;5;124m'\u001b[39m]\n\u001b[1;32m      5\u001b[0m anti_proton_proton_color \u001b[38;5;241m=\u001b[39m [\u001b[38;5;124m'\u001b[39m\u001b[38;5;124mred\u001b[39m\u001b[38;5;124m'\u001b[39m]\n",
      "\u001b[0;31mNameError\u001b[0m: name 'proton_N_proton' is not defined"
     ]
    }
   ],
   "source": [
    "\n",
    "# This is for listing pi-/pi+/pi0 multiplicity\n",
    "\n",
    "anti_proton_proton_profile = [proton_N_proton]\n",
    "anti_proton_proton_label = ['anti_proton_Pion_plus']\n",
    "anti_proton_proton_color = ['red']\n",
    "\n",
    "\n",
    "plt.figure(1)\n",
    "\n",
    "# Determine the range of the data to set integer bins\n",
    "all_values = proton_N_proton\n",
    "min_value = min(all_values)\n",
    "max_value = max(all_values)\n",
    "bins = range(min_value, max_value + 2)  # +2 to include the last integer\n",
    "\n",
    "plt.hist(anti_proton_proton_profile, bins=bins, label=anti_proton_proton_label, color=anti_proton_proton_color, edgecolor='black')\n",
    "\n",
    "# Add labels and title\n",
    "plt.xlabel('# of pions generated')\n",
    "plt.ylabel('Frequency')\n",
    "plt.legend()\n",
    "plt.title('Pions multiplicity for '+str(len(all_values))+ ' antiHelium3 events')\n",
    "\n",
    "# Set x-ticks to be integers\n",
    "plt.xticks(range(min_value, max_value + 1))\n",
    "\n",
    "# Show the plot\n",
    "plt.show()\n"
   ]
  },
  {
   "cell_type": "code",
   "execution_count": null,
   "id": "17a4cba1",
   "metadata": {},
   "outputs": [],
   "source": [
    "He3bar_proton = np.array(N_proton)\n",
    "protonbar_proton = np.array(proton_N_proton)\n",
    "\n",
    "Charged_pion_comparison = [He3bar_proton, protonbar_proton]\n",
    "Charged_pion_label = [f'{len(He3bar_proton)} anti_He3 events', f'{len(protonbar_proton)} antiproton events']\n",
    "Charged_pion_color = ['green', 'red']\n",
    "\n",
    "plt.figure(1)\n",
    "\n",
    "# Determine the range of the data to set integer bins\n",
    "all_values = np.append(He3bar_proton, protonbar_proton)\n",
    "min_value = min(all_values)\n",
    "max_value = max(all_values)\n",
    "bins = range(min_value, max_value + 2)  # +2 to include the last integer\n",
    "\n",
    "plt.hist(Charged_pion_comparison, bins=bins, label=Charged_pion_label, color=Charged_pion_color, edgecolor='black')\n",
    "\n",
    "# Set x-ticks to be integers\n",
    "plt.xticks(range(min_value, max_value + 1))\n",
    "\n",
    "\n",
    "# Add labels and title\n",
    "plt.xlabel('# of charged pions generated')\n",
    "#plt.xticks(x_values, x_name, rotation=45, ha='right')\n",
    "plt.ylabel('Frequency')\n",
    "plt.legend()\n",
    "plt.title('Protons multiplicity comparison for antiHe3 and antiproton')\n",
    "\n",
    "# Show the plot\n",
    "plt.show()"
   ]
  },
  {
   "cell_type": "code",
   "execution_count": null,
   "id": "9685bdef",
   "metadata": {},
   "outputs": [],
   "source": [
    "cut_value = max(protonbar_charged_pion) - 2\n",
    "\n",
    "keep_number = np.sum(He3bar_charged_pion > cut_value)\n",
    "reject_number = np.sum(protonbar_charged_pion <= cut_value)\n",
    "print(\"after cut all antiproton events, efficiency for He3bar remianing is\", keep_number/len(He3bar_charged_pion))\n",
    "\n",
    "print(\"Rejection factor for antiproton is: \", reject_number/len(protonbar_charged_pion))"
   ]
  },
  {
   "cell_type": "code",
   "execution_count": null,
   "id": "4c3a7cd6",
   "metadata": {},
   "outputs": [],
   "source": []
  },
  {
   "cell_type": "code",
   "execution_count": null,
   "id": "df2bfa88",
   "metadata": {},
   "outputs": [],
   "source": []
  }
 ],
 "metadata": {
  "kernelspec": {
   "display_name": "Python 3 (ipykernel)",
   "language": "python",
   "name": "python3"
  },
  "language_info": {
   "codemirror_mode": {
    "name": "ipython",
    "version": 3
   },
   "file_extension": ".py",
   "mimetype": "text/x-python",
   "name": "python",
   "nbconvert_exporter": "python",
   "pygments_lexer": "ipython3",
   "version": "3.10.12"
  }
 },
 "nbformat": 4,
 "nbformat_minor": 5
}
