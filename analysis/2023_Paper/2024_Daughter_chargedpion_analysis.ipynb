{
 "cells": [
  {
   "cell_type": "code",
   "execution_count": 1,
   "id": "6d96c803-d4fb-438e-ade3-c53b5b976339",
   "metadata": {},
   "outputs": [
    {
     "data": {
      "text/plain": [
       "'\\nAnalyze daughter particles for annihilation event\\nauthor: Jiancheng Zeng\\nDate: June 24, 2024\\n'"
      ]
     },
     "execution_count": 1,
     "metadata": {},
     "output_type": "execute_result"
    }
   ],
   "source": [
    "\"\"\"\n",
    "Analyze daughter particles for annihilation event\n",
    "author: Jiancheng Zeng\n",
    "Date: June 24, 2024\n",
    "\"\"\""
   ]
  },
  {
   "cell_type": "code",
   "execution_count": 2,
   "id": "e4bd827e-986c-4d49-a2db-a6fa06f0441d",
   "metadata": {},
   "outputs": [],
   "source": [
    "import pandas as pd\n",
    "import numpy as np\n",
    "import time\n",
    "import math\n",
    "import matplotlib.pyplot as plt\n",
    "import os\n",
    "#from toy_model_analysis import Analyze_trace, read_data_from_toymodel\n",
    "import toy_model_analysis\n",
    "import corner"
   ]
  },
  {
   "cell_type": "code",
   "execution_count": 3,
   "id": "f3a0f792",
   "metadata": {},
   "outputs": [],
   "source": [
    "def read_data_from_toymodel(file_path):\n",
    "    print(\"Reading data...\\n\")\n",
    "\n",
    "    try:\n",
    "        column_names = ['eventID', 'trackID', 'parentID', 'particleID', 'copyNb1 (mother volume)', 'copyNb', 'material', 'time (ns)', 'energy (MeV)', 'energy deposit (MeV)', 'parent process name', 'process name', 'px (MeV/c)', 'py (MeV/c)', 'pz (MeV/c)', 'step length (cm)', 'x (cm)', 'y (cm)', 'z (cm)']\n",
    "        df = pd.read_csv(file_path, delimiter='\\t', header=None, names=column_names)  # Assumes tab-separated values in the text file\n",
    " \n",
    "        # Convert all columns to string data type\n",
    "        df = df.astype(str)\n",
    "        \n",
    "        print(\"Grouping data...\")\n",
    "        # Group by eventID and trackID\n",
    "        grouped_data = df.groupby(['eventID'])\n",
    "\n",
    "        # Clear the data buffer\n",
    "        del df\n",
    "\n",
    "        print(\"Finished data reading!\")\n",
    "        return grouped_data\n",
    "    except FileNotFoundError:\n",
    "        print(f\"Error: File '{file_path}' not found.\")\n",
    "        return None\n",
    "    except pd.errors.ParserError:\n",
    "        print(f\"Error: Unable to parse data from '{file_path}'. Please ensure the file has the correct format.\")\n",
    "        return None"
   ]
  },
  {
   "cell_type": "code",
   "execution_count": 4,
   "id": "47f10f10",
   "metadata": {},
   "outputs": [
    {
     "name": "stdout",
     "output_type": "stream",
     "text": [
      "Reading data...\n",
      "\n",
      "Grouping data...\n",
      "Finished data reading!\n"
     ]
    }
   ],
   "source": [
    "data = read_data_from_toymodel(\"/NAS/JC/2024_simulation/2024/Daughter_anti_He3_1e4_TOI.dat\")"
   ]
  },
  {
   "cell_type": "code",
   "execution_count": 5,
   "id": "b8eee0a9",
   "metadata": {},
   "outputs": [
    {
     "name": "stdout",
     "output_type": "stream",
     "text": [
      "[###                                               ] \u001b[91m6.80%\u001b[0m 68/1000"
     ]
    },
    {
     "ename": "KeyboardInterrupt",
     "evalue": "",
     "output_type": "error",
     "traceback": [
      "\u001b[0;31m---------------------------------------------------------------------------\u001b[0m",
      "\u001b[0;31mKeyboardInterrupt\u001b[0m                         Traceback (most recent call last)",
      "Cell \u001b[0;32mIn [5], line 19\u001b[0m\n\u001b[1;32m     15\u001b[0m \u001b[38;5;66;03m# j is track ID\u001b[39;00m\n\u001b[1;32m     16\u001b[0m \u001b[38;5;28;01mfor\u001b[39;00m j \u001b[38;5;129;01min\u001b[39;00m \u001b[38;5;28mrange\u001b[39m(\u001b[38;5;28mlen\u001b[39m(track_keys)):\n\u001b[1;32m     17\u001b[0m     \u001b[38;5;66;03m#abnormal_daughter = str(data_track.get_group(track_keys[j]).iloc[0]['parent process name'])\u001b[39;00m\n\u001b[1;32m     18\u001b[0m     \u001b[38;5;66;03m#if(str(data_track.get_group(track_keys[j]).iloc[0]['particleID']) == '211' and str(data_track.get_group(track_keys[j]).iloc[0]['material']) == 'LAr'):\u001b[39;00m\n\u001b[0;32m---> 19\u001b[0m     \u001b[38;5;28;01mif\u001b[39;00m(\u001b[38;5;28mstr\u001b[39m(\u001b[43mdata_track\u001b[49m\u001b[38;5;241;43m.\u001b[39;49m\u001b[43mget_group\u001b[49m\u001b[43m(\u001b[49m\u001b[43mtrack_keys\u001b[49m\u001b[43m[\u001b[49m\u001b[43mj\u001b[49m\u001b[43m]\u001b[49m\u001b[43m)\u001b[49m\u001b[38;5;241m.\u001b[39miloc[\u001b[38;5;241m0\u001b[39m][\u001b[38;5;124m'\u001b[39m\u001b[38;5;124mparticleID\u001b[39m\u001b[38;5;124m'\u001b[39m]) \u001b[38;5;241m==\u001b[39m \u001b[38;5;124m'\u001b[39m\u001b[38;5;124m211\u001b[39m\u001b[38;5;124m'\u001b[39m):\n\u001b[1;32m     20\u001b[0m         mu_plus \u001b[38;5;241m=\u001b[39m mu_plus \u001b[38;5;241m+\u001b[39m \u001b[38;5;241m1\u001b[39m\n\u001b[1;32m     21\u001b[0m         \u001b[38;5;66;03m# get the particle ID of this track\u001b[39;00m\n\u001b[1;32m     22\u001b[0m         \u001b[38;5;66;03m#print(\"first track of event\", event_keys[i], \"is\", data_track.get_group(track_keys[j]).iloc[0]['particleID'])\u001b[39;00m\n\u001b[1;32m     23\u001b[0m     \u001b[38;5;66;03m#elif(str(data_track.get_group(track_keys[j]).iloc[0]['particleID']) == '-211' and str(data_track.get_group(track_keys[j]).iloc[0]['material']) == 'LAr'):\u001b[39;00m\n",
      "File \u001b[0;32m/usr/local/lib/python3.10/dist-packages/pandas/core/groupby/groupby.py:813\u001b[0m, in \u001b[0;36mBaseGroupBy.get_group\u001b[0;34m(self, name, obj)\u001b[0m\n\u001b[1;32m    810\u001b[0m \u001b[38;5;28;01mif\u001b[39;00m \u001b[38;5;129;01mnot\u001b[39;00m \u001b[38;5;28mlen\u001b[39m(inds):\n\u001b[1;32m    811\u001b[0m     \u001b[38;5;28;01mraise\u001b[39;00m \u001b[38;5;167;01mKeyError\u001b[39;00m(name)\n\u001b[0;32m--> 813\u001b[0m \u001b[38;5;28;01mreturn\u001b[39;00m \u001b[43mobj\u001b[49m\u001b[38;5;241;43m.\u001b[39;49m\u001b[43m_take_with_is_copy\u001b[49m\u001b[43m(\u001b[49m\u001b[43minds\u001b[49m\u001b[43m,\u001b[49m\u001b[43m \u001b[49m\u001b[43maxis\u001b[49m\u001b[38;5;241;43m=\u001b[39;49m\u001b[38;5;28;43mself\u001b[39;49m\u001b[38;5;241;43m.\u001b[39;49m\u001b[43maxis\u001b[49m\u001b[43m)\u001b[49m\n",
      "File \u001b[0;32m/usr/local/lib/python3.10/dist-packages/pandas/core/generic.py:3902\u001b[0m, in \u001b[0;36mNDFrame._take_with_is_copy\u001b[0;34m(self, indices, axis)\u001b[0m\n\u001b[1;32m   3894\u001b[0m \u001b[38;5;28;01mdef\u001b[39;00m \u001b[38;5;21m_take_with_is_copy\u001b[39m(\u001b[38;5;28mself\u001b[39m: NDFrameT, indices, axis\u001b[38;5;241m=\u001b[39m\u001b[38;5;241m0\u001b[39m) \u001b[38;5;241m-\u001b[39m\u001b[38;5;241m>\u001b[39m NDFrameT:\n\u001b[1;32m   3895\u001b[0m     \u001b[38;5;124;03m\"\"\"\u001b[39;00m\n\u001b[1;32m   3896\u001b[0m \u001b[38;5;124;03m    Internal version of the `take` method that sets the `_is_copy`\u001b[39;00m\n\u001b[1;32m   3897\u001b[0m \u001b[38;5;124;03m    attribute to keep track of the parent dataframe (using in indexing\u001b[39;00m\n\u001b[0;32m   (...)\u001b[0m\n\u001b[1;32m   3900\u001b[0m \u001b[38;5;124;03m    See the docstring of `take` for full explanation of the parameters.\u001b[39;00m\n\u001b[1;32m   3901\u001b[0m \u001b[38;5;124;03m    \"\"\"\u001b[39;00m\n\u001b[0;32m-> 3902\u001b[0m     result \u001b[38;5;241m=\u001b[39m \u001b[38;5;28;43mself\u001b[39;49m\u001b[38;5;241;43m.\u001b[39;49m\u001b[43m_take\u001b[49m\u001b[43m(\u001b[49m\u001b[43mindices\u001b[49m\u001b[38;5;241;43m=\u001b[39;49m\u001b[43mindices\u001b[49m\u001b[43m,\u001b[49m\u001b[43m \u001b[49m\u001b[43maxis\u001b[49m\u001b[38;5;241;43m=\u001b[39;49m\u001b[43maxis\u001b[49m\u001b[43m)\u001b[49m\n\u001b[1;32m   3903\u001b[0m     \u001b[38;5;66;03m# Maybe set copy if we didn't actually change the index.\u001b[39;00m\n\u001b[1;32m   3904\u001b[0m     \u001b[38;5;28;01mif\u001b[39;00m \u001b[38;5;129;01mnot\u001b[39;00m result\u001b[38;5;241m.\u001b[39m_get_axis(axis)\u001b[38;5;241m.\u001b[39mequals(\u001b[38;5;28mself\u001b[39m\u001b[38;5;241m.\u001b[39m_get_axis(axis)):\n",
      "File \u001b[0;32m/usr/local/lib/python3.10/dist-packages/pandas/core/generic.py:3892\u001b[0m, in \u001b[0;36mNDFrame._take\u001b[0;34m(self, indices, axis, convert_indices)\u001b[0m\n\u001b[1;32m   3884\u001b[0m \u001b[38;5;28mself\u001b[39m\u001b[38;5;241m.\u001b[39m_consolidate_inplace()\n\u001b[1;32m   3886\u001b[0m new_data \u001b[38;5;241m=\u001b[39m \u001b[38;5;28mself\u001b[39m\u001b[38;5;241m.\u001b[39m_mgr\u001b[38;5;241m.\u001b[39mtake(\n\u001b[1;32m   3887\u001b[0m     indices,\n\u001b[1;32m   3888\u001b[0m     axis\u001b[38;5;241m=\u001b[39m\u001b[38;5;28mself\u001b[39m\u001b[38;5;241m.\u001b[39m_get_block_manager_axis(axis),\n\u001b[1;32m   3889\u001b[0m     verify\u001b[38;5;241m=\u001b[39m\u001b[38;5;28;01mTrue\u001b[39;00m,\n\u001b[1;32m   3890\u001b[0m     convert_indices\u001b[38;5;241m=\u001b[39mconvert_indices,\n\u001b[1;32m   3891\u001b[0m )\n\u001b[0;32m-> 3892\u001b[0m \u001b[38;5;28;01mreturn\u001b[39;00m \u001b[38;5;28;43mself\u001b[39;49m\u001b[38;5;241;43m.\u001b[39;49m\u001b[43m_constructor\u001b[49m\u001b[43m(\u001b[49m\u001b[43mnew_data\u001b[49m\u001b[43m)\u001b[49m\u001b[38;5;241m.\u001b[39m__finalize__(\u001b[38;5;28mself\u001b[39m, method\u001b[38;5;241m=\u001b[39m\u001b[38;5;124m\"\u001b[39m\u001b[38;5;124mtake\u001b[39m\u001b[38;5;124m\"\u001b[39m)\n",
      "File \u001b[0;32m/usr/local/lib/python3.10/dist-packages/pandas/core/frame.py:607\u001b[0m, in \u001b[0;36mDataFrame.__init__\u001b[0;34m(self, data, index, columns, dtype, copy)\u001b[0m\n\u001b[1;32m    602\u001b[0m _constructor_sliced: Callable[\u001b[38;5;241m.\u001b[39m\u001b[38;5;241m.\u001b[39m\u001b[38;5;241m.\u001b[39m, Series] \u001b[38;5;241m=\u001b[39m Series\n\u001b[1;32m    604\u001b[0m \u001b[38;5;66;03m# ----------------------------------------------------------------------\u001b[39;00m\n\u001b[1;32m    605\u001b[0m \u001b[38;5;66;03m# Constructors\u001b[39;00m\n\u001b[0;32m--> 607\u001b[0m \u001b[38;5;28;01mdef\u001b[39;00m \u001b[38;5;21m__init__\u001b[39m(\n\u001b[1;32m    608\u001b[0m     \u001b[38;5;28mself\u001b[39m,\n\u001b[1;32m    609\u001b[0m     data\u001b[38;5;241m=\u001b[39m\u001b[38;5;28;01mNone\u001b[39;00m,\n\u001b[1;32m    610\u001b[0m     index: Axes \u001b[38;5;241m|\u001b[39m \u001b[38;5;28;01mNone\u001b[39;00m \u001b[38;5;241m=\u001b[39m \u001b[38;5;28;01mNone\u001b[39;00m,\n\u001b[1;32m    611\u001b[0m     columns: Axes \u001b[38;5;241m|\u001b[39m \u001b[38;5;28;01mNone\u001b[39;00m \u001b[38;5;241m=\u001b[39m \u001b[38;5;28;01mNone\u001b[39;00m,\n\u001b[1;32m    612\u001b[0m     dtype: Dtype \u001b[38;5;241m|\u001b[39m \u001b[38;5;28;01mNone\u001b[39;00m \u001b[38;5;241m=\u001b[39m \u001b[38;5;28;01mNone\u001b[39;00m,\n\u001b[1;32m    613\u001b[0m     copy: \u001b[38;5;28mbool\u001b[39m \u001b[38;5;241m|\u001b[39m \u001b[38;5;28;01mNone\u001b[39;00m \u001b[38;5;241m=\u001b[39m \u001b[38;5;28;01mNone\u001b[39;00m,\n\u001b[1;32m    614\u001b[0m ) \u001b[38;5;241m-\u001b[39m\u001b[38;5;241m>\u001b[39m \u001b[38;5;28;01mNone\u001b[39;00m:\n\u001b[1;32m    616\u001b[0m     \u001b[38;5;28;01mif\u001b[39;00m data \u001b[38;5;129;01mis\u001b[39;00m \u001b[38;5;28;01mNone\u001b[39;00m:\n\u001b[1;32m    617\u001b[0m         data \u001b[38;5;241m=\u001b[39m {}\n",
      "\u001b[0;31mKeyboardInterrupt\u001b[0m: "
     ]
    }
   ],
   "source": [
    "if data is not None:\n",
    "    N_mu_plus = []\n",
    "    N_mu_minus = []\n",
    "    #He3_parent_ID_array = []\n",
    "    try:\n",
    "        event_keys = list(data.groups.keys())\n",
    "        # i is eventID\n",
    "        for i in range(len(event_keys)):\n",
    "            data_track = data.get_group(event_keys[i])\n",
    "            data_track = data_track.groupby(['trackID'])\n",
    "            track_keys = list(data_track.groups.keys())\n",
    "            mu_plus = 0\n",
    "            mu_minus = 0\n",
    "            abnormal_daughter = 'NaN'\n",
    "            # j is track ID\n",
    "            for j in range(len(track_keys)):\n",
    "                #abnormal_daughter = str(data_track.get_group(track_keys[j]).iloc[0]['parent process name'])\n",
    "                #if(str(data_track.get_group(track_keys[j]).iloc[0]['particleID']) == '211' and str(data_track.get_group(track_keys[j]).iloc[0]['material']) == 'LAr'):\n",
    "                if(str(data_track.get_group(track_keys[j]).iloc[0]['particleID']) == '211'):\n",
    "                    mu_plus = mu_plus + 1\n",
    "                    # get the particle ID of this track\n",
    "                    #print(\"first track of event\", event_keys[i], \"is\", data_track.get_group(track_keys[j]).iloc[0]['particleID'])\n",
    "                #elif(str(data_track.get_group(track_keys[j]).iloc[0]['particleID']) == '-211' and str(data_track.get_group(track_keys[j]).iloc[0]['material']) == 'LAr'):\n",
    "                elif(str(data_track.get_group(track_keys[j]).iloc[0]['particleID']) == '-211'):\n",
    "                    mu_minus = mu_minus + 1\n",
    "            #if(mu_plus + mu_minus == 0):\n",
    "                #print(event_keys[i])\n",
    "            N_mu_plus.append(mu_plus)\n",
    "            N_mu_minus.append(mu_minus)\n",
    "            #He3_parent_ID_array.append(abnormal_daughter)\n",
    "            toy_model_analysis.display_progress_bar(i+1, len(event_keys))\n",
    "\n",
    "    except KeyError as e:\n",
    "        print(f\"KeyError: {e}\")\n",
    "    except Exception as e:\n",
    "        print(f\"An error occurred: {e}\")\n"
   ]
  },
  {
   "cell_type": "code",
   "execution_count": 6,
   "id": "06d4f2a2",
   "metadata": {},
   "outputs": [],
   "source": [
    "#print(He3_parent_ID_array)\n",
    "#plt.hist(He3_parent_ID_array)"
   ]
  },
  {
   "cell_type": "code",
   "execution_count": null,
   "id": "7975ea01",
   "metadata": {},
   "outputs": [
    {
     "ename": "NameError",
     "evalue": "name 'N_mu_plus' is not defined",
     "output_type": "error",
     "traceback": [
      "\u001b[0;31m---------------------------------------------------------------------------\u001b[0m",
      "\u001b[0;31mNameError\u001b[0m                                 Traceback (most recent call last)",
      "Cell \u001b[0;32mIn [7], line 3\u001b[0m\n\u001b[1;32m      1\u001b[0m \u001b[38;5;66;03m# This is for listing pi-/pi+/pi0 multiplicity\u001b[39;00m\n\u001b[0;32m----> 3\u001b[0m anti_He3_Pion_profile \u001b[38;5;241m=\u001b[39m [\u001b[43mN_mu_plus\u001b[49m, N_mu_minus]\n\u001b[1;32m      4\u001b[0m anti_He3_Pion_label \u001b[38;5;241m=\u001b[39m [\u001b[38;5;124m'\u001b[39m\u001b[38;5;124manti_He3_Pion_plus\u001b[39m\u001b[38;5;124m'\u001b[39m, \u001b[38;5;124m'\u001b[39m\u001b[38;5;124manti_He3_Pion_minus\u001b[39m\u001b[38;5;124m'\u001b[39m]\n\u001b[1;32m      5\u001b[0m anti_He3_Pion_color \u001b[38;5;241m=\u001b[39m [\u001b[38;5;124m'\u001b[39m\u001b[38;5;124mdarkblue\u001b[39m\u001b[38;5;124m'\u001b[39m, \u001b[38;5;124m'\u001b[39m\u001b[38;5;124mblue\u001b[39m\u001b[38;5;124m'\u001b[39m]\n",
      "\u001b[0;31mNameError\u001b[0m: name 'N_mu_plus' is not defined"
     ]
    }
   ],
   "source": [
    "\n",
    "# This is for listing pi-/pi+/pi0 multiplicity\n",
    "\n",
    "anti_He3_Pion_profile = [N_mu_plus, N_mu_minus]\n",
    "anti_He3_Pion_label = ['anti_He3_Pion_plus', 'anti_He3_Pion_minus']\n",
    "anti_He3_Pion_color = ['darkblue', 'blue']\n",
    "\n",
    "plt.figure(1)\n",
    "\n",
    "# Determine the range of the data to set integer bins\n",
    "all_values = N_mu_plus + N_mu_minus\n",
    "min_value = min(all_values)\n",
    "max_value = max(all_values)\n",
    "bins = range(min_value, max_value + 2)  # +2 to include the last integer\n",
    "\n",
    "plt.hist(anti_He3_Pion_profile, bins=bins, label=anti_He3_Pion_label, color=anti_He3_Pion_color, edgecolor='black')\n",
    "\n",
    "# Add labels and title\n",
    "plt.xlabel('# of pions generated')\n",
    "plt.ylabel('Frequency')\n",
    "plt.legend()\n",
    "plt.title('Pions multiplicity for '+str(len(N_mu_plus))+ ' antiHelium3 events')\n",
    "\n",
    "# Set x-ticks to be integers\n",
    "plt.xticks(range(min_value, max_value + 1))\n",
    "\n",
    "# Show the plot\n",
    "plt.show()\n"
   ]
  },
  {
   "cell_type": "code",
   "execution_count": 8,
   "id": "cfd00798",
   "metadata": {},
   "outputs": [],
   "source": [
    "# clear data cache\n",
    "del data"
   ]
  },
  {
   "cell_type": "code",
   "execution_count": null,
   "id": "5758fa9c",
   "metadata": {},
   "outputs": [
    {
     "name": "stdout",
     "output_type": "stream",
     "text": [
      "Reading data...\n",
      "\n",
      "Grouping data...\n",
      "Finished data reading!\n"
     ]
    }
   ],
   "source": [
    "proton_data = read_data_from_toymodel(\"/NAS/JC/2024_simulation/2024/Daughter_anti_proton_1e4_TOI.dat\")"
   ]
  },
  {
   "cell_type": "code",
   "execution_count": null,
   "id": "b0f2ed75",
   "metadata": {},
   "outputs": [],
   "source": []
  },
  {
   "cell_type": "code",
   "execution_count": null,
   "id": "872f4ef1",
   "metadata": {},
   "outputs": [
    {
     "name": "stdout",
     "output_type": "stream",
     "text": [
      "[##################################################] \u001b[91m100.00%\u001b[0m 100000/100000"
     ]
    }
   ],
   "source": [
    "if proton_data is not None:\n",
    "    proton_N_mu_plus = []\n",
    "    proton_N_mu_minus = []\n",
    "    proton_parent_ID_array = []\n",
    "    try:\n",
    "        event_keys = list(proton_data.groups.keys())\n",
    "        # i is eventID\n",
    "        for i in range(len(event_keys)):\n",
    "            proton_data_track = proton_data.get_group(event_keys[i])\n",
    "            proton_data_track = proton_data_track.groupby(['trackID'])\n",
    "            track_keys = list(proton_data_track.groups.keys())\n",
    "            mu_plus = 0\n",
    "            mu_minus = 0\n",
    "            parent_ID = 'NaN'\n",
    "            # j is track ID\n",
    "            for j in range(len(track_keys)):\n",
    "                #if(str(proton_data_track.get_group(track_keys[j]).iloc[0]['particleID']) == '211' and str(proton_data_track.get_group(track_keys[j]).iloc[0]['material']) == 'LAr'):\n",
    "                if(str(proton_data_track.get_group(track_keys[j]).iloc[0]['particleID']) == '211'):\n",
    "                    parent_ID = str(proton_data_track.get_group(track_keys[j]).iloc[0]['parentID'])\n",
    "                    mu_plus = mu_plus + 1\n",
    "                    # get the particle ID of this track\n",
    "                    #print(\"first track of event\", event_keys[i], \"is\", proton_data_track.get_group(track_keys[j]).iloc[0]['particleID'])\n",
    "                #elif(str(proton_data_track.get_group(track_keys[j]).iloc[0]['particleID']) == '-211' and str(proton_data_track.get_group(track_keys[j]).iloc[0]['material']) == 'LAr'):\n",
    "                elif(str(proton_data_track.get_group(track_keys[j]).iloc[0]['particleID']) == '-211'):\n",
    "                    parent_ID = str(proton_data_track.get_group(track_keys[j]).iloc[0]['parentID'])\n",
    "                    mu_minus = mu_minus + 1\n",
    "            proton_N_mu_plus.append(mu_plus)\n",
    "            proton_N_mu_minus.append(mu_minus)\n",
    "            proton_parent_ID_array.append(parent_ID)\n",
    "            toy_model_analysis.display_progress_bar(i+1, len(event_keys))\n",
    "\n",
    "    except KeyError as e:\n",
    "        print(f\"KeyError: {e}\")\n",
    "    except Exception as e:\n",
    "        print(f\"An error occurred: {e}\")\n",
    "\n",
    "# clear data cache\n",
    "del proton_data\n"
   ]
  },
  {
   "cell_type": "code",
   "execution_count": null,
   "id": "8ab0d178",
   "metadata": {},
   "outputs": [
    {
     "data": {
      "image/png": "[encoded data removed]",
      "text/plain": [
       "<Figure size 640x480 with 1 Axes>"
      ]
     },
     "metadata": {},
     "output_type": "display_data"
    }
   ],
   "source": [
    "\n",
    "# This is for listing pi-/pi+/pi0 multiplicity\n",
    "\n",
    "anti_proton_Pion_profile = [proton_N_mu_plus, proton_N_mu_minus]\n",
    "anti_proton_Pion_label = ['anti_proton_Pion_plus', 'anti_proton_Pion_minus']\n",
    "anti_proton_Pion_color = ['darkred', 'red']\n",
    "\n",
    "\n",
    "plt.figure(1)\n",
    "\n",
    "# Determine the range of the data to set integer bins\n",
    "all_values = proton_N_mu_plus + proton_N_mu_minus\n",
    "min_value = min(all_values)\n",
    "max_value = max(all_values)\n",
    "bins = range(min_value, max_value + 2)  # +2 to include the last integer\n",
    "\n",
    "plt.hist(anti_He3_Pion_profile, bins=bins, label=anti_proton_Pion_label, color=anti_proton_Pion_color, edgecolor='black')\n",
    "\n",
    "# Add labels and title\n",
    "plt.xlabel('# of pions generated')\n",
    "plt.ylabel('Frequency')\n",
    "plt.legend()\n",
    "plt.title('Pions multiplicity for '+str(len(N_mu_plus))+ ' antiHelium3 events')\n",
    "\n",
    "# Set x-ticks to be integers\n",
    "plt.xticks(range(min_value, max_value + 1))\n",
    "\n",
    "# Show the plot\n",
    "plt.show()\n"
   ]
  },
  {
   "cell_type": "code",
   "execution_count": 15,
   "id": "17a4cba1",
   "metadata": {},
   "outputs": [
    {
     "name": "stdout",
     "output_type": "stream",
     "text": [
      "(array([[2.6900e+02, 1.3550e+03, 3.5160e+03, 6.4390e+03, 6.6610e+03,\n",
      "        8.3240e+03, 1.0282e+04, 1.2210e+04, 1.3203e+04, 1.2588e+04,\n",
      "        1.0343e+04, 7.4710e+03, 4.2640e+03, 2.0030e+03, 7.6800e+02,\n",
      "        2.4700e+02, 4.8000e+01, 9.0000e+00],\n",
      "       [1.8940e+03, 9.8770e+03, 2.1023e+04, 3.6347e+04, 1.9723e+04,\n",
      "        9.5170e+03, 1.5250e+03, 9.3000e+01, 1.0000e+00, 0.0000e+00,\n",
      "        0.0000e+00, 0.0000e+00, 0.0000e+00, 0.0000e+00, 0.0000e+00,\n",
      "        0.0000e+00, 0.0000e+00, 0.0000e+00]]), array([ 0.,  1.,  2.,  3.,  4.,  5.,  6.,  7.,  8.,  9., 10., 11., 12.,\n",
      "       13., 14., 15., 16., 17., 18.]), <a list of 2 BarContainer objects>)\n"
     ]
    },
    {
     "data": {
      "image/png": "[encoded data removed]",
      "text/plain": [
       "<Figure size 640x480 with 1 Axes>"
      ]
     },
     "metadata": {},
     "output_type": "display_data"
    }
   ],
   "source": [
    "He3bar_charged_pion = np.array(N_mu_minus) + np.array(N_mu_plus)\n",
    "He3bar_charged_pion = np.repeat(He3bar_charged_pion,100,axis=0)\n",
    "protonbar_charged_pion = np.array(proton_N_mu_plus) + np.array(proton_N_mu_minus)\n",
    "\n",
    "Charged_pion_comparison = [He3bar_charged_pion, protonbar_charged_pion]\n",
    "Charged_pion_label = [f'{len(He3bar_charged_pion)} anti_He3 events', f'{len(protonbar_charged_pion)} antiproton events']\n",
    "Charged_pion_color = ['blue', 'red']\n",
    "\n",
    "plt.figure(1)\n",
    "\n",
    "# Determine the range of the data to set integer bins\n",
    "all_values = np.append(He3bar_charged_pion, protonbar_charged_pion)\n",
    "min_value = min(all_values)\n",
    "max_value = max(all_values)\n",
    "bins = range(min_value, max_value + 2)  # +2 to include the last integer\n",
    "\n",
    "test = plt.hist(Charged_pion_comparison, bins=bins, label=Charged_pion_label, color=Charged_pion_color, edgecolor='black')\n",
    "print(test)\n",
    "# Set x-ticks to be integers\n",
    "plt.xticks(range(min_value, max_value + 1))\n",
    "\n",
    "\n",
    "# Add labels and title\n",
    "plt.xlabel('# of charged pions generated')\n",
    "#plt.xticks(x_values, x_name, rotation=45, ha='right')\n",
    "plt.ylabel('Frequency')\n",
    "plt.legend()\n",
    "plt.title('Pions multiplicity comparison for antiHe3 and antiproton')\n",
    "\n",
    "# Show the plot\n",
    "plt.show()"
   ]
  },
  {
   "cell_type": "code",
   "execution_count": 13,
   "id": "9685bdef",
   "metadata": {},
   "outputs": [
    {
     "name": "stdout",
     "output_type": "stream",
     "text": [
      "3774100.0\n",
      "0.0\n"
     ]
    }
   ],
   "source": [
    "print(np.sum(test[0][0][9:,]))\n",
    "print(np.sum(test[0][1][9:,]))"
   ]
  },
  {
   "cell_type": "code",
   "execution_count": null,
   "id": "7f3348ce",
   "metadata": {},
   "outputs": [],
   "source": [
    "# Save the array to a file\n",
    "np.save('anti_He3_Pion_profile.npy', anti_He3_Pion_profile)\n",
    "np.save('anti_proton_Pion_profile.npy', anti_proton_Pion_profile)"
   ]
  },
  {
   "cell_type": "code",
   "execution_count": 14,
   "id": "4c3a7cd6",
   "metadata": {},
   "outputs": [],
   "source": [
    "# Mean and standard deviation\n",
    "#model A\n",
    "anti_proton_mu = 2.65 + 3.65 * np.log(2)\n",
    "anti_deuteron_mu = 2.65 + 3.65 * np.log(4)\n",
    "anti_He3_mu = 2.65 + 3.65 * np.log(6)\n",
    "\n",
    "anti_proton_sigma = np.sqrt(anti_proton_mu * 0.174 * math.pow(2, 0.4))\n",
    "anti_deuteron_sigma = np.sqrt(anti_deuteron_mu * 0.174 * math.pow(4, 0.4))\n",
    "anti_He3_sigma = np.sqrt(anti_He3_mu * 0.174 * math.pow(6, 0.4))\n",
    "\"\"\"\n",
    "#model B\n",
    "anti_proton_mu = 2.65 + 3.65 * np.log(2)\n",
    "anti_deuteron_mu = 2 * anti_proton_mu\n",
    "anti_He3_mu = 3 * anti_proton_mu\n",
    "anti_proton_sigma = np.sqrt(anti_proton_mu * 0.174 * math.pow(2, 0.4))\n",
    "anti_deuteron_sigma = np.sqrt(2) * anti_proton_sigma\n",
    "anti_He3_sigma = np.sqrt(3) * anti_proton_sigma\n",
    "\"\"\"\n",
    "\n",
    "# Generate random numbers from the Gaussian distribution\n",
    "anti_proton_corner_Charged_pion_model = np.random.normal(anti_proton_mu, anti_proton_sigma, size=1000)\n",
    "anti_He3_corner_Charged_pion_model = np.random.normal(anti_He3_mu, anti_He3_sigma, size=1000)\n",
    "\n"
   ]
  },
  {
   "cell_type": "code",
   "execution_count": null,
   "id": "df2bfa88",
   "metadata": {},
   "outputs": [],
   "source": []
  }
 ],
 "metadata": {
  "kernelspec": {
   "display_name": "Python 3",
   "language": "python",
   "name": "python3"
  },
  "language_info": {
   "codemirror_mode": {
    "name": "ipython",
    "version": 3
   },
   "file_extension": ".py",
   "mimetype": "text/x-python",
   "name": "python",
   "nbconvert_exporter": "python",
   "pygments_lexer": "ipython3",
   "version": "3.10.12"
  }
 },
 "nbformat": 4,
 "nbformat_minor": 5
}
