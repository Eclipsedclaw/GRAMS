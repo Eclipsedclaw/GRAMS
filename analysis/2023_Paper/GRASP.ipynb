{
 "cells": [
  {
   "cell_type": "code",
   "execution_count": 1,
   "id": "ffe0e9e9-e9b6-453a-a9dc-04d29142b809",
   "metadata": {},
   "outputs": [
    {
     "data": {
      "text/plain": [
       "'\\nAnalyze GRASP for each detector design\\nauthor: Jiancheng Zeng\\nDate: May 1, 2023\\n'"
      ]
     },
     "execution_count": 1,
     "metadata": {},
     "output_type": "execute_result"
    }
   ],
   "source": [
    "\"\"\"\n",
    "Analyze GRASP for each detector design\n",
    "author: Jiancheng Zeng\n",
    "Date: May 1, 2023\n",
    "\"\"\""
   ]
  },
  {
   "cell_type": "code",
   "execution_count": 184,
   "id": "0958311c-5aa9-4b75-88c7-23bbcb0e8f34",
   "metadata": {},
   "outputs": [],
   "source": [
    "import pandas as pd\n",
    "import numpy as np\n",
    "import time\n",
    "import math\n",
    "import matplotlib.pyplot as plt\n",
    "  \n",
    "def read_data_from_toymodel(file_path):\n",
    "    print(\"Reading data...\\n\")\n",
    "    try:\n",
    "        df = pd.read_csv(file_path, delimiter='\\t')  # Assumes tab-separated values in the text file\n",
    "\n",
    "        # Name each data group with event ID\n",
    "        grouped = df.groupby(df.iloc[:, 0])\n",
    "\n",
    "        # Create an empty dictionary to store the 3D data structure\n",
    "        data_3d = {}\n",
    "\n",
    "        # Iterate over each group and populate the dictionary\n",
    "        for group_name, group_data in grouped:\n",
    "            data_3d[group_name] = group_data.values\n",
    "        \n",
    "        print(\"Toy Model data imported\\nFound \" + str(len(list(data.keys()))) + \" Events!\")\n",
    "        return data_3d\n",
    "    except FileNotFoundError:\n",
    "        print(f\"Error: File '{file_path}' not found.\")\n",
    "        return None\n",
    "    except pd.errors.ParserError:\n",
    "        print(f\"Error: Unable to parse data from '{file_path}'. Please ensure the file has the correct format.\")\n",
    "        return None\n",
    "\n",
    "\"\"\" \n",
    "This function doing GRASP analysis\n",
    "\"\"\"\n",
    "def Analyze_GRASP(data_3d, particle_ID, stop_event=False):\n",
    "    Event_list = list(data_3d.keys())\n",
    "    Init_Energy = []\n",
    "    N_stop_event = 0\n",
    "    for i in range(len(Event_list)):\n",
    "        Energy_out = 0\n",
    "        Energy_in = 0\n",
    "        for j in range(len(data_3d[Event_list[i]])):\n",
    "            if(str(data_3d[Event_list[i]][j, 5]) == '-10000' or str(data_3d[Event_list[i]][j, 5]) == '-10001' or str(data_3d[Event_list[i]][j, 5]) == '-10002' or str(data_3d[Event_list[i]][j, 5]) == '-10003' or str(data_3d[Event_list[i]][j, 5]) == '-10004' or str(data_3d[Event_list[i]][j, 5]) == '-10005' and str(data_3d[Event_list[i]][3]) == str(particle_ID)):\n",
    "                Energy_out = Energy_out + float(data_3d[Event_list[i]][j, 9])\n",
    "                #print(Energy_out)\n",
    "                #if str(data_3d[Event_list[i]][j+1, 5]) != str(data_3d[Event_list[i]][j, 5]):\n",
    "                    #break\n",
    "            if(str(data_3d[Event_list[i]][j, 5]) == '-11000' or str(data_3d[Event_list[i]][j, 5]) == '-11001' or str(data_3d[Event_list[i]][j, 5]) == '-11002' or str(data_3d[Event_list[i]][j, 5]) == '-11003' or str(data_3d[Event_list[i]][j, 5]) == '-11004' or str(data_3d[Event_list[i]][j, 5]) == '-11005' and str(data_3d[Event_list[i]][3]) == str(particle_ID)):\n",
    "                Energy_in = Energy_in + float(data_3d[Event_list[i]][j, 9])\n",
    "        if(stop_event == True):\n",
    "            condition = np.min(data_3d[Event_list[i]][:, 8]) == 0 and np.min(data_3d[Event_list[i]][:, 9]) == 0 and stop_event\n",
    "        else:\n",
    "            condition = True\n",
    "\n",
    "        if(Energy_in != 0 and Energy_out != 0 and condition):\n",
    "            N_stop_event = N_stop_event + 1\n",
    "            Init_Energy.append(data_3d[Event_list[i]][0, 8])\n",
    "        print(\"Now processing (\" + str(i) + \"/\" + str(len(Event_list))+\")\",  end='\\r')\n",
    "    print(\"\\n We got \" + str(N_stop_event) + \" events selected\")\n",
    "    return np.array(Init_Energy)\n",
    "\n",
    "def Analyze_TOF(data_3d, particle_ID, stop_event=False):\n",
    "    Event_list = list(data_3d.keys())\n",
    "    TOF_out_E = []\n",
    "    TOF_in_E = []\n",
    "    for i in range(len(Event_list)):\n",
    "        Energy_out = 0\n",
    "        Energy_in = 0\n",
    "        for j in range(len(data_3d[Event_list[i]])):\n",
    "            if(str(data_3d[Event_list[i]][j, 5]) == '-10000' or str(data_3d[Event_list[i]][j, 5]) == '-10001' or str(data_3d[Event_list[i]][j, 5]) == '-10002' or str(data_3d[Event_list[i]][j, 5]) == '-10003' or str(data_3d[Event_list[i]][j, 5]) == '-10004' or str(data_3d[Event_list[i]][j, 5]) == '-10005' and str(data_3d[Event_list[i]][3]) == str(particle_ID)):\n",
    "                Energy_out = Energy_out + float(data_3d[Event_list[i]][j, 9])\n",
    "                #print(Energy_out)\n",
    "                #if str(data_3d[Event_list[i]][j+1, 5]) != str(data_3d[Event_list[i]][j, 5]):\n",
    "                    #break\n",
    "            if(str(data_3d[Event_list[i]][j, 5]) == '-11000' or str(data_3d[Event_list[i]][j, 5]) == '-11001' or str(data_3d[Event_list[i]][j, 5]) == '-11002' or str(data_3d[Event_list[i]][j, 5]) == '-11003' or str(data_3d[Event_list[i]][j, 5]) == '-11004' or str(data_3d[Event_list[i]][j, 5]) == '-11005' and str(data_3d[Event_list[i]][3]) == str(particle_ID)):\n",
    "                Energy_in = Energy_in + float(data_3d[Event_list[i]][j, 9])\n",
    "        if(stop_event==True):\n",
    "            condition = np.min(data_3d[Event_list[i]][:, 8]) == 0 and np.min(data_3d[Event_list[i]][:, 9]) == 0 and stop_event\n",
    "        else:\n",
    "            condition = True\n",
    "\n",
    "        if(Energy_in != 0 and Energy_out != 0 and condition):\n",
    "            TOF_out_E.append(Energy_out)\n",
    "            TOF_in_E.append(Energy_in)\n",
    "        print(\"Now processing (\" + str(i) + \"/\" + str(len(Event_list))+\")\",  end='\\r')\n",
    "    Result_Vector = np.array([TOF_out_E, TOF_in_E])\n",
    "    print(\"\\n\")\n",
    "    return Result_Vector\n",
    "\n",
    "def GRASP_hist(GRASP_vector, particle_ID, label):\n",
    "    GRASP_bin = []\n",
    "    Xaxis = [0, 50, 100, 150, 200, 250, 300, 350, 400, 450, 500, 550, 600, 650, 700, 750, 800, 850, 900, 950, 1000, 1050, 1100, 1150, 1200, 1250, 1300, 1350, 1400, 1450, 1500]\n",
    "    Xaxis = np.array(Xaxis) / number_of_nucleons(particle_ID)[1]\n",
    "    centersXaxis = Xaxis[:-1] + np.diff(Xaxis) / 2\n",
    "\n",
    "    for i in range(30):\n",
    "        GRASP_bin.append(400 * math.pi * len(GRASP_vector[np.logical_and(GRASP_vector>i*50, GRASP_vector<(i+1)*50)])/(Event_list[len(Event_list)-1]/30))\n",
    "        #GRASP_anti_He3_Inflight[i] = 400 * math.pi * len(anti_He3_Inflight[np.logical_and(anti_He3_Inflight>i*50, anti_He3_Inflight<(i+1)*50)])/(First_Evnets/30)\n",
    "\n",
    "    plt.stairs(GRASP_bin , Xaxis, baseline=None, label=label, alpha=0.99)\n",
    "\n",
    "def number_of_nucleons(particle_ID):\n",
    "    data = [[2212, 1000010020, 1000020030, -2212, -1000010020, -1000020030],\n",
    "            [1, 2, 3, 1, 2, 3]]\n",
    "    df = pd.DataFrame(data, columns=['proton', 'deuteron', 'helium3', 'antiproton', 'antideuteron', 'antihelium3'])\n",
    "    matching_columns = df.columns[df.eq(particle_ID).any()]\n",
    "    particle_info = df[matching_columns[0]]\n",
    "    return particle_info\n"
   ]
  },
  {
   "cell_type": "code",
   "execution_count": 188,
   "id": "6819ed0d-0295-413c-9d78-b8742afa8aef",
   "metadata": {},
   "outputs": [
    {
     "name": "stdout",
     "output_type": "stream",
     "text": [
      "Reading data...\n",
      "\n",
      "Toy Model data imported\n",
      "Found 21903 Events!\n",
      "Now processing (21902/21903)\n",
      " We got 4042 events selected\n",
      "Reading data...\n",
      "\n",
      "Toy Model data imported\n",
      "Found 21903 Events!\n",
      "Now processing (20862/20863)\n",
      " We got 3742 events selected\n"
     ]
    },
    {
     "data": {
      "image/png": "[encoded data removed]",
      "text/plain": [
       "<Figure size 1000x800 with 1 Axes>"
      ]
     },
     "metadata": {},
     "output_type": "display_data"
    }
   ],
   "source": [
    "# Create a new figure\n",
    "plt.figure(figsize=(10, 8))\n",
    "\n",
    "file_path_200 = '/home/jiancheng/GRAMS/toymodel_work/output/2023/GRASP_anti_deuteron_1e7_200cm.dat'\n",
    "label1 = '200cm width'\n",
    "plot_200 = GRASP_hist(Analyze_GRASP(read_data_from_toymodel(file_path_200) , -1000010020, stop_event=True), -1000010020, label1)\n",
    "\n",
    "file_path_73 = '/home/jiancheng/GRAMS/toymodel_work/output/2023/GRASP_anti_deuteron_1e7_73cm.dat'\n",
    "label2 = '73cm width'\n",
    "plot_100 = GRASP_hist(Analyze_GRASP(read_data_from_toymodel(file_path_73) , -1000010020, stop_event=True), -1000010020, label2)\n",
    "\n",
    "plt.xlabel(\"energy [MeV/n]\")\n",
    "plt.ylabel(\"GRASP [m^2 sr]\")\n",
    "plt.legend()\n",
    "plt.grid(alpha=0.2)\n",
    "plt.title('GRASP (Geometric Acceptance)')\n",
    "\n",
    "# Show the figure\n",
    "plt.show()\n",
    "\n",
    "    "
   ]
  },
  {
   "cell_type": "code",
   "execution_count": null,
   "id": "b786bdf5-c2fb-4068-b855-8d6d2088b956",
   "metadata": {},
   "outputs": [],
   "source": []
  },
  {
   "cell_type": "code",
   "execution_count": null,
   "id": "b33679aa-f23d-40ab-9372-8d9aab55fd1d",
   "metadata": {},
   "outputs": [],
   "source": []
  },
  {
   "cell_type": "code",
   "execution_count": null,
   "id": "a5f461d9-a800-4f79-873b-599087faa4bb",
   "metadata": {},
   "outputs": [],
   "source": []
  }
 ],
 "metadata": {
  "kernelspec": {
   "display_name": "Python 3 (ipykernel)",
   "language": "python",
   "name": "python3"
  },
  "language_info": {
   "codemirror_mode": {
    "name": "ipython",
    "version": 3
   },
   "file_extension": ".py",
   "mimetype": "text/x-python",
   "name": "python",
   "nbconvert_exporter": "python",
   "pygments_lexer": "ipython3",
   "version": "3.10.6"
  }
 },
 "nbformat": 4,
 "nbformat_minor": 5
}
